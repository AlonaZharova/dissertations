{
 "cells": [
  {
   "cell_type": "code",
   "execution_count": 1,
   "metadata": {},
   "outputs": [],
   "source": [
    "import numpy as np\n",
    "import pandas as pd\n",
    "import matplotlib.pyplot as plt\n",
    "from sklearn.preprocessing import StandardScaler\n",
    "from sklearn_pandas import DataFrameMapper\n",
    "\n",
    "import torch\n",
    "import torchtuples as tt\n",
    "\n",
    "from pycox.datasets import metabric\n",
    "from pycox.models import CoxTime\n",
    "from pycox.models.cox_time import MLPVanillaCoxTime\n",
    "from pycox.evaluation import EvalSurv"
   ]
  },
  {
   "cell_type": "code",
   "execution_count": 2,
   "metadata": {},
   "outputs": [],
   "source": [
    "np.random.seed(1234)\n",
    "_ = torch.manual_seed(123)"
   ]
  },
  {
   "cell_type": "code",
   "execution_count": 3,
   "metadata": {},
   "outputs": [],
   "source": [
    "data = pd.read_csv('C:\\\\Users\\\\raibe\\\\Desktop\\\\Thesis Code\\\\datasets\\\\mortgage\\\\WideFormatMortgageAfterRemovingNull.csv')"
   ]
  },
  {
   "cell_type": "code",
   "execution_count": 4,
   "metadata": {},
   "outputs": [],
   "source": [
    "data = data.drop([\"id\", \"first_time\", \"default_time\", \"status_time\", \"time\"], axis=1)"
   ]
  },
  {
   "cell_type": "code",
   "execution_count": 5,
   "metadata": {},
   "outputs": [
    {
     "data": {
      "text/html": [
       "<div>\n",
       "<style scoped>\n",
       "    .dataframe tbody tr th:only-of-type {\n",
       "        vertical-align: middle;\n",
       "    }\n",
       "\n",
       "    .dataframe tbody tr th {\n",
       "        vertical-align: top;\n",
       "    }\n",
       "\n",
       "    .dataframe thead th {\n",
       "        text-align: right;\n",
       "    }\n",
       "</style>\n",
       "<table border=\"1\" class=\"dataframe\">\n",
       "  <thead>\n",
       "    <tr style=\"text-align: right;\">\n",
       "      <th></th>\n",
       "      <th>duration</th>\n",
       "      <th>orig_time</th>\n",
       "      <th>mat_time</th>\n",
       "      <th>balance_time</th>\n",
       "      <th>LTV_time</th>\n",
       "      <th>interest_rate_time</th>\n",
       "      <th>hpi_time</th>\n",
       "      <th>gdp_time</th>\n",
       "      <th>uer_time</th>\n",
       "      <th>REtype_CO_orig_time</th>\n",
       "      <th>REtype_PU_orig_time</th>\n",
       "      <th>REtype_SF_orig_time</th>\n",
       "      <th>investor_orig_time</th>\n",
       "      <th>balance_orig_time</th>\n",
       "      <th>FICO_orig_time</th>\n",
       "      <th>LTV_orig_time</th>\n",
       "      <th>Interest_Rate_orig_time</th>\n",
       "      <th>hpi_orig_time</th>\n",
       "      <th>payoff_time</th>\n",
       "    </tr>\n",
       "  </thead>\n",
       "  <tbody>\n",
       "    <tr>\n",
       "      <th>0</th>\n",
       "      <td>24</td>\n",
       "      <td>-7</td>\n",
       "      <td>113</td>\n",
       "      <td>29087.21</td>\n",
       "      <td>26.658065</td>\n",
       "      <td>9.200</td>\n",
       "      <td>146.45</td>\n",
       "      <td>2.715903</td>\n",
       "      <td>8.3</td>\n",
       "      <td>0</td>\n",
       "      <td>0</td>\n",
       "      <td>1</td>\n",
       "      <td>0</td>\n",
       "      <td>45000.0</td>\n",
       "      <td>715</td>\n",
       "      <td>69.4</td>\n",
       "      <td>9.200</td>\n",
       "      <td>87.03</td>\n",
       "      <td>0</td>\n",
       "    </tr>\n",
       "    <tr>\n",
       "      <th>1</th>\n",
       "      <td>2</td>\n",
       "      <td>18</td>\n",
       "      <td>138</td>\n",
       "      <td>105654.77</td>\n",
       "      <td>65.469851</td>\n",
       "      <td>7.680</td>\n",
       "      <td>225.10</td>\n",
       "      <td>2.151365</td>\n",
       "      <td>4.7</td>\n",
       "      <td>0</td>\n",
       "      <td>0</td>\n",
       "      <td>1</td>\n",
       "      <td>0</td>\n",
       "      <td>107200.0</td>\n",
       "      <td>558</td>\n",
       "      <td>80.0</td>\n",
       "      <td>7.680</td>\n",
       "      <td>186.91</td>\n",
       "      <td>1</td>\n",
       "    </tr>\n",
       "    <tr>\n",
       "      <th>2</th>\n",
       "      <td>5</td>\n",
       "      <td>-6</td>\n",
       "      <td>114</td>\n",
       "      <td>44378.60</td>\n",
       "      <td>31.459735</td>\n",
       "      <td>11.375</td>\n",
       "      <td>217.37</td>\n",
       "      <td>1.692969</td>\n",
       "      <td>4.5</td>\n",
       "      <td>0</td>\n",
       "      <td>0</td>\n",
       "      <td>1</td>\n",
       "      <td>0</td>\n",
       "      <td>48600.0</td>\n",
       "      <td>680</td>\n",
       "      <td>83.6</td>\n",
       "      <td>8.750</td>\n",
       "      <td>89.58</td>\n",
       "      <td>1</td>\n",
       "    </tr>\n",
       "    <tr>\n",
       "      <th>3</th>\n",
       "      <td>36</td>\n",
       "      <td>-2</td>\n",
       "      <td>119</td>\n",
       "      <td>52686.35</td>\n",
       "      <td>34.898842</td>\n",
       "      <td>10.500</td>\n",
       "      <td>189.82</td>\n",
       "      <td>2.836358</td>\n",
       "      <td>5.7</td>\n",
       "      <td>0</td>\n",
       "      <td>0</td>\n",
       "      <td>1</td>\n",
       "      <td>0</td>\n",
       "      <td>63750.0</td>\n",
       "      <td>587</td>\n",
       "      <td>81.8</td>\n",
       "      <td>10.500</td>\n",
       "      <td>97.99</td>\n",
       "      <td>0</td>\n",
       "    </tr>\n",
       "    <tr>\n",
       "      <th>4</th>\n",
       "      <td>3</td>\n",
       "      <td>18</td>\n",
       "      <td>138</td>\n",
       "      <td>52100.71</td>\n",
       "      <td>66.346343</td>\n",
       "      <td>9.155</td>\n",
       "      <td>222.39</td>\n",
       "      <td>2.361722</td>\n",
       "      <td>4.4</td>\n",
       "      <td>0</td>\n",
       "      <td>0</td>\n",
       "      <td>1</td>\n",
       "      <td>0</td>\n",
       "      <td>52800.0</td>\n",
       "      <td>527</td>\n",
       "      <td>80.0</td>\n",
       "      <td>9.155</td>\n",
       "      <td>186.91</td>\n",
       "      <td>1</td>\n",
       "    </tr>\n",
       "  </tbody>\n",
       "</table>\n",
       "</div>"
      ],
      "text/plain": [
       "   duration  orig_time  mat_time  balance_time   LTV_time  interest_rate_time  \\\n",
       "0        24         -7       113      29087.21  26.658065               9.200   \n",
       "1         2         18       138     105654.77  65.469851               7.680   \n",
       "2         5         -6       114      44378.60  31.459735              11.375   \n",
       "3        36         -2       119      52686.35  34.898842              10.500   \n",
       "4         3         18       138      52100.71  66.346343               9.155   \n",
       "\n",
       "   hpi_time  gdp_time  uer_time  REtype_CO_orig_time  REtype_PU_orig_time  \\\n",
       "0    146.45  2.715903       8.3                    0                    0   \n",
       "1    225.10  2.151365       4.7                    0                    0   \n",
       "2    217.37  1.692969       4.5                    0                    0   \n",
       "3    189.82  2.836358       5.7                    0                    0   \n",
       "4    222.39  2.361722       4.4                    0                    0   \n",
       "\n",
       "   REtype_SF_orig_time  investor_orig_time  balance_orig_time  FICO_orig_time  \\\n",
       "0                    1                   0            45000.0             715   \n",
       "1                    1                   0           107200.0             558   \n",
       "2                    1                   0            48600.0             680   \n",
       "3                    1                   0            63750.0             587   \n",
       "4                    1                   0            52800.0             527   \n",
       "\n",
       "   LTV_orig_time  Interest_Rate_orig_time  hpi_orig_time  payoff_time  \n",
       "0           69.4                    9.200          87.03            0  \n",
       "1           80.0                    7.680         186.91            1  \n",
       "2           83.6                    8.750          89.58            1  \n",
       "3           81.8                   10.500          97.99            0  \n",
       "4           80.0                    9.155         186.91            1  "
      ]
     },
     "execution_count": 5,
     "metadata": {},
     "output_type": "execute_result"
    }
   ],
   "source": [
    "data.head()"
   ]
  },
  {
   "cell_type": "code",
   "execution_count": 6,
   "metadata": {},
   "outputs": [],
   "source": [
    "df_train = data\n",
    "df_test = df_train.sample(frac=0.2)\n",
    "df_train = df_train.drop(df_test.index)\n",
    "df_val = df_train.sample(frac=0.2)\n",
    "df_train = df_train.drop(df_val.index)"
   ]
  },
  {
   "cell_type": "code",
   "execution_count": null,
   "metadata": {},
   "outputs": [],
   "source": [
    "max(df_val['duration'])"
   ]
  },
  {
   "cell_type": "code",
   "execution_count": 7,
   "metadata": {},
   "outputs": [],
   "source": [
    "cols_standardize = ['orig_time', 'mat_time', 'balance_time', 'LTV_time', 'interest_rate_time', 'hpi_time', 'gdp_time', 'uer_time', 'balance_orig_time', \n",
    "                    'FICO_orig_time', 'LTV_orig_time', 'Interest_Rate_orig_time', 'hpi_orig_time']\n",
    "cols_leave = ['REtype_CO_orig_time', 'REtype_PU_orig_time', 'REtype_SF_orig_time', 'investor_orig_time']#, 'duration', 'default_time'\n",
    "\n",
    "standardize = [([col], StandardScaler()) for col in cols_standardize]\n",
    "leave = [(col, None) for col in cols_leave]\n",
    "\n",
    "x_mapper = DataFrameMapper(standardize + leave)"
   ]
  },
  {
   "cell_type": "code",
   "execution_count": 8,
   "metadata": {},
   "outputs": [],
   "source": [
    "x_train = x_mapper.fit_transform(df_train).astype('float32')\n",
    "x_val = x_mapper.transform(df_val).astype('float32')\n",
    "x_test = x_mapper.transform(df_test).astype('float32')"
   ]
  },
  {
   "cell_type": "code",
   "execution_count": 10,
   "metadata": {},
   "outputs": [],
   "source": [
    "labtrans = CoxTime.label_transform()\n",
    "get_target = lambda df: (df['duration'].values, df['payoff_time'].values)\n",
    "y_train = labtrans.fit_transform(*get_target(df_train))\n",
    "y_val = labtrans.transform(*get_target(df_val))\n",
    "durations_test, events_test = get_target(df_test)\n",
    "val = tt.tuplefy(x_val, y_val)"
   ]
  },
  {
   "cell_type": "code",
   "execution_count": null,
   "metadata": {},
   "outputs": [],
   "source": [
    "val.shapes()"
   ]
  },
  {
   "cell_type": "code",
   "execution_count": null,
   "metadata": {},
   "outputs": [],
   "source": [
    "val.repeat(2).cat().shapes()"
   ]
  },
  {
   "cell_type": "code",
   "execution_count": 11,
   "metadata": {},
   "outputs": [],
   "source": [
    "in_features = x_train.shape[1]\n",
    "num_nodes = [256, 256, 256, 256]\n",
    "batch_norm = True\n",
    "dropout = 0.1\n",
    "net = MLPVanillaCoxTime(in_features, num_nodes, batch_norm, dropout)"
   ]
  },
  {
   "cell_type": "code",
   "execution_count": 12,
   "metadata": {},
   "outputs": [
    {
     "name": "stderr",
     "output_type": "stream",
     "text": [
      "C:\\Users\\raibe\\Anaconda3\\lib\\site-packages\\torch\\cuda\\__init__.py:52: UserWarning: CUDA initialization: Found no NVIDIA driver on your system. Please check that you have an NVIDIA GPU and installed a driver from http://www.nvidia.com/Download/index.aspx (Triggered internally at  ..\\c10\\cuda\\CUDAFunctions.cpp:100.)\n",
      "  return torch._C._cuda_getDeviceCount() > 0\n"
     ]
    }
   ],
   "source": [
    "model = CoxTime(net, tt.optim.Adam, labtrans=labtrans)"
   ]
  },
  {
   "cell_type": "code",
   "execution_count": 13,
   "metadata": {},
   "outputs": [
    {
     "data": {
      "image/png": "[encoded data removed]",
      "text/plain": [
       "<Figure size 432x288 with 1 Axes>"
      ]
     },
     "metadata": {
      "needs_background": "light"
     },
     "output_type": "display_data"
    }
   ],
   "source": [
    "batch_size = 128\n",
    "lrfinder = model.lr_finder(x_train, y_train, batch_size, tolerance=2)\n",
    "_ = lrfinder.plot()"
   ]
  },
  {
   "cell_type": "code",
   "execution_count": null,
   "metadata": {},
   "outputs": [],
   "source": [
    "lrfinder.get_best_lr()"
   ]
  },
  {
   "cell_type": "code",
   "execution_count": 14,
   "metadata": {},
   "outputs": [],
   "source": [
    "model.optimizer.set_lr(0.001)"
   ]
  },
  {
   "cell_type": "code",
   "execution_count": 15,
   "metadata": {},
   "outputs": [],
   "source": [
    "epochs = 512\n",
    "callbacks = [tt.callbacks.EarlyStopping()]\n",
    "verbose = True"
   ]
  },
  {
   "cell_type": "code",
   "execution_count": 16,
   "metadata": {},
   "outputs": [
    {
     "name": "stdout",
     "output_type": "stream",
     "text": [
      "0:\t[2s / 2s],\t\ttrain_loss: 0.3664,\tval_loss: 0.3072\n",
      "1:\t[2s / 5s],\t\ttrain_loss: 0.2836,\tval_loss: 0.2692\n",
      "2:\t[3s / 8s],\t\ttrain_loss: 0.2643,\tval_loss: 0.2723\n",
      "3:\t[3s / 11s],\t\ttrain_loss: 0.2496,\tval_loss: 0.2529\n",
      "4:\t[3s / 15s],\t\ttrain_loss: 0.2421,\tval_loss: 0.2450\n",
      "5:\t[3s / 18s],\t\ttrain_loss: 0.2335,\tval_loss: 0.2356\n",
      "6:\t[3s / 22s],\t\ttrain_loss: 0.2347,\tval_loss: 0.2273\n",
      "7:\t[4s / 26s],\t\ttrain_loss: 0.2206,\tval_loss: 0.2241\n",
      "8:\t[5s / 32s],\t\ttrain_loss: 0.2235,\tval_loss: 0.2121\n",
      "9:\t[6s / 38s],\t\ttrain_loss: 0.2204,\tval_loss: 0.2274\n",
      "10:\t[4s / 43s],\t\ttrain_loss: 0.2158,\tval_loss: 0.2160\n",
      "11:\t[4s / 48s],\t\ttrain_loss: 0.2121,\tval_loss: 0.2129\n",
      "12:\t[4s / 53s],\t\ttrain_loss: 0.2082,\tval_loss: 0.2071\n",
      "13:\t[4s / 58s],\t\ttrain_loss: 0.2069,\tval_loss: 0.2166\n",
      "14:\t[4s / 1m:3s],\t\ttrain_loss: 0.2055,\tval_loss: 0.2147\n",
      "15:\t[4s / 1m:8s],\t\ttrain_loss: 0.2061,\tval_loss: 0.2116\n",
      "16:\t[5s / 1m:13s],\t\ttrain_loss: 0.2035,\tval_loss: 0.2192\n",
      "17:\t[4s / 1m:18s],\t\ttrain_loss: 0.2015,\tval_loss: 0.2108\n",
      "18:\t[4s / 1m:23s],\t\ttrain_loss: 0.2048,\tval_loss: 0.2131\n",
      "19:\t[4s / 1m:27s],\t\ttrain_loss: 0.2014,\tval_loss: 0.2015\n",
      "20:\t[4s / 1m:32s],\t\ttrain_loss: 0.2001,\tval_loss: 0.2129\n",
      "21:\t[4s / 1m:37s],\t\ttrain_loss: 0.2034,\tval_loss: 0.2051\n",
      "22:\t[4s / 1m:42s],\t\ttrain_loss: 0.1970,\tval_loss: 0.2126\n",
      "23:\t[4s / 1m:47s],\t\ttrain_loss: 0.1897,\tval_loss: 0.2040\n",
      "24:\t[5s / 1m:52s],\t\ttrain_loss: 0.1949,\tval_loss: 0.2034\n",
      "25:\t[4s / 1m:57s],\t\ttrain_loss: 0.2004,\tval_loss: 0.2065\n",
      "26:\t[4s / 2m:2s],\t\ttrain_loss: 0.1898,\tval_loss: 0.1988\n",
      "27:\t[4s / 2m:7s],\t\ttrain_loss: 0.1916,\tval_loss: 0.1977\n",
      "28:\t[4s / 2m:12s],\t\ttrain_loss: 0.1928,\tval_loss: 0.2127\n",
      "29:\t[4s / 2m:17s],\t\ttrain_loss: 0.1892,\tval_loss: 0.2033\n",
      "30:\t[4s / 2m:22s],\t\ttrain_loss: 0.1880,\tval_loss: 0.2042\n",
      "31:\t[5s / 2m:27s],\t\ttrain_loss: 0.1861,\tval_loss: 0.2038\n",
      "32:\t[5s / 2m:32s],\t\ttrain_loss: 0.1851,\tval_loss: 0.1992\n",
      "33:\t[4s / 2m:37s],\t\ttrain_loss: 0.1836,\tval_loss: 0.2001\n",
      "34:\t[5s / 2m:42s],\t\ttrain_loss: 0.1834,\tval_loss: 0.2014\n",
      "35:\t[5s / 2m:48s],\t\ttrain_loss: 0.1829,\tval_loss: 0.1993\n",
      "36:\t[6s / 2m:54s],\t\ttrain_loss: 0.1877,\tval_loss: 0.1983\n",
      "37:\t[5s / 3m:0s],\t\ttrain_loss: 0.1785,\tval_loss: 0.2154\n",
      "Wall time: 3min\n"
     ]
    }
   ],
   "source": [
    "%%time\n",
    "log = model.fit(x_train, y_train, batch_size, epochs, callbacks, verbose,\n",
    "                val_data=val.repeat(10).cat())"
   ]
  },
  {
   "cell_type": "code",
   "execution_count": 17,
   "metadata": {},
   "outputs": [
    {
     "data": {
      "image/png": "[encoded data removed]",
      "text/plain": [
       "<Figure size 432x288 with 1 Axes>"
      ]
     },
     "metadata": {
      "needs_background": "light"
     },
     "output_type": "display_data"
    }
   ],
   "source": [
    "_ = log.plot()"
   ]
  },
  {
   "cell_type": "code",
   "execution_count": 18,
   "metadata": {},
   "outputs": [
    {
     "data": {
      "text/plain": [
       "-6.850159327026385"
      ]
     },
     "execution_count": 18,
     "metadata": {},
     "output_type": "execute_result"
    }
   ],
   "source": [
    "model.partial_log_likelihood(*val).mean()"
   ]
  },
  {
   "cell_type": "code",
   "execution_count": 19,
   "metadata": {},
   "outputs": [],
   "source": [
    "_ = model.compute_baseline_hazards()"
   ]
  },
  {
   "cell_type": "code",
   "execution_count": 20,
   "metadata": {},
   "outputs": [],
   "source": [
    "surv = model.predict_surv_df(x_test)"
   ]
  },
  {
   "cell_type": "code",
   "execution_count": null,
   "metadata": {},
   "outputs": [],
   "source": [
    "surv.iloc[:, :5].plot()\n",
    "plt.ylabel('S(t | x)')\n",
    "_ = plt.xlabel('Time')"
   ]
  },
  {
   "cell_type": "code",
   "execution_count": 21,
   "metadata": {},
   "outputs": [
    {
     "data": {
      "text/plain": [
       "0.9039149429812372"
      ]
     },
     "execution_count": 21,
     "metadata": {},
     "output_type": "execute_result"
    }
   ],
   "source": [
    "ev = EvalSurv(surv, durations_test, events_test, censor_surv='km')\n",
    "ev.concordance_td()"
   ]
  },
  {
   "cell_type": "code",
   "execution_count": null,
   "metadata": {},
   "outputs": [],
   "source": [
    "time_grid = np.linspace(durations_test.min(), durations_test.max(), 60)\n",
    "ev.brier_score(time_grid).plot()\n",
    "plt.ylabel('Brier score')\n",
    "_ = plt.xlabel('Time')"
   ]
  },
  {
   "cell_type": "code",
   "execution_count": null,
   "metadata": {},
   "outputs": [],
   "source": [
    "ev.integrated_brier_score(time_grid) "
   ]
  }
 ],
 "metadata": {
  "kernelspec": {
   "display_name": "Python 3",
   "language": "python",
   "name": "python3"
  },
  "language_info": {
   "codemirror_mode": {
    "name": "ipython",
    "version": 3
   },
   "file_extension": ".py",
   "mimetype": "text/x-python",
   "name": "python",
   "nbconvert_exporter": "python",
   "pygments_lexer": "ipython3",
   "version": "3.7.9"
  }
 },
 "nbformat": 4,
 "nbformat_minor": 4
}
