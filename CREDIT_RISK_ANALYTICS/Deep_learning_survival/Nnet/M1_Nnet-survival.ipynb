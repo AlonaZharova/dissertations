{
 "cells": [
  {
   "cell_type": "code",
   "execution_count": 1,
   "metadata": {},
   "outputs": [],
   "source": [
    "import numpy as np\n",
    "import matplotlib.pyplot as plt\n",
    "import pandas as pd\n",
    "\n",
    "# For preprocessing\n",
    "from sklearn.preprocessing import StandardScaler\n",
    "from sklearn_pandas import DataFrameMapper \n",
    "\n",
    "import torch # For building the networks \n",
    "import torchtuples as tt # Some useful functions\n",
    "\n",
    "from pycox.datasets import metabric\n",
    "from pycox.models import LogisticHazard\n",
    "from pycox.evaluation import EvalSurv\n",
    "\n",
    "np.random.seed(1234)\n",
    "_ = torch.manual_seed(123)"
   ]
  },
  {
   "cell_type": "code",
   "execution_count": 2,
   "metadata": {},
   "outputs": [],
   "source": [
    "data = pd.read_csv('C:\\\\Users\\\\raibe\\\\Desktop\\\\Thesis Code\\\\datasets\\\\mortgage\\\\WideFormatMortgageAfterRemovingNull.csv')"
   ]
  },
  {
   "cell_type": "code",
   "execution_count": 3,
   "metadata": {},
   "outputs": [],
   "source": [
    "data = data.drop([\"id\", \"first_time\", \"default_time\", \"status_time\", \"time\"], axis=1)"
   ]
  },
  {
   "cell_type": "code",
   "execution_count": 4,
   "metadata": {},
   "outputs": [
    {
     "data": {
      "text/html": [
       "<div>\n",
       "<style scoped>\n",
       "    .dataframe tbody tr th:only-of-type {\n",
       "        vertical-align: middle;\n",
       "    }\n",
       "\n",
       "    .dataframe tbody tr th {\n",
       "        vertical-align: top;\n",
       "    }\n",
       "\n",
       "    .dataframe thead th {\n",
       "        text-align: right;\n",
       "    }\n",
       "</style>\n",
       "<table border=\"1\" class=\"dataframe\">\n",
       "  <thead>\n",
       "    <tr style=\"text-align: right;\">\n",
       "      <th></th>\n",
       "      <th>duration</th>\n",
       "      <th>orig_time</th>\n",
       "      <th>mat_time</th>\n",
       "      <th>balance_time</th>\n",
       "      <th>LTV_time</th>\n",
       "      <th>interest_rate_time</th>\n",
       "      <th>hpi_time</th>\n",
       "      <th>gdp_time</th>\n",
       "      <th>uer_time</th>\n",
       "      <th>REtype_CO_orig_time</th>\n",
       "      <th>REtype_PU_orig_time</th>\n",
       "      <th>REtype_SF_orig_time</th>\n",
       "      <th>investor_orig_time</th>\n",
       "      <th>balance_orig_time</th>\n",
       "      <th>FICO_orig_time</th>\n",
       "      <th>LTV_orig_time</th>\n",
       "      <th>Interest_Rate_orig_time</th>\n",
       "      <th>hpi_orig_time</th>\n",
       "      <th>payoff_time</th>\n",
       "    </tr>\n",
       "  </thead>\n",
       "  <tbody>\n",
       "    <tr>\n",
       "      <th>0</th>\n",
       "      <td>24</td>\n",
       "      <td>-7</td>\n",
       "      <td>113</td>\n",
       "      <td>29087.21</td>\n",
       "      <td>26.658065</td>\n",
       "      <td>9.200</td>\n",
       "      <td>146.45</td>\n",
       "      <td>2.715903</td>\n",
       "      <td>8.3</td>\n",
       "      <td>0</td>\n",
       "      <td>0</td>\n",
       "      <td>1</td>\n",
       "      <td>0</td>\n",
       "      <td>45000.0</td>\n",
       "      <td>715</td>\n",
       "      <td>69.4</td>\n",
       "      <td>9.200</td>\n",
       "      <td>87.03</td>\n",
       "      <td>0</td>\n",
       "    </tr>\n",
       "    <tr>\n",
       "      <th>1</th>\n",
       "      <td>2</td>\n",
       "      <td>18</td>\n",
       "      <td>138</td>\n",
       "      <td>105654.77</td>\n",
       "      <td>65.469851</td>\n",
       "      <td>7.680</td>\n",
       "      <td>225.10</td>\n",
       "      <td>2.151365</td>\n",
       "      <td>4.7</td>\n",
       "      <td>0</td>\n",
       "      <td>0</td>\n",
       "      <td>1</td>\n",
       "      <td>0</td>\n",
       "      <td>107200.0</td>\n",
       "      <td>558</td>\n",
       "      <td>80.0</td>\n",
       "      <td>7.680</td>\n",
       "      <td>186.91</td>\n",
       "      <td>1</td>\n",
       "    </tr>\n",
       "    <tr>\n",
       "      <th>2</th>\n",
       "      <td>5</td>\n",
       "      <td>-6</td>\n",
       "      <td>114</td>\n",
       "      <td>44378.60</td>\n",
       "      <td>31.459735</td>\n",
       "      <td>11.375</td>\n",
       "      <td>217.37</td>\n",
       "      <td>1.692969</td>\n",
       "      <td>4.5</td>\n",
       "      <td>0</td>\n",
       "      <td>0</td>\n",
       "      <td>1</td>\n",
       "      <td>0</td>\n",
       "      <td>48600.0</td>\n",
       "      <td>680</td>\n",
       "      <td>83.6</td>\n",
       "      <td>8.750</td>\n",
       "      <td>89.58</td>\n",
       "      <td>1</td>\n",
       "    </tr>\n",
       "    <tr>\n",
       "      <th>3</th>\n",
       "      <td>36</td>\n",
       "      <td>-2</td>\n",
       "      <td>119</td>\n",
       "      <td>52686.35</td>\n",
       "      <td>34.898842</td>\n",
       "      <td>10.500</td>\n",
       "      <td>189.82</td>\n",
       "      <td>2.836358</td>\n",
       "      <td>5.7</td>\n",
       "      <td>0</td>\n",
       "      <td>0</td>\n",
       "      <td>1</td>\n",
       "      <td>0</td>\n",
       "      <td>63750.0</td>\n",
       "      <td>587</td>\n",
       "      <td>81.8</td>\n",
       "      <td>10.500</td>\n",
       "      <td>97.99</td>\n",
       "      <td>0</td>\n",
       "    </tr>\n",
       "    <tr>\n",
       "      <th>4</th>\n",
       "      <td>3</td>\n",
       "      <td>18</td>\n",
       "      <td>138</td>\n",
       "      <td>52100.71</td>\n",
       "      <td>66.346343</td>\n",
       "      <td>9.155</td>\n",
       "      <td>222.39</td>\n",
       "      <td>2.361722</td>\n",
       "      <td>4.4</td>\n",
       "      <td>0</td>\n",
       "      <td>0</td>\n",
       "      <td>1</td>\n",
       "      <td>0</td>\n",
       "      <td>52800.0</td>\n",
       "      <td>527</td>\n",
       "      <td>80.0</td>\n",
       "      <td>9.155</td>\n",
       "      <td>186.91</td>\n",
       "      <td>1</td>\n",
       "    </tr>\n",
       "  </tbody>\n",
       "</table>\n",
       "</div>"
      ],
      "text/plain": [
       "   duration  orig_time  mat_time  balance_time   LTV_time  interest_rate_time  \\\n",
       "0        24         -7       113      29087.21  26.658065               9.200   \n",
       "1         2         18       138     105654.77  65.469851               7.680   \n",
       "2         5         -6       114      44378.60  31.459735              11.375   \n",
       "3        36         -2       119      52686.35  34.898842              10.500   \n",
       "4         3         18       138      52100.71  66.346343               9.155   \n",
       "\n",
       "   hpi_time  gdp_time  uer_time  REtype_CO_orig_time  REtype_PU_orig_time  \\\n",
       "0    146.45  2.715903       8.3                    0                    0   \n",
       "1    225.10  2.151365       4.7                    0                    0   \n",
       "2    217.37  1.692969       4.5                    0                    0   \n",
       "3    189.82  2.836358       5.7                    0                    0   \n",
       "4    222.39  2.361722       4.4                    0                    0   \n",
       "\n",
       "   REtype_SF_orig_time  investor_orig_time  balance_orig_time  FICO_orig_time  \\\n",
       "0                    1                   0            45000.0             715   \n",
       "1                    1                   0           107200.0             558   \n",
       "2                    1                   0            48600.0             680   \n",
       "3                    1                   0            63750.0             587   \n",
       "4                    1                   0            52800.0             527   \n",
       "\n",
       "   LTV_orig_time  Interest_Rate_orig_time  hpi_orig_time  payoff_time  \n",
       "0           69.4                    9.200          87.03            0  \n",
       "1           80.0                    7.680         186.91            1  \n",
       "2           83.6                    8.750          89.58            1  \n",
       "3           81.8                   10.500          97.99            0  \n",
       "4           80.0                    9.155         186.91            1  "
      ]
     },
     "execution_count": 4,
     "metadata": {},
     "output_type": "execute_result"
    }
   ],
   "source": [
    "data.head()"
   ]
  },
  {
   "cell_type": "code",
   "execution_count": 5,
   "metadata": {},
   "outputs": [],
   "source": [
    "df_train = data\n",
    "df_test = df_train.sample(frac=0.2)\n",
    "df_train = df_train.drop(df_test.index)\n",
    "df_val = df_train.sample(frac=0.2)\n",
    "df_train = df_train.drop(df_val.index)"
   ]
  },
  {
   "cell_type": "code",
   "execution_count": 6,
   "metadata": {},
   "outputs": [],
   "source": [
    "cols_standardize = ['orig_time', 'mat_time', 'balance_time', 'LTV_time', 'interest_rate_time', 'hpi_time', 'gdp_time', 'uer_time', 'balance_orig_time', \n",
    "                    'FICO_orig_time', 'LTV_orig_time', 'Interest_Rate_orig_time', 'hpi_orig_time']\n",
    "cols_leave = ['REtype_CO_orig_time', 'REtype_PU_orig_time', 'REtype_SF_orig_time', 'investor_orig_time']#, 'duration', 'default_time'\n",
    "\n",
    "standardize = [([col], StandardScaler()) for col in cols_standardize]\n",
    "leave = [(col, None) for col in cols_leave]\n",
    "\n",
    "x_mapper = DataFrameMapper(standardize + leave)\n",
    "\n",
    "x_train = x_mapper.fit_transform(df_train).astype('float32')\n",
    "x_val = x_mapper.transform(df_val).astype('float32')\n",
    "x_test = x_mapper.transform(df_test).astype('float32')"
   ]
  },
  {
   "cell_type": "code",
   "execution_count": 7,
   "metadata": {},
   "outputs": [],
   "source": [
    "num_durations = 25\n",
    "\n",
    "labtrans = LogisticHazard.label_transform(num_durations)\n",
    "\n",
    "get_target = lambda df: (df['duration'].values, df['payoff_time'].values)\n",
    "y_train = labtrans.fit_transform(*get_target(df_train))\n",
    "y_val = labtrans.transform(*get_target(df_val))\n",
    "\n",
    "train = (x_train, y_train)\n",
    "val = (x_val, y_val)\n",
    "\n",
    "# We don't need to transform the test labels\n",
    "durations_test, events_test = get_target(df_test)"
   ]
  },
  {
   "cell_type": "code",
   "execution_count": 8,
   "metadata": {},
   "outputs": [],
   "source": [
    "in_features = x_train.shape[1]\n",
    "num_nodes = [256, 256, 256, 256]\n",
    "out_features = labtrans.out_features\n",
    "batch_norm = True\n",
    "dropout = 0.1\n",
    "\n",
    "net = tt.practical.MLPVanilla(in_features, num_nodes, out_features, batch_norm, dropout)"
   ]
  },
  {
   "cell_type": "code",
   "execution_count": 9,
   "metadata": {},
   "outputs": [
    {
     "name": "stderr",
     "output_type": "stream",
     "text": [
      "C:\\Users\\raibe\\Anaconda3\\lib\\site-packages\\torch\\cuda\\__init__.py:52: UserWarning: CUDA initialization: Found no NVIDIA driver on your system. Please check that you have an NVIDIA GPU and installed a driver from http://www.nvidia.com/Download/index.aspx (Triggered internally at  ..\\c10\\cuda\\CUDAFunctions.cpp:100.)\n",
      "  return torch._C._cuda_getDeviceCount() > 0\n"
     ]
    }
   ],
   "source": [
    "model = LogisticHazard(net, tt.optim.Adam(0.01), duration_index=labtrans.cuts)"
   ]
  },
  {
   "cell_type": "code",
   "execution_count": 10,
   "metadata": {},
   "outputs": [],
   "source": [
    "batch_size = 256\n",
    "epochs = 100\n",
    "callbacks = [tt.cb.EarlyStopping()]"
   ]
  },
  {
   "cell_type": "code",
   "execution_count": 11,
   "metadata": {},
   "outputs": [
    {
     "name": "stdout",
     "output_type": "stream",
     "text": [
      "0:\t[1s / 1s],\t\ttrain_loss: 1.2011,\tval_loss: 0.8890\n",
      "1:\t[2s / 3s],\t\ttrain_loss: 0.8811,\tval_loss: 0.8076\n",
      "2:\t[2s / 6s],\t\ttrain_loss: 0.8399,\tval_loss: 0.7728\n",
      "3:\t[2s / 8s],\t\ttrain_loss: 0.8073,\tval_loss: 0.7535\n",
      "4:\t[1s / 10s],\t\ttrain_loss: 0.7797,\tval_loss: 0.6958\n",
      "5:\t[2s / 12s],\t\ttrain_loss: 0.7528,\tval_loss: 0.7199\n",
      "6:\t[2s / 15s],\t\ttrain_loss: 0.7393,\tval_loss: 0.7299\n",
      "7:\t[2s / 17s],\t\ttrain_loss: 0.7192,\tval_loss: 0.6711\n",
      "8:\t[2s / 20s],\t\ttrain_loss: 0.7159,\tval_loss: 0.6566\n",
      "9:\t[2s / 23s],\t\ttrain_loss: 0.7019,\tval_loss: 0.6474\n",
      "10:\t[2s / 25s],\t\ttrain_loss: 0.6890,\tval_loss: 0.6090\n",
      "11:\t[2s / 28s],\t\ttrain_loss: 0.6832,\tval_loss: 0.6325\n",
      "12:\t[2s / 30s],\t\ttrain_loss: 0.6773,\tval_loss: 0.6471\n",
      "13:\t[2s / 33s],\t\ttrain_loss: 0.6642,\tval_loss: 0.6225\n",
      "14:\t[2s / 35s],\t\ttrain_loss: 0.6645,\tval_loss: 0.6086\n",
      "15:\t[2s / 38s],\t\ttrain_loss: 0.6441,\tval_loss: 0.5955\n",
      "16:\t[2s / 40s],\t\ttrain_loss: 0.6410,\tval_loss: 0.5937\n",
      "17:\t[2s / 43s],\t\ttrain_loss: 0.6361,\tval_loss: 0.6391\n",
      "18:\t[2s / 45s],\t\ttrain_loss: 0.6349,\tval_loss: 0.5919\n",
      "19:\t[2s / 48s],\t\ttrain_loss: 0.6300,\tval_loss: 0.5913\n",
      "20:\t[3s / 51s],\t\ttrain_loss: 0.6213,\tval_loss: 0.5858\n",
      "21:\t[3s / 55s],\t\ttrain_loss: 0.6251,\tval_loss: 0.5811\n",
      "22:\t[3s / 58s],\t\ttrain_loss: 0.6040,\tval_loss: 0.5888\n",
      "23:\t[4s / 1m:3s],\t\ttrain_loss: 0.6132,\tval_loss: 0.5880\n",
      "24:\t[4s / 1m:7s],\t\ttrain_loss: 0.5988,\tval_loss: 0.5749\n",
      "25:\t[4s / 1m:11s],\t\ttrain_loss: 0.5986,\tval_loss: 0.5805\n",
      "26:\t[4s / 1m:15s],\t\ttrain_loss: 0.5935,\tval_loss: 0.5991\n",
      "27:\t[3s / 1m:19s],\t\ttrain_loss: 0.5909,\tval_loss: 0.5798\n",
      "28:\t[2s / 1m:21s],\t\ttrain_loss: 0.5827,\tval_loss: 0.5842\n",
      "29:\t[2s / 1m:24s],\t\ttrain_loss: 0.5774,\tval_loss: 0.5729\n",
      "30:\t[2s / 1m:26s],\t\ttrain_loss: 0.5829,\tval_loss: 0.5962\n",
      "31:\t[3s / 1m:29s],\t\ttrain_loss: 0.5756,\tval_loss: 0.5887\n",
      "32:\t[2s / 1m:32s],\t\ttrain_loss: 0.5705,\tval_loss: 0.5659\n",
      "33:\t[2s / 1m:35s],\t\ttrain_loss: 0.5666,\tval_loss: 0.5799\n",
      "34:\t[3s / 1m:38s],\t\ttrain_loss: 0.5593,\tval_loss: 0.5565\n",
      "35:\t[3s / 1m:42s],\t\ttrain_loss: 0.5543,\tval_loss: 0.5562\n",
      "36:\t[4s / 1m:46s],\t\ttrain_loss: 0.5595,\tval_loss: 0.5661\n",
      "37:\t[4s / 1m:50s],\t\ttrain_loss: 0.5508,\tval_loss: 0.5842\n",
      "38:\t[4s / 1m:54s],\t\ttrain_loss: 0.5529,\tval_loss: 0.5666\n",
      "39:\t[4s / 1m:59s],\t\ttrain_loss: 0.5479,\tval_loss: 0.5640\n",
      "40:\t[4s / 2m:3s],\t\ttrain_loss: 0.5425,\tval_loss: 0.5534\n",
      "41:\t[3s / 2m:6s],\t\ttrain_loss: 0.5376,\tval_loss: 0.5516\n",
      "42:\t[2s / 2m:9s],\t\ttrain_loss: 0.5391,\tval_loss: 0.5546\n",
      "43:\t[3s / 2m:12s],\t\ttrain_loss: 0.5326,\tval_loss: 0.5411\n",
      "44:\t[3s / 2m:15s],\t\ttrain_loss: 0.5305,\tval_loss: 0.5622\n",
      "45:\t[3s / 2m:19s],\t\ttrain_loss: 0.5323,\tval_loss: 0.5539\n",
      "46:\t[3s / 2m:22s],\t\ttrain_loss: 0.5217,\tval_loss: 0.5614\n",
      "47:\t[3s / 2m:26s],\t\ttrain_loss: 0.5223,\tval_loss: 0.5639\n",
      "48:\t[3s / 2m:29s],\t\ttrain_loss: 0.5218,\tval_loss: 0.5604\n",
      "49:\t[3s / 2m:32s],\t\ttrain_loss: 0.5187,\tval_loss: 0.5777\n",
      "50:\t[3s / 2m:36s],\t\ttrain_loss: 0.5120,\tval_loss: 0.5552\n",
      "51:\t[3s / 2m:40s],\t\ttrain_loss: 0.5161,\tval_loss: 0.5645\n",
      "52:\t[3s / 2m:43s],\t\ttrain_loss: 0.5099,\tval_loss: 0.5652\n",
      "53:\t[3s / 2m:46s],\t\ttrain_loss: 0.5156,\tval_loss: 0.5611\n"
     ]
    }
   ],
   "source": [
    "log = model.fit(x_train, y_train, batch_size, epochs, callbacks, val_data=val)"
   ]
  },
  {
   "cell_type": "code",
   "execution_count": 12,
   "metadata": {},
   "outputs": [
    {
     "data": {
      "image/png": "[encoded data removed]",
      "text/plain": [
       "<Figure size 432x288 with 1 Axes>"
      ]
     },
     "metadata": {
      "needs_background": "light"
     },
     "output_type": "display_data"
    }
   ],
   "source": [
    "_ = log.plot()"
   ]
  },
  {
   "cell_type": "code",
   "execution_count": 13,
   "metadata": {},
   "outputs": [
    {
     "data": {
      "text/plain": [
       "0.5411251187324524"
      ]
     },
     "execution_count": 13,
     "metadata": {},
     "output_type": "execute_result"
    }
   ],
   "source": [
    "log.to_pandas().val_loss.min()"
   ]
  },
  {
   "cell_type": "code",
   "execution_count": 14,
   "metadata": {},
   "outputs": [
    {
     "data": {
      "text/plain": [
       "{'loss': 0.5411251187324524}"
      ]
     },
     "execution_count": 14,
     "metadata": {},
     "output_type": "execute_result"
    }
   ],
   "source": [
    "model.score_in_batches(val)"
   ]
  },
  {
   "cell_type": "code",
   "execution_count": 15,
   "metadata": {},
   "outputs": [],
   "source": [
    "surv = model.predict_surv_df(x_test)"
   ]
  },
  {
   "cell_type": "code",
   "execution_count": 16,
   "metadata": {},
   "outputs": [],
   "source": [
    "surv = model.interpolate(10).predict_surv_df(x_test)"
   ]
  },
  {
   "cell_type": "code",
   "execution_count": 17,
   "metadata": {},
   "outputs": [],
   "source": [
    "ev = EvalSurv(surv, durations_test, events_test, censor_surv='km')"
   ]
  },
  {
   "cell_type": "code",
   "execution_count": 18,
   "metadata": {},
   "outputs": [
    {
     "data": {
      "text/plain": [
       "0.9177190558309727"
      ]
     },
     "execution_count": 18,
     "metadata": {},
     "output_type": "execute_result"
    }
   ],
   "source": [
    "ev.concordance_td()"
   ]
  }
 ],
 "metadata": {
  "kernelspec": {
   "display_name": "Python 3",
   "language": "python",
   "name": "python3"
  },
  "language_info": {
   "codemirror_mode": {
    "name": "ipython",
    "version": 3
   },
   "file_extension": ".py",
   "mimetype": "text/x-python",
   "name": "python",
   "nbconvert_exporter": "python",
   "pygments_lexer": "ipython3",
   "version": "3.7.9"
  }
 },
 "nbformat": 4,
 "nbformat_minor": 4
}
