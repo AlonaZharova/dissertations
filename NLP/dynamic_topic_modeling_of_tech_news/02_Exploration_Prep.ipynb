{
 "cells": [
  {
   "cell_type": "markdown",
   "metadata": {
    "id": "8_YhHkMQpZwo",
    "pycharm": {
     "name": "#%% md\n"
    }
   },
   "source": [
    "# Data Exploration and General Preprocessing"
   ]
  },
  {
   "cell_type": "markdown",
   "metadata": {
    "id": "B7pCq_LRpZwt",
    "pycharm": {
     "name": "#%% md\n"
    }
   },
   "source": [
    "## Libraries and Settings"
   ]
  },
  {
   "cell_type": "code",
   "execution_count": null,
   "metadata": {
    "id": "HO20bTjZpZwu",
    "pycharm": {
     "name": "#%%\n"
    }
   },
   "outputs": [],
   "source": [
    "import ast\n",
    "from bs4 import BeautifulSoup\n",
    "import collections\n",
    "from collections import Counter\n",
    "import html\n",
    "import matplotlib.pyplot as plt\n",
    "import numpy as np\n",
    "import os\n",
    "from os.path import join, exists\n",
    "import pandas as pd\n",
    "import regex as re\n",
    "\n",
    "pd.set_option('display.width', 200)\n",
    "pd.set_option('display.max_columns', 50)\n",
    "pd.set_option('display.max_rows', None)\n",
    "plt.close()\n",
    "plt.interactive(True)"
   ]
  },
  {
   "cell_type": "markdown",
   "metadata": {
    "id": "ZNMzGlAZpZww",
    "pycharm": {
     "name": "#%% md\n"
    }
   },
   "source": [
    "## Directories"
   ]
  },
  {
   "cell_type": "code",
   "execution_count": null,
   "metadata": {
    "id": "JQt4V7eJpZww",
    "pycharm": {
     "name": "#%%\n"
    }
   },
   "outputs": [],
   "source": [
    "os.chdir('/Users/M/Google_Drive/Thesis/Topic-Modeling')\n",
    "data_dir = 'Data/Technology-Data/'"
   ]
  },
  {
   "cell_type": "markdown",
   "metadata": {
    "id": "QXQanMC6pZwx",
    "pycharm": {
     "name": "#%% md\n"
    }
   },
   "source": [
    "## Load Data"
   ]
  },
  {
   "cell_type": "code",
   "execution_count": null,
   "metadata": {
    "id": "--PABuvMpZwy",
    "pycharm": {
     "name": "#%%\n"
    }
   },
   "outputs": [],
   "source": [
    "csv_filename = os.path.join(data_dir,'raw','raw.csv')\n",
    "news = pd.read_csv(csv_filename, sep=\";\", index_col=0)"
   ]
  },
  {
   "cell_type": "markdown",
   "metadata": {
    "id": "R-6oGBcHpZwz"
   },
   "source": [
    "## Explore & Pre-process"
   ]
  },
  {
   "cell_type": "markdown",
   "metadata": {
    "id": "G49S3JVwpZxG",
    "pycharm": {
     "name": "#%% md\n"
    }
   },
   "source": [
    "### Missing values"
   ]
  },
  {
   "cell_type": "code",
   "execution_count": null,
   "metadata": {
    "id": "lAKly4SXpZxI",
    "outputId": "4b7c6f5e-d2a1-4d91-e120-484799bc61b6"
   },
   "outputs": [],
   "source": [
    "print(news.shape)"
   ]
  },
  {
   "cell_type": "code",
   "execution_count": null,
   "metadata": {
    "id": "VNok72hApZxI",
    "outputId": "cfb5eb2a-ee91-4376-ba1e-7e52df124a1e",
    "pycharm": {
     "name": "#%%\n"
    }
   },
   "outputs": [],
   "source": [
    "print(news.isna().sum().sort_values(ascending=False))"
   ]
  },
  {
   "cell_type": "markdown",
   "metadata": {
    "id": "P6tKB9CJpZxL"
   },
   "source": [
    "### Duplicates"
   ]
  },
  {
   "cell_type": "code",
   "execution_count": null,
   "metadata": {
    "id": "NdWBfqIypZxM",
    "outputId": "26ca4489-8c2c-4c0e-df85-4e2c1667fa40",
    "pycharm": {
     "name": "#%%\n"
    }
   },
   "outputs": [],
   "source": [
    "print('Every article has a unique ID?',len(news['id'].unique()) == len(news))"
   ]
  },
  {
   "cell_type": "code",
   "execution_count": null,
   "metadata": {
    "id": "aHG8STEKpZxN",
    "outputId": "38480f0f-6551-4ab2-cc60-df7fc85d1155",
    "pycharm": {
     "name": "#%%\n"
    }
   },
   "outputs": [],
   "source": [
    "print('Duplicates: ', sum(news.drop(['filename','id'], axis=1).duplicated()))"
   ]
  },
  {
   "cell_type": "markdown",
   "metadata": {
    "id": "gjkiE6Q-pZxN",
    "pycharm": {
     "name": "#%% md\n"
    }
   },
   "source": [
    "### Publication"
   ]
  },
  {
   "cell_type": "code",
   "execution_count": null,
   "metadata": {
    "id": "DVyGCaF3pZxO",
    "outputId": "f15d92a1-eef7-41cc-96cf-96818f1ca36d",
    "pycharm": {
     "name": "#%%\n"
    }
   },
   "outputs": [],
   "source": [
    "print(news['publication'].value_counts())"
   ]
  },
  {
   "cell_type": "markdown",
   "metadata": {
    "id": "zLUavRQ5pZxP",
    "pycharm": {
     "name": "#%% md\n"
    }
   },
   "source": [
    "### Date Variables / Exploration & New Variables"
   ]
  },
  {
   "cell_type": "markdown",
   "metadata": {
    "id": "9iUEV_DxpZxP",
    "pycharm": {
     "name": "#%% md\n"
    }
   },
   "source": [
    "There are multiple date variables available.\n",
    "Except for newspaperEditionDate, they initially even include a timestamp.\n",
    "The number of articles across the years in the selected time horizon fluctuates a lot and needs to be explored."
   ]
  },
  {
   "cell_type": "code",
   "execution_count": null,
   "metadata": {
    "id": "zOQ-9W9rpZxP",
    "pycharm": {
     "name": "#%%\n"
    }
   },
   "outputs": [],
   "source": [
    "date_cols = ['webPublicationDate', 'newspaperEditionDate', 'firstPublicationDate']"
   ]
  },
  {
   "cell_type": "code",
   "execution_count": null,
   "metadata": {
    "id": "CajcA0qnpZxQ",
    "pycharm": {
     "name": "#%%\n"
    }
   },
   "outputs": [],
   "source": [
    "news[date_cols] = news[date_cols].apply(pd.to_datetime)\n",
    "for col in date_cols:\n",
    "    news[col] = pd.to_datetime(news[col].dt.date)"
   ]
  },
  {
   "cell_type": "code",
   "execution_count": null,
   "metadata": {
    "id": "womZz6XjpZxR",
    "outputId": "0365cf9c-a9ea-4ce0-a49f-5552f18d7568"
   },
   "outputs": [],
   "source": [
    "print(news[date_cols].isna().sum())"
   ]
  },
  {
   "cell_type": "markdown",
   "metadata": {
    "id": "98MUvhBYpZxZ"
   },
   "source": [
    "#### webPublicationDate"
   ]
  },
  {
   "cell_type": "code",
   "execution_count": null,
   "metadata": {
    "id": "9jbPOs9cpZxa",
    "outputId": "a0b2cbc4-a2f7-4c55-b860-815b1c363786"
   },
   "outputs": [],
   "source": [
    "news['webPublicationDate'].dt.year.value_counts().sort_index()"
   ]
  },
  {
   "cell_type": "markdown",
   "metadata": {
    "id": "t4nVtKbepZxa"
   },
   "source": [
    "There are a few days where larger numbers of articles have been published:"
   ]
  },
  {
   "cell_type": "code",
   "execution_count": null,
   "metadata": {
    "id": "BuUZwildpZxa",
    "outputId": "d55f81c6-761a-4f2e-fb24-5b0564350aa0"
   },
   "outputs": [],
   "source": [
    "news['webPublicationDate'].value_counts().head(5)"
   ]
  },
  {
   "cell_type": "code",
   "execution_count": null,
   "metadata": {
    "id": "h1Tr0hyFpZxb",
    "outputId": "107746a7-b141-48cd-a960-b91967c9c65c"
   },
   "outputs": [],
   "source": [
    "news['webPublicationDate'].hist();"
   ]
  },
  {
   "cell_type": "markdown",
   "metadata": {
    "id": "TAV4-pYxpZxc"
   },
   "source": [
    "Most articles were published on a Thursday (Monday=0,Sunday=6):"
   ]
  },
  {
   "cell_type": "code",
   "execution_count": null,
   "metadata": {
    "id": "jghnDCG6pZxc",
    "outputId": "7e719ca0-b098-4d74-bdf6-2c46449843e3"
   },
   "outputs": [],
   "source": [
    "news['webPublicationDate'].dt.dayofweek.value_counts().sort_index()"
   ]
  },
  {
   "cell_type": "markdown",
   "metadata": {
    "id": "k0BqvH83pZxc"
   },
   "source": [
    "In comparison to newspaperEditionDate: most articles occur on the same or the following day. But there are a few much larger differences:"
   ]
  },
  {
   "cell_type": "code",
   "execution_count": null,
   "metadata": {
    "id": "vhCLjqdipZxc",
    "pycharm": {
     "name": "#%%\n"
    }
   },
   "outputs": [],
   "source": [
    "news['from_WebPub_until_Newspaper'] = (news['newspaperEditionDate'] - news['webPublicationDate']).dt.days"
   ]
  },
  {
   "cell_type": "code",
   "execution_count": null,
   "metadata": {
    "id": "xJv2XyaCpZxd",
    "outputId": "c9c65b24-6705-47a7-96bf-b942ad497fe3"
   },
   "outputs": [],
   "source": [
    "news['from_WebPub_until_Newspaper'].value_counts().head(5)"
   ]
  },
  {
   "cell_type": "code",
   "execution_count": null,
   "metadata": {
    "id": "5gwo3ZWSpZxd",
    "outputId": "aa4ee3e1-071b-424e-c41f-29579c1572c5"
   },
   "outputs": [],
   "source": [
    "news['from_WebPub_until_Newspaper'].value_counts().tail(5)"
   ]
  },
  {
   "cell_type": "markdown",
   "metadata": {
    "id": "030ifZ8gpZxe"
   },
   "source": [
    "#### firstPublicationDate:\n",
    "Missing values in the firstPublicationDate can not be tracked down to just one publication format:"
   ]
  },
  {
   "cell_type": "code",
   "execution_count": null,
   "metadata": {
    "id": "1UwN_6FfpZxf",
    "outputId": "e49a054b-cdb7-4057-d007-5189eac03624",
    "pycharm": {
     "name": "#%%\n"
    }
   },
   "outputs": [],
   "source": [
    "print('% NA:', news['firstPublicationDate'].isna().sum() / len(news))"
   ]
  },
  {
   "cell_type": "code",
   "execution_count": null,
   "metadata": {
    "id": "MFnFRNxipZxf",
    "outputId": "7d6ee378-5196-4e26-ea01-27a30ba801ed",
    "pycharm": {
     "name": "#%%\n"
    }
   },
   "outputs": [],
   "source": [
    "print(news.loc[~news['firstPublicationDate'].isna(), 'publication'].value_counts())"
   ]
  },
  {
   "cell_type": "markdown",
   "metadata": {
    "id": "ODYT_mP_pZxf"
   },
   "source": [
    "firstPublicationDate has apparently only been recorded for articles published later than 2011:"
   ]
  },
  {
   "cell_type": "code",
   "execution_count": null,
   "metadata": {
    "id": "vn0uZInhpZxh",
    "outputId": "460211f0-e15c-41cd-86d2-93b9f4eda4f5",
    "pycharm": {
     "name": "#%%\n"
    }
   },
   "outputs": [],
   "source": [
    "print(news['firstPublicationDate'].dt.year.value_counts().sort_index())"
   ]
  },
  {
   "cell_type": "code",
   "execution_count": null,
   "metadata": {
    "id": "fmihDUz0pZxi",
    "outputId": "3f1486c2-19b3-4b1b-85b3-5f39061ad2ea",
    "pycharm": {
     "name": "#%%\n"
    }
   },
   "outputs": [],
   "source": [
    "print('There are %d cases where the firstPublicationDate has date values later than the webPublicationDate: \\n' % (\n",
    "    len(news[news['firstPublicationDate'] > news['webPublicationDate']])))"
   ]
  },
  {
   "cell_type": "markdown",
   "metadata": {
    "id": "Q5ZL7_x8pZxi"
   },
   "source": [
    "#### Earliest Date:"
   ]
  },
  {
   "cell_type": "markdown",
   "metadata": {
    "id": "j3WH34okpZxj"
   },
   "source": [
    "In most cases, the earliest date is webPublicationDate (which also has the least missing values)."
   ]
  },
  {
   "cell_type": "code",
   "execution_count": null,
   "metadata": {
    "id": "h44UvaK0pZxj",
    "outputId": "3548e590-cc68-4238-b35e-da4dbd97b786",
    "pycharm": {
     "name": "#%%\n"
    }
   },
   "outputs": [],
   "source": [
    "news['min_date'] = news[['webPublicationDate', 'newspaperEditionDate', 'firstPublicationDate']].min(axis=1, skipna=True)\n",
    "news['min_date_type'] = news[['webPublicationDate', 'newspaperEditionDate', 'firstPublicationDate']].idxmin(axis=1,skipna=True)\n",
    "print(news['min_date_type'].value_counts())"
   ]
  },
  {
   "cell_type": "code",
   "execution_count": null,
   "metadata": {
    "id": "D9miSb1NpZxj",
    "outputId": "e6051053-ebd9-413c-bd16-2df2312452a0"
   },
   "outputs": [],
   "source": [
    "news['min_date'].hist()"
   ]
  },
  {
   "cell_type": "markdown",
   "metadata": {
    "id": "vyK9R9BupZxk"
   },
   "source": [
    "#### Final Timestamp\n",
    "Use the year of the earliest date."
   ]
  },
  {
   "cell_type": "code",
   "execution_count": null,
   "metadata": {
    "id": "HiorL7O0pZxk",
    "pycharm": {
     "name": "#%%\n"
    }
   },
   "outputs": [],
   "source": [
    "news['year'] = news['min_date'].dt.year"
   ]
  },
  {
   "cell_type": "code",
   "execution_count": null,
   "metadata": {
    "id": "Upe-JuYnpZxk",
    "outputId": "d8e7e33b-b606-4494-a509-c6ba301975a7"
   },
   "outputs": [],
   "source": [
    "news['year'].value_counts().sort_index()"
   ]
  },
  {
   "cell_type": "markdown",
   "metadata": {
    "id": "pRvOIDUKpZxm"
   },
   "source": [
    "### charCount & wordCount"
   ]
  },
  {
   "cell_type": "code",
   "execution_count": null,
   "metadata": {
    "id": "xIBffAKopZxn",
    "outputId": "7fcaf856-0471-4493-9651-2529d0356131",
    "pycharm": {
     "name": "#%%\n"
    }
   },
   "outputs": [],
   "source": [
    "news['charCount'].value_counts()[:5]"
   ]
  },
  {
   "cell_type": "code",
   "execution_count": null,
   "metadata": {
    "id": "IxFkKhhLpZxo",
    "outputId": "b2957cab-416f-4523-86d6-2ae2f6a9330e",
    "pycharm": {
     "name": "#%%\n"
    }
   },
   "outputs": [],
   "source": [
    "if len(news[(news['charCount'] == 0) & ~(news['bodyText'].isna())]) == 0:\n",
    "    print('There are no documents where charCount is 0 but bodyText contains a value. Remove those documents')\n",
    "    news = news[news['charCount']!=0]"
   ]
  },
  {
   "cell_type": "code",
   "execution_count": null,
   "metadata": {
    "id": "3_Bt1j7wpZxp",
    "outputId": "ddd17bfd-d579-4545-cbb7-b3e3ed5fd888",
    "pycharm": {
     "name": "#%%\n"
    }
   },
   "outputs": [],
   "source": [
    "news['charCount'].hist(bins=100);"
   ]
  },
  {
   "cell_type": "code",
   "execution_count": null,
   "metadata": {
    "id": "yKL3shtVpZxp",
    "outputId": "98f563b3-6cf9-4853-d2d9-1d92aba8da7f"
   },
   "outputs": [],
   "source": [
    "news.loc[news['charCount']<10, ['wordcount','headline','bodyText']]"
   ]
  },
  {
   "cell_type": "code",
   "execution_count": null,
   "metadata": {
    "id": "IXf5UrZTpZxr",
    "outputId": "76b1032a-b4cb-4d16-cb89-5ef488417480"
   },
   "outputs": [],
   "source": [
    "news.loc[news['wordcount']<5, 'bodyText'].tail()"
   ]
  },
  {
   "cell_type": "code",
   "execution_count": null,
   "metadata": {
    "id": "FubroITspZxr"
   },
   "outputs": [],
   "source": [
    "news = news[news['wordcount']>=10]"
   ]
  },
  {
   "cell_type": "markdown",
   "metadata": {
    "id": "kLEugXZQpZxs"
   },
   "source": [
    "### Text Exploration & Creation of Text Variable"
   ]
  },
  {
   "cell_type": "markdown",
   "metadata": {
    "id": "kirFq9tCpZxs"
   },
   "source": [
    "#### bodyText"
   ]
  },
  {
   "cell_type": "markdown",
   "metadata": {
    "id": "QWBVsma1pZxs"
   },
   "source": [
    "Mark bodyText of actually empty articles as np.nan and remove duplicates"
   ]
  },
  {
   "cell_type": "code",
   "execution_count": null,
   "metadata": {
    "id": "OuOiIar4pZxs",
    "pycharm": {
     "name": "#%%\n"
    }
   },
   "outputs": [],
   "source": [
    "news['bodyText'].replace(r'^\\s*$', np.nan, regex=True, inplace=True)"
   ]
  },
  {
   "cell_type": "code",
   "execution_count": null,
   "metadata": {
    "id": "-AXrJ4wOpZxt",
    "outputId": "cc5d7361-947c-41c3-81f0-f60b1bc1c434"
   },
   "outputs": [],
   "source": [
    "print(news['bodyText'].isna().sum())"
   ]
  },
  {
   "cell_type": "code",
   "execution_count": null,
   "metadata": {
    "id": "WNaI21aQpZxu",
    "pycharm": {
     "is_executing": true,
     "name": "#%%\n"
    }
   },
   "outputs": [],
   "source": [
    "news = news.sort_values(by='year')\n",
    "news.drop_duplicates(subset='bodyText', keep='first', inplace=True)"
   ]
  },
  {
   "cell_type": "markdown",
   "metadata": {
    "id": "Yqk5R4KKpZxu"
   },
   "source": [
    "#### headline"
   ]
  },
  {
   "cell_type": "code",
   "execution_count": null,
   "metadata": {
    "id": "S3YvnGxrpZxv"
   },
   "outputs": [],
   "source": [
    "news['headline'].replace(r'^\\s*$', np.nan, regex=True, inplace=True)"
   ]
  },
  {
   "cell_type": "code",
   "execution_count": null,
   "metadata": {
    "id": "SydnQ3jzpZxv",
    "outputId": "ff677007-8a77-4c8a-8d32-443846f51850",
    "pycharm": {
     "name": "#%%\n"
    }
   },
   "outputs": [],
   "source": [
    "print(news['headline'].isna().sum())"
   ]
  },
  {
   "cell_type": "markdown",
   "metadata": {
    "id": "5wXp6B9IpZxv"
   },
   "source": [
    "There are a few headlines that occur very often. They will be removed."
   ]
  },
  {
   "cell_type": "code",
   "execution_count": null,
   "metadata": {
    "id": "NS7NvurOpZxv",
    "outputId": "20bda7d0-c9fc-45d3-eccf-5f3f3ab38f32"
   },
   "outputs": [],
   "source": [
    "news['headline'].value_counts()[:10]"
   ]
  },
  {
   "cell_type": "code",
   "execution_count": null,
   "metadata": {
    "id": "rM2b-Px0pZxw"
   },
   "outputs": [],
   "source": [
    "news.loc[news['headline'].value_counts()[news['headline']].values > 1, 'headline'] = np.nan"
   ]
  },
  {
   "cell_type": "markdown",
   "metadata": {
    "id": "8e0aZl5GpZxw"
   },
   "source": [
    "Specifically exclude articles that were contributions from readers (Feedback):"
   ]
  },
  {
   "cell_type": "code",
   "execution_count": null,
   "metadata": {
    "id": "X12nlgXhpZxw",
    "outputId": "ab92a7a3-757a-4064-a6bc-34564ee87873"
   },
   "outputs": [],
   "source": [
    "news.loc[news['headline'].str.contains(\"week's letters|Feedback:|Letters and blogs\", na=False), 'headline'].value_counts().head(5)"
   ]
  },
  {
   "cell_type": "code",
   "execution_count": null,
   "metadata": {
    "id": "WDPlaMnYpZxx"
   },
   "outputs": [],
   "source": [
    "news = news.loc[~news['headline'].str.contains(\"week's letters|Feedback:|Letters and blogs\", na=False)]"
   ]
  },
  {
   "cell_type": "markdown",
   "metadata": {
    "id": "vlGvl_k6pZxx",
    "pycharm": {
     "name": "#%% md\n"
    }
   },
   "source": [
    "#### trailText"
   ]
  },
  {
   "cell_type": "markdown",
   "metadata": {
    "id": "DZMVW5orpZxx",
    "pycharm": {
     "name": "#%% md\n"
    }
   },
   "source": [
    "trailText is the lead paragraph of an article. Some are empty and some contain recurring texts that do not seem relevant for the content of an article."
   ]
  },
  {
   "cell_type": "code",
   "execution_count": null,
   "metadata": {
    "id": "FAbJlD2CpZxx",
    "pycharm": {
     "name": "#%%\n"
    }
   },
   "outputs": [],
   "source": [
    "news['trailText'] = news['trailText'].str.replace('<[^<]+?>', '')\n",
    "news['trailText'].replace(r'^\\s*$', np.nan, regex=True, inplace=True)"
   ]
  },
  {
   "cell_type": "markdown",
   "metadata": {
    "id": "BjV-hb-9pZxx"
   },
   "source": [
    "reoccurring trailTexts (do not seem to be relevant for the content)"
   ]
  },
  {
   "cell_type": "code",
   "execution_count": null,
   "metadata": {
    "id": "byrNnJ2kpZxx",
    "outputId": "67bc819e-ee86-4d32-db25-43f7e26617a1",
    "pycharm": {
     "name": "#%%\n"
    }
   },
   "outputs": [],
   "source": [
    "print(news['trailText'].value_counts()[:3])"
   ]
  },
  {
   "cell_type": "code",
   "execution_count": null,
   "metadata": {
    "id": "TGWKhrm0pZxz"
   },
   "outputs": [],
   "source": [
    "news['trailText'].fillna(' ', inplace=True)\n",
    "news.loc[news['trailText'].isin(news['trailText'].value_counts()[news['trailText'].value_counts()>1].index),'trailText'] = np.nan\n",
    "news.loc[news['trailText']== ' ', 'trailText'] = np.nan"
   ]
  },
  {
   "cell_type": "code",
   "execution_count": null,
   "metadata": {
    "id": "IfvXK7yJpZxz",
    "outputId": "b903c2cb-d848-4796-85a2-5718abb8d23a"
   },
   "outputs": [],
   "source": [
    "news.trailText.isna().sum()"
   ]
  },
  {
   "cell_type": "markdown",
   "metadata": {
    "id": "FswJ-UN0pZx0",
    "pycharm": {
     "name": "#%% md\n"
    }
   },
   "source": [
    "Analyse common beginnings of the lead paragraph (arbitrary choice of the first 3 words).\n",
    "Usually, it is the names of authors. They will be removed later."
   ]
  },
  {
   "cell_type": "code",
   "execution_count": null,
   "metadata": {
    "id": "b2_Bv-2CpZx0"
   },
   "outputs": [],
   "source": [
    "trailtext_starters = [str(trailer.split()[:3]) for trailer in news['trailText'].dropna()]"
   ]
  },
  {
   "cell_type": "code",
   "execution_count": null,
   "metadata": {
    "id": "hmTEXZjvpZx0"
   },
   "outputs": [],
   "source": [
    "trailtext_counter = collections.Counter(trailtext_starters)"
   ]
  },
  {
   "cell_type": "code",
   "execution_count": null,
   "metadata": {
    "id": "qEWny4_EpZx0",
    "outputId": "196ce46e-a453-4f6c-bbef-8457b3b06e83"
   },
   "outputs": [],
   "source": [
    "trailtext_counter.most_common(5)"
   ]
  },
  {
   "cell_type": "markdown",
   "metadata": {
    "id": "lm45JZxEpZx1"
   },
   "source": [
    "#### New Variable: text"
   ]
  },
  {
   "cell_type": "markdown",
   "metadata": {
    "id": "2hTRXZwupZx1",
    "pycharm": {
     "name": "#%% md\n"
    }
   },
   "source": [
    "Analyse where trailText is already included in bodyText. Most of the time this happens at the beginning of bodyText"
   ]
  },
  {
   "cell_type": "code",
   "execution_count": null,
   "metadata": {
    "id": "wY1F6i0opZx1",
    "outputId": "088f2b8a-eb54-4814-f6de-3b85e732facd",
    "pycharm": {
     "name": "#%%\n"
    }
   },
   "outputs": [],
   "source": [
    "print(news[['bodyText','trailText']].dropna().apply(lambda x: x.trailText in x.bodyText, axis=1).value_counts())"
   ]
  },
  {
   "cell_type": "code",
   "execution_count": null,
   "metadata": {
    "id": "4Y175NVjpZx1",
    "outputId": "edcf68e3-6daf-4228-f464-1412d69e98d8"
   },
   "outputs": [],
   "source": [
    "print(news[['bodyText','trailText']].dropna().apply(lambda x: x.bodyText.startswith(x.trailText), axis=1).value_counts())"
   ]
  },
  {
   "cell_type": "code",
   "execution_count": null,
   "metadata": {
    "id": "2-6YYPJWpZx2",
    "pycharm": {
     "name": "#%%\n"
    }
   },
   "outputs": [],
   "source": [
    "news.update(news[['bodyText','trailText']].fillna(''))\n",
    "news['trail_in_body'] = news[['bodyText','trailText']].apply(lambda x: x.bodyText.startswith(str(x.trailText)), axis=1)"
   ]
  },
  {
   "cell_type": "code",
   "execution_count": null,
   "metadata": {
    "id": "Z7Y_nCk2pZx3",
    "pycharm": {
     "name": "#%%\n"
    }
   },
   "outputs": [],
   "source": [
    "news.loc[news['trail_in_body'], 'text'] = news.loc[news['trail_in_body'], 'bodyText']\n",
    "news.loc[~news['trail_in_body'], 'text'] = news.loc[~news['trail_in_body'], 'trailText'] + '. ' + news.loc[~news['trail_in_body'], 'bodyText']"
   ]
  },
  {
   "cell_type": "markdown",
   "metadata": {
    "id": "kb-a0rsxpZx3"
   },
   "source": [
    "Analyse where the headline is already placed at the beginning of the current column \"text\":"
   ]
  },
  {
   "cell_type": "code",
   "execution_count": null,
   "metadata": {
    "id": "PSvxBOIPpZx3",
    "outputId": "09340a29-8ac4-4c81-a1b6-d352fe4637d2",
    "pycharm": {
     "name": "#%%\n"
    }
   },
   "outputs": [],
   "source": [
    "news['header_in_text'] = news[['headline','text']].apply(lambda x: str(x.text).startswith(str(x.headline)), axis=1)\n",
    "print(news['header_in_text'].value_counts())"
   ]
  },
  {
   "cell_type": "code",
   "execution_count": null,
   "metadata": {
    "id": "hFVkscBDpZx4",
    "outputId": "ec57309c-dd4e-42a7-e07b-6972e224ce21"
   },
   "outputs": [],
   "source": [
    "news.loc[news['header_in_text'],['headline','text']].tail(2)"
   ]
  },
  {
   "cell_type": "markdown",
   "metadata": {
    "id": "p8qH3AAgpZx5",
    "pycharm": {
     "name": "#%% md\n"
    }
   },
   "source": [
    "Add the headline to the text:"
   ]
  },
  {
   "cell_type": "code",
   "execution_count": null,
   "metadata": {
    "id": "zT3R7mUkpZx5",
    "pycharm": {
     "name": "#%%\n"
    }
   },
   "outputs": [],
   "source": [
    "news.loc[news['header_in_text'], 'text'] = news.loc[news['header_in_text'], 'text']\n",
    "news.loc[~news['header_in_text'], 'text'] = news.loc[~news['header_in_text'], 'headline'] + '. ' + news.loc[~news['header_in_text'], 'text']"
   ]
  },
  {
   "cell_type": "markdown",
   "metadata": {
    "id": "AMafA5PBpZx6"
   },
   "source": [
    "#### Remove names of authors"
   ]
  },
  {
   "cell_type": "code",
   "execution_count": null,
   "metadata": {
    "id": "60Kkp1LmpZx6",
    "pycharm": {
     "name": "#%%\n"
    }
   },
   "outputs": [],
   "source": [
    "authors = list(news['author'].dropna())\n",
    "authors = [ast.literal_eval(art_authors) for art_authors in authors]\n",
    "author_set = [author for author_list in authors for author in author_list]\n",
    "author_set = list(set(author_set))"
   ]
  },
  {
   "cell_type": "code",
   "execution_count": null,
   "metadata": {
    "id": "C6hodPRupZx6",
    "outputId": "b464137d-a302-404c-8bfa-5299686390d6"
   },
   "outputs": [],
   "source": [
    "author_set[:5]"
   ]
  },
  {
   "cell_type": "code",
   "execution_count": null,
   "metadata": {
    "id": "OaFNPfpmpZx7",
    "outputId": "4ac4d171-c9bb-46a8-b15f-ff5d17c1883b"
   },
   "outputs": [],
   "source": [
    "len(author_set)"
   ]
  },
  {
   "cell_type": "code",
   "execution_count": null,
   "metadata": {
    "id": "UBJc3q9IpZx7"
   },
   "outputs": [],
   "source": [
    "news['text'] = news['text'].str.replace('|'.join(author_set), '')"
   ]
  },
  {
   "cell_type": "markdown",
   "metadata": {
    "id": "i0G1QJTPpZx7"
   },
   "source": [
    "#### HTML unescape"
   ]
  },
  {
   "cell_type": "code",
   "execution_count": null,
   "metadata": {
    "id": "WNJQ8uj2pZx7",
    "outputId": "917b8a7c-f7cc-44b7-f9a2-f222de52ef79"
   },
   "outputs": [],
   "source": [
    "print('Example: ', html.unescape(\"Cr&eacute;dit Suisse // relationship with AT&amp;T, the telecommunications group // £ $\"))"
   ]
  },
  {
   "cell_type": "code",
   "execution_count": null,
   "metadata": {
    "id": "eA_Cl-2SpZx7"
   },
   "outputs": [],
   "source": [
    "news['text'] = news['text'].astype('str').apply(html.unescape)"
   ]
  },
  {
   "cell_type": "markdown",
   "metadata": {
    "id": "N30XwXhYpZx8",
    "pycharm": {
     "name": "#%% md\n"
    }
   },
   "source": [
    "#### Remove hyperlink strings"
   ]
  },
  {
   "cell_type": "code",
   "execution_count": null,
   "metadata": {
    "id": "jy3XZYRIpZx8"
   },
   "outputs": [],
   "source": [
    "news['text'] = news['text'].str.split()\n",
    "hyperlink_recognizers = ['@', '.net', '.org', 'www', 'http', '.com', 'co.uk', 'gov.uk']"
   ]
  },
  {
   "cell_type": "code",
   "execution_count": null,
   "metadata": {
    "id": "NLHo4lZfpZx9"
   },
   "outputs": [],
   "source": [
    "news.reset_index(inplace=True)\n",
    "for idx, text in news['text'].iteritems():\n",
    "    text = ['guardian_link_placeholder' if (any(x in w for x in hyperlink_recognizers) and \"guardian\" in w) else w for w in text]\n",
    "    text = [w for w in text if not any(x in w for x in hyperlink_recognizers)]\n",
    "    news.loc[idx,'text'] = \" \".join(text)"
   ]
  },
  {
   "cell_type": "markdown",
   "metadata": {
    "id": "XfHfRepspZyA"
   },
   "source": [
    "#### Remove common The Guardian sentences \n",
    "They usually occur at the end of an article. Remove them if they occur more than once."
   ]
  },
  {
   "cell_type": "code",
   "execution_count": null,
   "metadata": {
    "id": "jQLJoW80pZyA"
   },
   "outputs": [],
   "source": [
    "guardian_sentences = []\n",
    "guardian_sentence_identifiers = ['guardian', 'technology newsbucket', 'technology newsbucket', 'tech weekly', 'free delicious service', 'for more information, go to ']\n",
    "for a in news['text']:\n",
    "    for s in re.split('[.?·•:]', a):\n",
    "        if any(identifier in s.lower() for identifier in guardian_sentence_identifiers):\n",
    "            guardian_sentences.append(s)"
   ]
  },
  {
   "cell_type": "code",
   "execution_count": null,
   "metadata": {
    "id": "900gf9DdpZyA",
    "outputId": "7cde2532-b2f0-4c5a-dd4e-66ec5c6f6ca8"
   },
   "outputs": [],
   "source": [
    "Counter(guardian_sentences).most_common(5)"
   ]
  },
  {
   "cell_type": "code",
   "execution_count": null,
   "metadata": {
    "id": "BNts-hmhpZyB",
    "outputId": "6f79a37a-66cf-4c88-e3ae-1c61141ec110"
   },
   "outputs": [],
   "source": [
    "Counter(guardian_sentences).most_common()[-3:]"
   ]
  },
  {
   "cell_type": "code",
   "execution_count": null,
   "metadata": {
    "id": "gRf7O_UxpZyB"
   },
   "outputs": [],
   "source": [
    "def remove_element(lst, threshold): \n",
    "    counter = Counter(lst) \n",
    "    temp_lst = [] \n",
    "    for c in counter: \n",
    "        if counter[c] < threshold: \n",
    "            temp_lst.append(c) \n",
    "    res_lst = [] \n",
    "    for l in lst: \n",
    "        if l not in temp_lst: \n",
    "            res_lst.append(l)   \n",
    "    return(res_lst) \n",
    "\n",
    "guardian_sentences = remove_element(guardian_sentences, 2)\n",
    "guardian_sentences_set = list(set(guardian_sentences))\n",
    "guardian_sentences_set.sort(key=len, reverse=True)\n",
    "news['text'] = news['text'].str.replace('|'.join([re.escape(s) for s in guardian_sentences_set]), ' ')"
   ]
  },
  {
   "cell_type": "markdown",
   "metadata": {
    "id": "qMHSCVrlpZyB"
   },
   "source": [
    "#### Lengths of Texts"
   ]
  },
  {
   "cell_type": "code",
   "execution_count": null,
   "metadata": {
    "id": "sIoGuQUVpZyC"
   },
   "outputs": [],
   "source": [
    "news['textLength'] = news['text'].str.split().str.len()"
   ]
  },
  {
   "cell_type": "code",
   "execution_count": null,
   "metadata": {
    "id": "mspExlCMpZyD",
    "outputId": "d6a0d9bf-3fe5-4695-d233-692b299273c0"
   },
   "outputs": [],
   "source": [
    "news['textLength'].plot(title='textLength')"
   ]
  },
  {
   "cell_type": "markdown",
   "metadata": {
    "id": "Q2lDTO_JpZyD",
    "pycharm": {
     "name": "#%% md\n"
    }
   },
   "source": [
    "## Save"
   ]
  },
  {
   "cell_type": "code",
   "execution_count": null,
   "metadata": {
    "id": "13uu0YGppZyD"
   },
   "outputs": [],
   "source": [
    "save_path = os.path.join(data_dir,'processed','preprocessed')\n",
    "filename = os.path.join(save_path,'preprocessed.csv')\n",
    "os.makedirs(save_path, exist_ok=True)"
   ]
  },
  {
   "cell_type": "code",
   "execution_count": null,
   "metadata": {
    "id": "NRQodkL7pZyE",
    "pycharm": {
     "name": "#%%\n"
    }
   },
   "outputs": [],
   "source": [
    "news.rename(columns={'min_date': 'date'}, inplace=True)\n",
    "news.reset_index(drop=True, inplace=True)\n",
    "news[['id','year','date','author','text']].to_csv(filename, sep=';')"
   ]
  }
 ],
 "metadata": {
  "colab": {
   "collapsed_sections": [
    "B7pCq_LRpZwt",
    "ZNMzGlAZpZww",
    "QXQanMC6pZwx",
    "R-6oGBcHpZwz",
    "G49S3JVwpZxG",
    "P6tKB9CJpZxL",
    "gjkiE6Q-pZxN",
    "zLUavRQ5pZxP",
    "98MUvhBYpZxZ",
    "030ifZ8gpZxe",
    "Q5ZL7_x8pZxi",
    "vyK9R9BupZxk",
    "pRvOIDUKpZxm",
    "kirFq9tCpZxs",
    "Yqk5R4KKpZxu",
    "vlGvl_k6pZxx",
    "lm45JZxEpZx1",
    "AMafA5PBpZx6",
    "i0G1QJTPpZx7",
    "N30XwXhYpZx8",
    "XfHfRepspZyA",
    "qMHSCVrlpZyB",
    "Q2lDTO_JpZyD"
   ],
   "name": "02_Exploration_Prep.ipynb",
   "provenance": []
  },
  "kernelspec": {
   "display_name": "Python 3",
   "language": "python",
   "name": "python3"
  },
  "language_info": {
   "codemirror_mode": {
    "name": "ipython",
    "version": 3
   },
   "file_extension": ".py",
   "mimetype": "text/x-python",
   "name": "python",
   "nbconvert_exporter": "python",
   "pygments_lexer": "ipython3",
   "version": "3.8.3"
  }
 },
 "nbformat": 4,
 "nbformat_minor": 4
}
