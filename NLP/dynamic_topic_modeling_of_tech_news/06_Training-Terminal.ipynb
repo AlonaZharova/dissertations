{
 "cells": [
  {
   "cell_type": "markdown",
   "metadata": {
    "id": "ljMc05YR0oEi"
   },
   "source": [
    "# 'Terminal' for Model Training\n",
    "This notebook is used for training the D-ETMs using argparse. It allows for an exploration of the training progress both during and after training.\n",
    "\n",
    "To keep the notebook clean and still have an overview of the performance of all models, model outputs (alpha, theta, etc.) are saved and the final performance and all the hyperparameters are automatically saved in an Excel file called training_results.xlsx. In this notebook, outputs are included for the models that have been discussed in more detail (V10, V12, V13, V14, V15).\n",
    "\n",
    "Please note that not all argparse arguments need to be passed again for evaluation (the training-related arguments), but they are in the following for printing purposes and convenience."
   ]
  },
  {
   "cell_type": "markdown",
   "metadata": {
    "id": "f0DU8qfZn22v"
   },
   "source": [
    "### Settings"
   ]
  },
  {
   "cell_type": "code",
   "execution_count": null,
   "metadata": {
    "colab": {
     "base_uri": "https://localhost:8080/"
    },
    "executionInfo": {
     "elapsed": 951,
     "status": "ok",
     "timestamp": 1608644453027,
     "user": {
      "displayName": "M. T.",
      "photoUrl": "",
      "userId": "17315554739213314162"
     },
     "user_tz": -60
    },
    "id": "oYb40IxiAcnx",
    "outputId": "69a4391c-0bd5-4ffc-9bb8-3a8dac9b0cb6"
   },
   "outputs": [],
   "source": [
    "from google.colab import drive\n",
    "drive.mount('/content/drive', force_remount=True)"
   ]
  },
  {
   "cell_type": "code",
   "execution_count": null,
   "metadata": {
    "id": "gR6xQhyjAfT8"
   },
   "outputs": [],
   "source": [
    "import time\n",
    "import os"
   ]
  },
  {
   "cell_type": "code",
   "execution_count": null,
   "metadata": {
    "colab": {
     "base_uri": "https://localhost:8080/"
    },
    "executionInfo": {
     "elapsed": 935,
     "status": "ok",
     "timestamp": 1608644453029,
     "user": {
      "displayName": "M. T.",
      "photoUrl": "",
      "userId": "17315554739213314162"
     },
     "user_tz": -60
    },
    "id": "vytZT0drPLaX",
    "outputId": "86b7b846-ebe6-4bec-b01e-3837b771f0d9"
   },
   "outputs": [],
   "source": [
    "%cd '/content/drive/My Drive/Thesis/Topic-Modeling/'"
   ]
  },
  {
   "cell_type": "code",
   "execution_count": null,
   "metadata": {
    "id": "l2c_ZxruSWuK"
   },
   "outputs": [],
   "source": [
    "from IPython.display import HTML, display\n",
    "\n",
    "def set_css():\n",
    "  display(HTML('''\n",
    "  <style>\n",
    "    pre {\n",
    "        white-space: pre-wrap;\n",
    "    }\n",
    "  </style>\n",
    "  '''))\n",
    "get_ipython().events.register('pre_run_cell', set_css)"
   ]
  },
  {
   "cell_type": "markdown",
   "metadata": {
    "id": "-oVuBrpIVxHQ"
   },
   "source": [
    "## D-ETM Training and Evaluation"
   ]
  },
  {
   "cell_type": "markdown",
   "metadata": {
    "id": "Wfqpz2HRh_U8"
   },
   "source": [
    "### V15\n",
    "--> number of topics = 75"
   ]
  },
  {
   "cell_type": "code",
   "execution_count": null,
   "metadata": {
    "colab": {
     "base_uri": "https://localhost:8080/",
     "height": 1000
    },
    "executionInfo": {
     "elapsed": 5775176,
     "status": "ok",
     "timestamp": 1608198770798,
     "user": {
      "displayName": "M. T.",
      "photoUrl": "",
      "userId": "17315554739213314162"
     },
     "user_tz": -60
    },
    "id": "Af1c74H17qaU",
    "outputId": "301d814c-cdce-4946-8960-2f20b00c0b70"
   },
   "outputs": [],
   "source": [
    "%run main.py --version V15 --optimizer adamw --theta_act tanh --theta_hidden_size 1000 --anneal_lr 1 --batch_size 512 --num_topics 75"
   ]
  },
  {
   "cell_type": "code",
   "execution_count": null,
   "metadata": {
    "colab": {
     "base_uri": "https://localhost:8080/",
     "height": 1000
    },
    "executionInfo": {
     "elapsed": 10686807,
     "status": "ok",
     "timestamp": 1608310301844,
     "user": {
      "displayName": "M. T.",
      "photoUrl": "",
      "userId": "17315554739213314162"
     },
     "user_tz": -60
    },
    "id": "kpG9I4Fikbyu",
    "outputId": "34ea601a-e9e6-4d76-80ac-429e32e50366"
   },
   "outputs": [],
   "source": [
    "%run main.py --version V15 --optimizer adamw --theta_act tanh --theta_hidden_size 1000 --anneal_lr 1 --batch_size 512 --num_topics 75 --mode eval --load_from 'Results/V15/DETM_V15_Exec_17-12-2020_09h17m'"
   ]
  },
  {
   "cell_type": "markdown",
   "metadata": {
    "id": "Vv4EKI_Ch9nC"
   },
   "source": [
    "### V14 \n",
    "--> fastText"
   ]
  },
  {
   "cell_type": "code",
   "execution_count": null,
   "metadata": {
    "colab": {
     "base_uri": "https://localhost:8080/",
     "height": 1000
    },
    "executionInfo": {
     "elapsed": 8553129,
     "status": "ok",
     "timestamp": 1608130997967,
     "user": {
      "displayName": "M. T.",
      "photoUrl": "",
      "userId": "17315554739213314162"
     },
     "user_tz": -60
    },
    "id": "WJyeOoAMiGua",
    "outputId": "e6edc2f9-b465-42a8-a67d-4f87efdd2978"
   },
   "outputs": [],
   "source": [
    "%run main.py --version V14 --optimizer adamw --theta_act tanh --theta_hidden_size 1000 --anneal_lr 1 --batch_size 512 --rho_size 300 --emb_type fastText --emb_path Data/Embeddings/fastText/fastText_300.txt"
   ]
  },
  {
   "cell_type": "code",
   "execution_count": null,
   "metadata": {
    "colab": {
     "base_uri": "https://localhost:8080/",
     "height": 1000
    },
    "executionInfo": {
     "elapsed": 6998341,
     "status": "ok",
     "timestamp": 1608299600935,
     "user": {
      "displayName": "M. T.",
      "photoUrl": "",
      "userId": "17315554739213314162"
     },
     "user_tz": -60
    },
    "id": "CkvnGCOKhtS9",
    "outputId": "2bbbdb92-804b-40d0-9fec-7729dbfbd94d"
   },
   "outputs": [],
   "source": [
    "%run main.py --version V14 --optimizer adamw --theta_act tanh --theta_hidden_size 1000 --anneal_lr 1 --batch_size 512 --rho_size 300 --emb_type fastText --emb_path Data/Embeddings/fastText/fastText_300.txt --mode eval --load_from Results/V14/DETM_V14_Exec_16-12-2020_13h41m"
   ]
  },
  {
   "cell_type": "markdown",
   "metadata": {
    "id": "_PnvZdzRvT0x"
   },
   "source": [
    "### V13 \n",
    "--> GloVe"
   ]
  },
  {
   "cell_type": "code",
   "execution_count": null,
   "metadata": {
    "colab": {
     "base_uri": "https://localhost:8080/",
     "height": 1000
    },
    "executionInfo": {
     "elapsed": 5087502,
     "status": "ok",
     "timestamp": 1608641279981,
     "user": {
      "displayName": "M. T.",
      "photoUrl": "",
      "userId": "17315554739213314162"
     },
     "user_tz": -60
    },
    "id": "Y8aTLNpSvU5b",
    "outputId": "5470801b-6e1a-4610-fe4a-a2b5ac3b67d9"
   },
   "outputs": [],
   "source": [
    "%run main.py --version V13 --optimizer adamw --theta_act tanh --theta_hidden_size 1000 --anneal_lr 1 --batch_size 512 --rho_size 300 --emb_type GloVe --emb_path Data/Embeddings/GloVe/GloVe_300.txt"
   ]
  },
  {
   "cell_type": "code",
   "execution_count": null,
   "metadata": {
    "colab": {
     "base_uri": "https://localhost:8080/",
     "height": 1000
    },
    "executionInfo": {
     "elapsed": 6065128,
     "status": "ok",
     "timestamp": 1608650996037,
     "user": {
      "displayName": "M. T.",
      "photoUrl": "",
      "userId": "17315554739213314162"
     },
     "user_tz": -60
    },
    "id": "6vm6yAn-vwiB",
    "outputId": "89ad551e-f6a9-40f4-ff14-f7deac02a5bd"
   },
   "outputs": [],
   "source": [
    "%run main.py --version V13 --optimizer adamw --theta_act tanh --theta_hidden_size 1000 --anneal_lr 1 --batch_size 512 --rho_size 300 --emb_type GloVe --emb_path Data/Embeddings/GloVe/GloVe_300.txt --mode eval --load_from Results/V13/DETM_V13_Exec_07-12-2020_14h13m"
   ]
  },
  {
   "cell_type": "markdown",
   "metadata": {
    "id": "uVa_VRtUw885"
   },
   "source": [
    "### V12 \n",
    "--> 300-dimensional Word2Vec"
   ]
  },
  {
   "cell_type": "code",
   "execution_count": null,
   "metadata": {
    "colab": {
     "base_uri": "https://localhost:8080/",
     "height": 1000
    },
    "executionInfo": {
     "elapsed": 3718120,
     "status": "ok",
     "timestamp": 1608630280980,
     "user": {
      "displayName": "M. T.",
      "photoUrl": "",
      "userId": "17315554739213314162"
     },
     "user_tz": -60
    },
    "id": "D3UY2vyknATG",
    "outputId": "cc545af3-8d72-4eb0-bc96-d979f4c16bbf"
   },
   "outputs": [],
   "source": [
    "%run main.py --version V12 --optimizer adamw --theta_act tanh --theta_hidden_size 1000 --anneal_lr 1 --batch_size 512 --rho_size 300 --emb_path Data/Embeddings/Word2Vec/Word2Vec_300.txt"
   ]
  },
  {
   "cell_type": "code",
   "execution_count": null,
   "metadata": {
    "colab": {
     "base_uri": "https://localhost:8080/",
     "height": 1000
    },
    "executionInfo": {
     "elapsed": 5788178,
     "status": "ok",
     "timestamp": 1608636102952,
     "user": {
      "displayName": "M. T.",
      "photoUrl": "",
      "userId": "17315554739213314162"
     },
     "user_tz": -60
    },
    "id": "YMJC1IUV1l9U",
    "outputId": "d35d8cce-087c-4d4c-d9c8-0bafb0073a7e"
   },
   "outputs": [],
   "source": [
    "%run main.py --version V12 --optimizer adamw --theta_act tanh --theta_hidden_size 1000 --anneal_lr 1 --batch_size 512 --rho_size 300 --emb_path Data/Embeddings/Word2Vec/Word2Vec_300.txt --mode eval --load_from Results/V12/DETM_V12_Exec_05-12-2020_13h13m"
   ]
  },
  {
   "cell_type": "markdown",
   "metadata": {
    "id": "3sTTKfV7wgjJ"
   },
   "source": [
    "### V10\n",
    "--> 200-dimensional Word2Vec"
   ]
  },
  {
   "cell_type": "code",
   "execution_count": null,
   "metadata": {
    "colab": {
     "base_uri": "https://localhost:8080/",
     "height": 1000
    },
    "executionInfo": {
     "elapsed": 4380904,
     "status": "ok",
     "timestamp": 1608566323612,
     "user": {
      "displayName": "M. T.",
      "photoUrl": "",
      "userId": "17315554739213314162"
     },
     "user_tz": -60
    },
    "id": "1HUDmtmUwhN4",
    "outputId": "635de1ac-b56c-44c5-8454-0c027ad8ca38"
   },
   "outputs": [],
   "source": [
    "%run main.py --version V10 --optimizer adamw --theta_act tanh --theta_hidden_size 1000 --anneal_lr 1 --batch_size 512"
   ]
  },
  {
   "cell_type": "code",
   "execution_count": null,
   "metadata": {
    "colab": {
     "base_uri": "https://localhost:8080/",
     "height": 1000
    },
    "executionInfo": {
     "elapsed": 5739780,
     "status": "ok",
     "timestamp": 1608577140733,
     "user": {
      "displayName": "M. T.",
      "photoUrl": "",
      "userId": "17315554739213314162"
     },
     "user_tz": -60
    },
    "id": "4x9DUPE9UxW3",
    "outputId": "864f260c-a8b6-44a8-943a-835d56ead8c0"
   },
   "outputs": [],
   "source": [
    "%run main.py --version V10 --optimizer adamw --theta_act tanh --theta_hidden_size 1000 --anneal_lr 1 --batch_size 512 --mode eval --load_from 'Results/V10/DETM_V10_Exec_03-12-2020_11h16m'"
   ]
  }
 ],
 "metadata": {
  "accelerator": "GPU",
  "colab": {
   "collapsed_sections": [
    "f0DU8qfZn22v",
    "Wfqpz2HRh_U8",
    "Vv4EKI_Ch9nC",
    "_PnvZdzRvT0x",
    "uVa_VRtUw885"
   ],
   "machine_shape": "hm",
   "name": "06_Training-Terminal.ipynb",
   "provenance": [
    {
     "file_id": "1bma2onLFmQj0Bd1FKfsvF5OlRnpGBmhe",
     "timestamp": 1600866105301
    },
    {
     "file_id": "155S_bb3viIoL0wAwkIyr1r8XQu4ARwA9",
     "timestamp": 1600866030281
    }
   ]
  },
  "kernelspec": {
   "display_name": "Python 3",
   "language": "python",
   "name": "python3"
  },
  "language_info": {
   "codemirror_mode": {
    "name": "ipython",
    "version": 3
   },
   "file_extension": ".py",
   "mimetype": "text/x-python",
   "name": "python",
   "nbconvert_exporter": "python",
   "pygments_lexer": "ipython3",
   "version": "3.8.3"
  }
 },
 "nbformat": 4,
 "nbformat_minor": 4
}
