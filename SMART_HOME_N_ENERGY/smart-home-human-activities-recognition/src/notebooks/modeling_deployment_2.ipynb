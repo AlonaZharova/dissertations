{
 "cells": [
  {
   "cell_type": "code",
   "execution_count": 1,
   "metadata": {},
   "outputs": [],
   "source": [
    "import pandas as pd\n",
    "import numpy as np\n",
    "import matplotlib.pyplot as plt\n",
    "import time\n",
    "import joblib\n",
    "\n",
    "from sklearn.pipeline import make_pipeline, Pipeline\n",
    "from sklearn.preprocessing import StandardScaler, MinMaxScaler, LabelEncoder\n",
    "from sklearn.linear_model import SGDClassifier\n",
    "from sklearn.model_selection import cross_val_score\n",
    "from sklearn.model_selection import KFold\n",
    "from sklearn.svm import SVC\n",
    "from sklearn.ensemble import RandomForestClassifier, GradientBoostingClassifier, VotingClassifier\n",
    "from xgboost import XGBClassifier\n",
    "from sklearn.model_selection import GridSearchCV, RandomizedSearchCV\n",
    "from sklearn.linear_model import LogisticRegression\n",
    "from sklearn.neural_network import MLPClassifier\n",
    "\n",
    "base = \"../data/Deployment_2/\""
   ]
  },
  {
   "cell_type": "markdown",
   "metadata": {},
   "source": [
    "## 1. Load Data"
   ]
  },
  {
   "cell_type": "code",
   "execution_count": 2,
   "metadata": {},
   "outputs": [
    {
     "data": {
      "text/html": [
       "<div>\n",
       "<style scoped>\n",
       "    .dataframe tbody tr th:only-of-type {\n",
       "        vertical-align: middle;\n",
       "    }\n",
       "\n",
       "    .dataframe tbody tr th {\n",
       "        vertical-align: top;\n",
       "    }\n",
       "\n",
       "    .dataframe thead th {\n",
       "        text-align: right;\n",
       "    }\n",
       "</style>\n",
       "<table border=\"1\" class=\"dataframe\">\n",
       "  <thead>\n",
       "    <tr style=\"text-align: right;\">\n",
       "      <th></th>\n",
       "      <th>Hour</th>\n",
       "      <th>Minute</th>\n",
       "      <th>Label</th>\n",
       "      <th>sensor1</th>\n",
       "      <th>sensor2</th>\n",
       "      <th>sensor3</th>\n",
       "      <th>sensor4</th>\n",
       "      <th>sensor5</th>\n",
       "      <th>sensor6</th>\n",
       "      <th>sensor20</th>\n",
       "      <th>sensor21</th>\n",
       "      <th>sensor22</th>\n",
       "      <th>sensor24</th>\n",
       "      <th>sensor30</th>\n",
       "      <th>sensor31</th>\n",
       "      <th>sensor32</th>\n",
       "      <th>sensor40</th>\n",
       "      <th>sensor41</th>\n",
       "      <th>sensor42</th>\n",
       "    </tr>\n",
       "  </thead>\n",
       "  <tbody>\n",
       "    <tr>\n",
       "      <th>count</th>\n",
       "      <td>89128.000000</td>\n",
       "      <td>89128.000000</td>\n",
       "      <td>89128.000000</td>\n",
       "      <td>58350.000000</td>\n",
       "      <td>58350.000000</td>\n",
       "      <td>8926.000000</td>\n",
       "      <td>61291.000000</td>\n",
       "      <td>61291.000000</td>\n",
       "      <td>6260.000000</td>\n",
       "      <td>69669.000000</td>\n",
       "      <td>69670.000000</td>\n",
       "      <td>69671.000000</td>\n",
       "      <td>69669.000000</td>\n",
       "      <td>69673.000000</td>\n",
       "      <td>69673.000000</td>\n",
       "      <td>69674.000000</td>\n",
       "      <td>69673.000000</td>\n",
       "      <td>69673.000000</td>\n",
       "      <td>69672.000000</td>\n",
       "    </tr>\n",
       "    <tr>\n",
       "      <th>mean</th>\n",
       "      <td>11.488096</td>\n",
       "      <td>29.499686</td>\n",
       "      <td>5.143053</td>\n",
       "      <td>213.429097</td>\n",
       "      <td>75.913267</td>\n",
       "      <td>5.141496</td>\n",
       "      <td>185.655136</td>\n",
       "      <td>27.708987</td>\n",
       "      <td>3.174040</td>\n",
       "      <td>0.116427</td>\n",
       "      <td>2.141378</td>\n",
       "      <td>0.313635</td>\n",
       "      <td>0.002740</td>\n",
       "      <td>13.694658</td>\n",
       "      <td>4.545994</td>\n",
       "      <td>0.208845</td>\n",
       "      <td>0.471602</td>\n",
       "      <td>1.498302</td>\n",
       "      <td>0.505890</td>\n",
       "    </tr>\n",
       "    <tr>\n",
       "      <th>std</th>\n",
       "      <td>6.922033</td>\n",
       "      <td>17.316080</td>\n",
       "      <td>4.170102</td>\n",
       "      <td>23.567194</td>\n",
       "      <td>131.605657</td>\n",
       "      <td>7.261928</td>\n",
       "      <td>21.355528</td>\n",
       "      <td>61.790032</td>\n",
       "      <td>1.774513</td>\n",
       "      <td>0.627440</td>\n",
       "      <td>57.777008</td>\n",
       "      <td>11.863136</td>\n",
       "      <td>0.265854</td>\n",
       "      <td>25.971177</td>\n",
       "      <td>5.845601</td>\n",
       "      <td>1.048652</td>\n",
       "      <td>4.421275</td>\n",
       "      <td>0.224572</td>\n",
       "      <td>4.446530</td>\n",
       "    </tr>\n",
       "    <tr>\n",
       "      <th>min</th>\n",
       "      <td>0.000000</td>\n",
       "      <td>0.000000</td>\n",
       "      <td>1.000000</td>\n",
       "      <td>156.000000</td>\n",
       "      <td>0.000000</td>\n",
       "      <td>0.000000</td>\n",
       "      <td>-341.000000</td>\n",
       "      <td>0.000000</td>\n",
       "      <td>0.000000</td>\n",
       "      <td>0.000000</td>\n",
       "      <td>0.000000</td>\n",
       "      <td>0.000000</td>\n",
       "      <td>0.000000</td>\n",
       "      <td>0.000000</td>\n",
       "      <td>0.000000</td>\n",
       "      <td>0.000000</td>\n",
       "      <td>0.000000</td>\n",
       "      <td>0.000000</td>\n",
       "      <td>0.000000</td>\n",
       "    </tr>\n",
       "    <tr>\n",
       "      <th>25%</th>\n",
       "      <td>5.000000</td>\n",
       "      <td>15.000000</td>\n",
       "      <td>1.000000</td>\n",
       "      <td>196.166667</td>\n",
       "      <td>0.000000</td>\n",
       "      <td>2.000000</td>\n",
       "      <td>177.000000</td>\n",
       "      <td>0.000000</td>\n",
       "      <td>2.000000</td>\n",
       "      <td>0.000000</td>\n",
       "      <td>0.000000</td>\n",
       "      <td>0.000000</td>\n",
       "      <td>0.000000</td>\n",
       "      <td>0.640000</td>\n",
       "      <td>0.000000</td>\n",
       "      <td>0.000000</td>\n",
       "      <td>0.000000</td>\n",
       "      <td>1.416667</td>\n",
       "      <td>0.000000</td>\n",
       "    </tr>\n",
       "    <tr>\n",
       "      <th>50%</th>\n",
       "      <td>11.000000</td>\n",
       "      <td>29.000000</td>\n",
       "      <td>2.000000</td>\n",
       "      <td>209.000000</td>\n",
       "      <td>18.000000</td>\n",
       "      <td>2.833333</td>\n",
       "      <td>187.666667</td>\n",
       "      <td>6.000000</td>\n",
       "      <td>2.666667</td>\n",
       "      <td>0.000000</td>\n",
       "      <td>0.000000</td>\n",
       "      <td>0.000000</td>\n",
       "      <td>0.000000</td>\n",
       "      <td>0.880000</td>\n",
       "      <td>0.000000</td>\n",
       "      <td>0.000000</td>\n",
       "      <td>0.000000</td>\n",
       "      <td>1.500000</td>\n",
       "      <td>0.000000</td>\n",
       "    </tr>\n",
       "    <tr>\n",
       "      <th>75%</th>\n",
       "      <td>17.000000</td>\n",
       "      <td>44.000000</td>\n",
       "      <td>10.000000</td>\n",
       "      <td>227.500000</td>\n",
       "      <td>117.200000</td>\n",
       "      <td>5.333333</td>\n",
       "      <td>196.666667</td>\n",
       "      <td>30.000000</td>\n",
       "      <td>3.666667</td>\n",
       "      <td>0.000000</td>\n",
       "      <td>0.000000</td>\n",
       "      <td>0.000000</td>\n",
       "      <td>0.000000</td>\n",
       "      <td>1.391304</td>\n",
       "      <td>12.000000</td>\n",
       "      <td>0.000000</td>\n",
       "      <td>0.000000</td>\n",
       "      <td>1.600000</td>\n",
       "      <td>0.000000</td>\n",
       "    </tr>\n",
       "    <tr>\n",
       "      <th>max</th>\n",
       "      <td>23.000000</td>\n",
       "      <td>59.000000</td>\n",
       "      <td>11.000000</td>\n",
       "      <td>305.000000</td>\n",
       "      <td>1154.000000</td>\n",
       "      <td>172.000000</td>\n",
       "      <td>279.666667</td>\n",
       "      <td>612.000000</td>\n",
       "      <td>41.250000</td>\n",
       "      <td>50.772727</td>\n",
       "      <td>1894.041667</td>\n",
       "      <td>1043.913043</td>\n",
       "      <td>32.913043</td>\n",
       "      <td>70.000000</td>\n",
       "      <td>14.882353</td>\n",
       "      <td>6.352941</td>\n",
       "      <td>44.250000</td>\n",
       "      <td>2.000000</td>\n",
       "      <td>42.083333</td>\n",
       "    </tr>\n",
       "  </tbody>\n",
       "</table>\n",
       "</div>"
      ],
      "text/plain": [
       "               Hour        Minute         Label       sensor1       sensor2  \\\n",
       "count  89128.000000  89128.000000  89128.000000  58350.000000  58350.000000   \n",
       "mean      11.488096     29.499686      5.143053    213.429097     75.913267   \n",
       "std        6.922033     17.316080      4.170102     23.567194    131.605657   \n",
       "min        0.000000      0.000000      1.000000    156.000000      0.000000   \n",
       "25%        5.000000     15.000000      1.000000    196.166667      0.000000   \n",
       "50%       11.000000     29.000000      2.000000    209.000000     18.000000   \n",
       "75%       17.000000     44.000000     10.000000    227.500000    117.200000   \n",
       "max       23.000000     59.000000     11.000000    305.000000   1154.000000   \n",
       "\n",
       "           sensor3       sensor4       sensor5      sensor6      sensor20  \\\n",
       "count  8926.000000  61291.000000  61291.000000  6260.000000  69669.000000   \n",
       "mean      5.141496    185.655136     27.708987     3.174040      0.116427   \n",
       "std       7.261928     21.355528     61.790032     1.774513      0.627440   \n",
       "min       0.000000   -341.000000      0.000000     0.000000      0.000000   \n",
       "25%       2.000000    177.000000      0.000000     2.000000      0.000000   \n",
       "50%       2.833333    187.666667      6.000000     2.666667      0.000000   \n",
       "75%       5.333333    196.666667     30.000000     3.666667      0.000000   \n",
       "max     172.000000    279.666667    612.000000    41.250000     50.772727   \n",
       "\n",
       "           sensor21      sensor22      sensor24      sensor30      sensor31  \\\n",
       "count  69670.000000  69671.000000  69669.000000  69673.000000  69673.000000   \n",
       "mean       2.141378      0.313635      0.002740     13.694658      4.545994   \n",
       "std       57.777008     11.863136      0.265854     25.971177      5.845601   \n",
       "min        0.000000      0.000000      0.000000      0.000000      0.000000   \n",
       "25%        0.000000      0.000000      0.000000      0.640000      0.000000   \n",
       "50%        0.000000      0.000000      0.000000      0.880000      0.000000   \n",
       "75%        0.000000      0.000000      0.000000      1.391304     12.000000   \n",
       "max     1894.041667   1043.913043     32.913043     70.000000     14.882353   \n",
       "\n",
       "           sensor32      sensor40      sensor41      sensor42  \n",
       "count  69674.000000  69673.000000  69673.000000  69672.000000  \n",
       "mean       0.208845      0.471602      1.498302      0.505890  \n",
       "std        1.048652      4.421275      0.224572      4.446530  \n",
       "min        0.000000      0.000000      0.000000      0.000000  \n",
       "25%        0.000000      0.000000      1.416667      0.000000  \n",
       "50%        0.000000      0.000000      1.500000      0.000000  \n",
       "75%        0.000000      0.000000      1.600000      0.000000  \n",
       "max        6.352941     44.250000      2.000000     42.083333  "
      ]
     },
     "execution_count": 2,
     "metadata": {},
     "output_type": "execute_result"
    }
   ],
   "source": [
    "df = pd.read_csv(base + \"dataset_2_preprocessing_with_mean_value.csv\")\n",
    "df.describe()"
   ]
  },
  {
   "cell_type": "code",
   "execution_count": 3,
   "metadata": {},
   "outputs": [
    {
     "data": {
      "text/html": [
       "<div>\n",
       "<style scoped>\n",
       "    .dataframe tbody tr th:only-of-type {\n",
       "        vertical-align: middle;\n",
       "    }\n",
       "\n",
       "    .dataframe tbody tr th {\n",
       "        vertical-align: top;\n",
       "    }\n",
       "\n",
       "    .dataframe thead th {\n",
       "        text-align: right;\n",
       "    }\n",
       "</style>\n",
       "<table border=\"1\" class=\"dataframe\">\n",
       "  <thead>\n",
       "    <tr style=\"text-align: right;\">\n",
       "      <th></th>\n",
       "      <th>TimeID</th>\n",
       "      <th>Hour</th>\n",
       "      <th>Minute</th>\n",
       "      <th>Date</th>\n",
       "      <th>Label</th>\n",
       "      <th>Name</th>\n",
       "      <th>sensor1</th>\n",
       "      <th>sensor2</th>\n",
       "      <th>sensor3</th>\n",
       "      <th>sensor4</th>\n",
       "      <th>...</th>\n",
       "      <th>sensor20</th>\n",
       "      <th>sensor21</th>\n",
       "      <th>sensor22</th>\n",
       "      <th>sensor24</th>\n",
       "      <th>sensor30</th>\n",
       "      <th>sensor31</th>\n",
       "      <th>sensor32</th>\n",
       "      <th>sensor40</th>\n",
       "      <th>sensor41</th>\n",
       "      <th>sensor42</th>\n",
       "    </tr>\n",
       "  </thead>\n",
       "  <tbody>\n",
       "    <tr>\n",
       "      <th>0</th>\n",
       "      <td>2013-04-14-20-15</td>\n",
       "      <td>20</td>\n",
       "      <td>15</td>\n",
       "      <td>2013-04-14</td>\n",
       "      <td>2.0</td>\n",
       "      <td>Watching TV</td>\n",
       "      <td>NaN</td>\n",
       "      <td>NaN</td>\n",
       "      <td>NaN</td>\n",
       "      <td>194.000000</td>\n",
       "      <td>...</td>\n",
       "      <td>0.0</td>\n",
       "      <td>0.0</td>\n",
       "      <td>0.0</td>\n",
       "      <td>0.0</td>\n",
       "      <td>5.000000</td>\n",
       "      <td>12.304348</td>\n",
       "      <td>0.000000</td>\n",
       "      <td>0.0</td>\n",
       "      <td>1.478261</td>\n",
       "      <td>0.0</td>\n",
       "    </tr>\n",
       "    <tr>\n",
       "      <th>1</th>\n",
       "      <td>2013-04-14-20-16</td>\n",
       "      <td>20</td>\n",
       "      <td>16</td>\n",
       "      <td>2013-04-14</td>\n",
       "      <td>2.0</td>\n",
       "      <td>Watching TV</td>\n",
       "      <td>NaN</td>\n",
       "      <td>NaN</td>\n",
       "      <td>NaN</td>\n",
       "      <td>194.666667</td>\n",
       "      <td>...</td>\n",
       "      <td>0.0</td>\n",
       "      <td>0.0</td>\n",
       "      <td>0.0</td>\n",
       "      <td>0.0</td>\n",
       "      <td>68.333333</td>\n",
       "      <td>12.250000</td>\n",
       "      <td>0.000000</td>\n",
       "      <td>0.0</td>\n",
       "      <td>1.416667</td>\n",
       "      <td>0.0</td>\n",
       "    </tr>\n",
       "    <tr>\n",
       "      <th>2</th>\n",
       "      <td>2013-04-14-20-17</td>\n",
       "      <td>20</td>\n",
       "      <td>17</td>\n",
       "      <td>2013-04-14</td>\n",
       "      <td>2.0</td>\n",
       "      <td>Watching TV</td>\n",
       "      <td>208.0</td>\n",
       "      <td>0.0</td>\n",
       "      <td>NaN</td>\n",
       "      <td>195.000000</td>\n",
       "      <td>...</td>\n",
       "      <td>0.0</td>\n",
       "      <td>0.0</td>\n",
       "      <td>0.0</td>\n",
       "      <td>0.0</td>\n",
       "      <td>68.086957</td>\n",
       "      <td>11.956522</td>\n",
       "      <td>0.000000</td>\n",
       "      <td>0.0</td>\n",
       "      <td>1.391304</td>\n",
       "      <td>0.0</td>\n",
       "    </tr>\n",
       "    <tr>\n",
       "      <th>3</th>\n",
       "      <td>2013-04-14-20-18</td>\n",
       "      <td>20</td>\n",
       "      <td>18</td>\n",
       "      <td>2013-04-14</td>\n",
       "      <td>2.0</td>\n",
       "      <td>Watching TV</td>\n",
       "      <td>NaN</td>\n",
       "      <td>NaN</td>\n",
       "      <td>NaN</td>\n",
       "      <td>196.000000</td>\n",
       "      <td>...</td>\n",
       "      <td>0.0</td>\n",
       "      <td>0.0</td>\n",
       "      <td>0.0</td>\n",
       "      <td>0.0</td>\n",
       "      <td>68.000000</td>\n",
       "      <td>12.043478</td>\n",
       "      <td>2.260870</td>\n",
       "      <td>0.0</td>\n",
       "      <td>1.478261</td>\n",
       "      <td>0.0</td>\n",
       "    </tr>\n",
       "    <tr>\n",
       "      <th>4</th>\n",
       "      <td>2013-04-14-20-19</td>\n",
       "      <td>20</td>\n",
       "      <td>19</td>\n",
       "      <td>2013-04-14</td>\n",
       "      <td>2.0</td>\n",
       "      <td>Watching TV</td>\n",
       "      <td>NaN</td>\n",
       "      <td>NaN</td>\n",
       "      <td>NaN</td>\n",
       "      <td>197.833333</td>\n",
       "      <td>...</td>\n",
       "      <td>0.0</td>\n",
       "      <td>0.0</td>\n",
       "      <td>0.0</td>\n",
       "      <td>0.0</td>\n",
       "      <td>67.913043</td>\n",
       "      <td>11.833333</td>\n",
       "      <td>5.916667</td>\n",
       "      <td>0.0</td>\n",
       "      <td>1.478261</td>\n",
       "      <td>0.0</td>\n",
       "    </tr>\n",
       "  </tbody>\n",
       "</table>\n",
       "<p>5 rows × 22 columns</p>\n",
       "</div>"
      ],
      "text/plain": [
       "             TimeID  Hour  Minute        Date  Label         Name  sensor1  \\\n",
       "0  2013-04-14-20-15    20      15  2013-04-14    2.0  Watching TV      NaN   \n",
       "1  2013-04-14-20-16    20      16  2013-04-14    2.0  Watching TV      NaN   \n",
       "2  2013-04-14-20-17    20      17  2013-04-14    2.0  Watching TV    208.0   \n",
       "3  2013-04-14-20-18    20      18  2013-04-14    2.0  Watching TV      NaN   \n",
       "4  2013-04-14-20-19    20      19  2013-04-14    2.0  Watching TV      NaN   \n",
       "\n",
       "   sensor2  sensor3     sensor4  ...  sensor20  sensor21  sensor22  sensor24  \\\n",
       "0      NaN      NaN  194.000000  ...       0.0       0.0       0.0       0.0   \n",
       "1      NaN      NaN  194.666667  ...       0.0       0.0       0.0       0.0   \n",
       "2      0.0      NaN  195.000000  ...       0.0       0.0       0.0       0.0   \n",
       "3      NaN      NaN  196.000000  ...       0.0       0.0       0.0       0.0   \n",
       "4      NaN      NaN  197.833333  ...       0.0       0.0       0.0       0.0   \n",
       "\n",
       "    sensor30   sensor31  sensor32  sensor40  sensor41  sensor42  \n",
       "0   5.000000  12.304348  0.000000       0.0  1.478261       0.0  \n",
       "1  68.333333  12.250000  0.000000       0.0  1.416667       0.0  \n",
       "2  68.086957  11.956522  0.000000       0.0  1.391304       0.0  \n",
       "3  68.000000  12.043478  2.260870       0.0  1.478261       0.0  \n",
       "4  67.913043  11.833333  5.916667       0.0  1.478261       0.0  \n",
       "\n",
       "[5 rows x 22 columns]"
      ]
     },
     "execution_count": 3,
     "metadata": {},
     "output_type": "execute_result"
    }
   ],
   "source": [
    "df.head()"
   ]
  },
  {
   "cell_type": "markdown",
   "metadata": {},
   "source": [
    "## 2. Data processing"
   ]
  },
  {
   "cell_type": "code",
   "execution_count": 4,
   "metadata": {},
   "outputs": [],
   "source": [
    "df_train = df.copy()\n",
    "df_train = df_train.fillna(0)\n",
    "df_train = df_train.dropna()\n",
    "df_train = df_train[df_train[\"Label\"]!=10]\n",
    "df_train = df_train.reset_index(drop=True)\n",
    "df_train[\"Time\"] = df_train[\"Hour\"]*60 + df_train[\"Minute\"]"
   ]
  },
  {
   "cell_type": "code",
   "execution_count": 5,
   "metadata": {},
   "outputs": [
    {
     "data": {
      "text/html": [
       "<div>\n",
       "<style scoped>\n",
       "    .dataframe tbody tr th:only-of-type {\n",
       "        vertical-align: middle;\n",
       "    }\n",
       "\n",
       "    .dataframe tbody tr th {\n",
       "        vertical-align: top;\n",
       "    }\n",
       "\n",
       "    .dataframe thead th {\n",
       "        text-align: right;\n",
       "    }\n",
       "</style>\n",
       "<table border=\"1\" class=\"dataframe\">\n",
       "  <thead>\n",
       "    <tr style=\"text-align: right;\">\n",
       "      <th></th>\n",
       "      <th>TimeID</th>\n",
       "      <th>Hour</th>\n",
       "      <th>Minute</th>\n",
       "      <th>Date</th>\n",
       "      <th>Label</th>\n",
       "      <th>Name</th>\n",
       "      <th>sensor1</th>\n",
       "      <th>sensor2</th>\n",
       "      <th>sensor3</th>\n",
       "      <th>sensor4</th>\n",
       "      <th>...</th>\n",
       "      <th>sensor21</th>\n",
       "      <th>sensor22</th>\n",
       "      <th>sensor24</th>\n",
       "      <th>sensor30</th>\n",
       "      <th>sensor31</th>\n",
       "      <th>sensor32</th>\n",
       "      <th>sensor40</th>\n",
       "      <th>sensor41</th>\n",
       "      <th>sensor42</th>\n",
       "      <th>Time</th>\n",
       "    </tr>\n",
       "  </thead>\n",
       "  <tbody>\n",
       "    <tr>\n",
       "      <th>0</th>\n",
       "      <td>2013-04-14-20-15</td>\n",
       "      <td>20</td>\n",
       "      <td>15</td>\n",
       "      <td>2013-04-14</td>\n",
       "      <td>2.0</td>\n",
       "      <td>Watching TV</td>\n",
       "      <td>0.0</td>\n",
       "      <td>0.0</td>\n",
       "      <td>0.0</td>\n",
       "      <td>194.000000</td>\n",
       "      <td>...</td>\n",
       "      <td>0.0</td>\n",
       "      <td>0.0</td>\n",
       "      <td>0.0</td>\n",
       "      <td>5.000000</td>\n",
       "      <td>12.304348</td>\n",
       "      <td>0.000000</td>\n",
       "      <td>0.0</td>\n",
       "      <td>1.478261</td>\n",
       "      <td>0.0</td>\n",
       "      <td>1215</td>\n",
       "    </tr>\n",
       "    <tr>\n",
       "      <th>1</th>\n",
       "      <td>2013-04-14-20-16</td>\n",
       "      <td>20</td>\n",
       "      <td>16</td>\n",
       "      <td>2013-04-14</td>\n",
       "      <td>2.0</td>\n",
       "      <td>Watching TV</td>\n",
       "      <td>0.0</td>\n",
       "      <td>0.0</td>\n",
       "      <td>0.0</td>\n",
       "      <td>194.666667</td>\n",
       "      <td>...</td>\n",
       "      <td>0.0</td>\n",
       "      <td>0.0</td>\n",
       "      <td>0.0</td>\n",
       "      <td>68.333333</td>\n",
       "      <td>12.250000</td>\n",
       "      <td>0.000000</td>\n",
       "      <td>0.0</td>\n",
       "      <td>1.416667</td>\n",
       "      <td>0.0</td>\n",
       "      <td>1216</td>\n",
       "    </tr>\n",
       "    <tr>\n",
       "      <th>2</th>\n",
       "      <td>2013-04-14-20-17</td>\n",
       "      <td>20</td>\n",
       "      <td>17</td>\n",
       "      <td>2013-04-14</td>\n",
       "      <td>2.0</td>\n",
       "      <td>Watching TV</td>\n",
       "      <td>208.0</td>\n",
       "      <td>0.0</td>\n",
       "      <td>0.0</td>\n",
       "      <td>195.000000</td>\n",
       "      <td>...</td>\n",
       "      <td>0.0</td>\n",
       "      <td>0.0</td>\n",
       "      <td>0.0</td>\n",
       "      <td>68.086957</td>\n",
       "      <td>11.956522</td>\n",
       "      <td>0.000000</td>\n",
       "      <td>0.0</td>\n",
       "      <td>1.391304</td>\n",
       "      <td>0.0</td>\n",
       "      <td>1217</td>\n",
       "    </tr>\n",
       "    <tr>\n",
       "      <th>3</th>\n",
       "      <td>2013-04-14-20-18</td>\n",
       "      <td>20</td>\n",
       "      <td>18</td>\n",
       "      <td>2013-04-14</td>\n",
       "      <td>2.0</td>\n",
       "      <td>Watching TV</td>\n",
       "      <td>0.0</td>\n",
       "      <td>0.0</td>\n",
       "      <td>0.0</td>\n",
       "      <td>196.000000</td>\n",
       "      <td>...</td>\n",
       "      <td>0.0</td>\n",
       "      <td>0.0</td>\n",
       "      <td>0.0</td>\n",
       "      <td>68.000000</td>\n",
       "      <td>12.043478</td>\n",
       "      <td>2.260870</td>\n",
       "      <td>0.0</td>\n",
       "      <td>1.478261</td>\n",
       "      <td>0.0</td>\n",
       "      <td>1218</td>\n",
       "    </tr>\n",
       "    <tr>\n",
       "      <th>4</th>\n",
       "      <td>2013-04-14-20-19</td>\n",
       "      <td>20</td>\n",
       "      <td>19</td>\n",
       "      <td>2013-04-14</td>\n",
       "      <td>2.0</td>\n",
       "      <td>Watching TV</td>\n",
       "      <td>0.0</td>\n",
       "      <td>0.0</td>\n",
       "      <td>0.0</td>\n",
       "      <td>197.833333</td>\n",
       "      <td>...</td>\n",
       "      <td>0.0</td>\n",
       "      <td>0.0</td>\n",
       "      <td>0.0</td>\n",
       "      <td>67.913043</td>\n",
       "      <td>11.833333</td>\n",
       "      <td>5.916667</td>\n",
       "      <td>0.0</td>\n",
       "      <td>1.478261</td>\n",
       "      <td>0.0</td>\n",
       "      <td>1219</td>\n",
       "    </tr>\n",
       "  </tbody>\n",
       "</table>\n",
       "<p>5 rows × 23 columns</p>\n",
       "</div>"
      ],
      "text/plain": [
       "             TimeID  Hour  Minute        Date  Label         Name  sensor1  \\\n",
       "0  2013-04-14-20-15    20      15  2013-04-14    2.0  Watching TV      0.0   \n",
       "1  2013-04-14-20-16    20      16  2013-04-14    2.0  Watching TV      0.0   \n",
       "2  2013-04-14-20-17    20      17  2013-04-14    2.0  Watching TV    208.0   \n",
       "3  2013-04-14-20-18    20      18  2013-04-14    2.0  Watching TV      0.0   \n",
       "4  2013-04-14-20-19    20      19  2013-04-14    2.0  Watching TV      0.0   \n",
       "\n",
       "   sensor2  sensor3     sensor4  ...  sensor21  sensor22  sensor24   sensor30  \\\n",
       "0      0.0      0.0  194.000000  ...       0.0       0.0       0.0   5.000000   \n",
       "1      0.0      0.0  194.666667  ...       0.0       0.0       0.0  68.333333   \n",
       "2      0.0      0.0  195.000000  ...       0.0       0.0       0.0  68.086957   \n",
       "3      0.0      0.0  196.000000  ...       0.0       0.0       0.0  68.000000   \n",
       "4      0.0      0.0  197.833333  ...       0.0       0.0       0.0  67.913043   \n",
       "\n",
       "    sensor31  sensor32  sensor40  sensor41  sensor42  Time  \n",
       "0  12.304348  0.000000       0.0  1.478261       0.0  1215  \n",
       "1  12.250000  0.000000       0.0  1.416667       0.0  1216  \n",
       "2  11.956522  0.000000       0.0  1.391304       0.0  1217  \n",
       "3  12.043478  2.260870       0.0  1.478261       0.0  1218  \n",
       "4  11.833333  5.916667       0.0  1.478261       0.0  1219  \n",
       "\n",
       "[5 rows x 23 columns]"
      ]
     },
     "execution_count": 5,
     "metadata": {},
     "output_type": "execute_result"
    }
   ],
   "source": [
    "df_train.head()"
   ]
  },
  {
   "cell_type": "markdown",
   "metadata": {},
   "source": [
    "## 3. Data splitting"
   ]
  },
  {
   "cell_type": "code",
   "execution_count": 25,
   "metadata": {},
   "outputs": [
    {
     "name": "stdout",
     "output_type": "stream",
     "text": [
      "14143\n",
      "42430\n"
     ]
    }
   ],
   "source": [
    "ratio = 0.25\n",
    "encoder = LabelEncoder()\n",
    "\n",
    "X = df_train.drop([\"Label\", \"TimeID\", \"Date\", \"Name\", \"Hour\", \"Minute\"], axis=1)\n",
    "X = np.array(X)\n",
    "y = encoder.fit_transform(df_train[\"Label\"])\n",
    "\n",
    "split_idx = int(len(X)*ratio)\n",
    "\n",
    "X_train, X_test = X[:split_idx], X[split_idx:]\n",
    "y_train, y_test = y[:split_idx], y[split_idx:]\n",
    "\n",
    "print(len(X_train))\n",
    "print(len(X_test))"
   ]
  },
  {
   "cell_type": "markdown",
   "metadata": {},
   "source": [
    "## 4. Training"
   ]
  },
  {
   "cell_type": "code",
   "execution_count": 26,
   "metadata": {},
   "outputs": [],
   "source": [
    "kf = KFold(n_splits=4, random_state=None, shuffle=False)"
   ]
  },
  {
   "cell_type": "code",
   "execution_count": 27,
   "metadata": {},
   "outputs": [],
   "source": [
    "def evaluate(model, n_fold=4, inputs=X_train, labels=y_train):\n",
    "    cross_validation_set = KFold(n_splits=n_fold)\n",
    "    scores = cross_val_score(model, inputs, labels, cv=cross_validation_set)\n",
    "    return scores"
   ]
  },
  {
   "cell_type": "code",
   "execution_count": 28,
   "metadata": {},
   "outputs": [],
   "source": [
    "def random_search(model, parameters, inputs, labels, cross_validation):\n",
    "    \n",
    "    search = RandomizedSearchCV(model, \n",
    "                                parameters, \n",
    "                                scoring='accuracy', \n",
    "                                refit='accuracy',\n",
    "                                random_state=18, n_iter=50, \n",
    "                                verbose=3, n_jobs=-1, \n",
    "                                cv=cross_validation)\n",
    "    start = time.time()\n",
    "    results = search.fit(inputs, labels)\n",
    "    stop = time.time()\n",
    "    return results, round(stop-start, 2)\n",
    "\n",
    "def grid_search(model, parameters, inputs, labels, cross_validation):\n",
    "    search = GridSearchCV(model, \n",
    "                          parameters, \n",
    "                          scoring='accuracy', \n",
    "                          refit='accuracy',\n",
    "                          verbose=3, n_jobs=-1, \n",
    "                          cv=cross_validation)\n",
    "\n",
    "    start = time.time()\n",
    "    results = search.fit(inputs, labels)\n",
    "    stop = time.time()\n",
    "    return results, round(stop-start, 2)"
   ]
  },
  {
   "cell_type": "markdown",
   "metadata": {},
   "source": [
    "### Random forest"
   ]
  },
  {
   "cell_type": "code",
   "execution_count": 29,
   "metadata": {},
   "outputs": [],
   "source": [
    "def rf_summary(results):\n",
    "\n",
    "    accuracy = results.cv_results_['mean_test_score']\n",
    "    params = results.cv_results_['params']\n",
    "\n",
    "    summary = {\n",
    "        \"Accuracy\": [accuracy[i] for i in range(len(params))],\n",
    "        \"Rank\": [results.cv_results_[\"rank_test_score\"][i] for i in range(len(params))],\n",
    "        \"n_estimators\": [param['n_estimators'] for param in params], \n",
    "        \"max_depth\": [param['max_depth'] for param in params],\n",
    "        \"min_samples_leaf\": [param['min_samples_leaf'] for param in params],\n",
    "        \"min_samples_split\": [param['min_samples_split'] for param in params],\n",
    "        \"bootstrap\": [param['bootstrap'] for param in params]\n",
    "    }\n",
    "\n",
    "    df_summary = pd.DataFrame(data=summary).sort_values(by=\"Rank\")\n",
    "    df_summary = df_summary.reset_index(drop=True)\n",
    "    return df_summary"
   ]
  },
  {
   "cell_type": "code",
   "execution_count": 30,
   "metadata": {},
   "outputs": [
    {
     "name": "stdout",
     "output_type": "stream",
     "text": [
      "Fitting 4 folds for each of 50 candidates, totalling 200 fits\n"
     ]
    },
    {
     "name": "stderr",
     "output_type": "stream",
     "text": [
      "[Parallel(n_jobs=-1)]: Using backend LokyBackend with 6 concurrent workers.\n",
      "[Parallel(n_jobs=-1)]: Done  20 tasks      | elapsed:   18.5s\n",
      "[Parallel(n_jobs=-1)]: Done 116 tasks      | elapsed:  1.3min\n",
      "[Parallel(n_jobs=-1)]: Done 200 out of 200 | elapsed:  2.3min finished\n"
     ]
    }
   ],
   "source": [
    "rf_random_params = {\n",
    "    \"n_estimators\": [int(x) for x in np.arange(100,1001,50)],\n",
    "    \"max_depth\": [int(x) for x in np.arange(2,31,2)],\n",
    "    \"min_samples_split\": [2,5,10],\n",
    "    \"min_samples_leaf\": [1,2,4],\n",
    "    \"bootstrap\": [True, False]\n",
    "}\n",
    "\n",
    "rf_random_model = RandomForestClassifier(random_state=18)\n",
    "\n",
    "rf_random_results, time_execution = random_search(rf_random_model,\n",
    "                                                  rf_random_params,\n",
    "                                                  X_train,\n",
    "                                                  y_train,\n",
    "                                                  kf) "
   ]
  },
  {
   "cell_type": "code",
   "execution_count": 31,
   "metadata": {},
   "outputs": [
    {
     "data": {
      "text/html": [
       "<div>\n",
       "<style scoped>\n",
       "    .dataframe tbody tr th:only-of-type {\n",
       "        vertical-align: middle;\n",
       "    }\n",
       "\n",
       "    .dataframe tbody tr th {\n",
       "        vertical-align: top;\n",
       "    }\n",
       "\n",
       "    .dataframe thead th {\n",
       "        text-align: right;\n",
       "    }\n",
       "</style>\n",
       "<table border=\"1\" class=\"dataframe\">\n",
       "  <thead>\n",
       "    <tr style=\"text-align: right;\">\n",
       "      <th></th>\n",
       "      <th>Accuracy</th>\n",
       "      <th>Rank</th>\n",
       "      <th>n_estimators</th>\n",
       "      <th>max_depth</th>\n",
       "      <th>min_samples_leaf</th>\n",
       "      <th>min_samples_split</th>\n",
       "      <th>bootstrap</th>\n",
       "    </tr>\n",
       "  </thead>\n",
       "  <tbody>\n",
       "    <tr>\n",
       "      <td>0</td>\n",
       "      <td>0.840981</td>\n",
       "      <td>1</td>\n",
       "      <td>150</td>\n",
       "      <td>4</td>\n",
       "      <td>4</td>\n",
       "      <td>2</td>\n",
       "      <td>False</td>\n",
       "    </tr>\n",
       "  </tbody>\n",
       "</table>\n",
       "</div>"
      ],
      "text/plain": [
       "   Accuracy  Rank  n_estimators  max_depth  min_samples_leaf  \\\n",
       "0  0.840981     1           150          4                 4   \n",
       "\n",
       "   min_samples_split  bootstrap  \n",
       "0                  2      False  "
      ]
     },
     "execution_count": 31,
     "metadata": {},
     "output_type": "execute_result"
    }
   ],
   "source": [
    "rf_random_summary = rf_summary(rf_random_results)\n",
    "rf_random_summary.iloc[:1,:]"
   ]
  },
  {
   "cell_type": "code",
   "execution_count": 32,
   "metadata": {},
   "outputs": [
    {
     "data": {
      "text/plain": [
       "['results/rf_randomsearch.pkl']"
      ]
     },
     "execution_count": 32,
     "metadata": {},
     "output_type": "execute_result"
    }
   ],
   "source": [
    "joblib.dump(rf_random_results, \"results/rf_randomsearch.pkl\") "
   ]
  },
  {
   "cell_type": "code",
   "execution_count": 57,
   "metadata": {},
   "outputs": [
    {
     "name": "stdout",
     "output_type": "stream",
     "text": [
      "Fitting 4 folds for each of 180 candidates, totalling 720 fits\n"
     ]
    },
    {
     "name": "stderr",
     "output_type": "stream",
     "text": [
      "[Parallel(n_jobs=-1)]: Using backend LokyBackend with 6 concurrent workers.\n",
      "[Parallel(n_jobs=-1)]: Done  20 tasks      | elapsed:    7.2s\n",
      "[Parallel(n_jobs=-1)]: Done 116 tasks      | elapsed:   16.4s\n",
      "[Parallel(n_jobs=-1)]: Done 276 tasks      | elapsed:   34.9s\n",
      "[Parallel(n_jobs=-1)]: Done 500 tasks      | elapsed:   59.1s\n",
      "[Parallel(n_jobs=-1)]: Done 720 out of 720 | elapsed:  1.4min finished\n"
     ]
    }
   ],
   "source": [
    "rf_grid_params = {\n",
    "    \"n_estimators\": [int(x) for x in np.arange(130,171,10)],\n",
    "    \"max_depth\": [int(x) for x in np.arange(3,6,1)],\n",
    "    \"min_samples_split\": [2,3],\n",
    "    \"min_samples_leaf\": [3,4,5],\n",
    "    \"bootstrap\": [False, True]\n",
    "}\n",
    "\n",
    "rf_grid_model = RandomForestClassifier(random_state=18)\n",
    "\n",
    "rf_grid_results, time_execution = grid_search(rf_grid_model,\n",
    "                                              rf_grid_params,\n",
    "                                              X_train,\n",
    "                                              y_train,\n",
    "                                              kf) "
   ]
  },
  {
   "cell_type": "code",
   "execution_count": 58,
   "metadata": {},
   "outputs": [
    {
     "data": {
      "text/html": [
       "<div>\n",
       "<style scoped>\n",
       "    .dataframe tbody tr th:only-of-type {\n",
       "        vertical-align: middle;\n",
       "    }\n",
       "\n",
       "    .dataframe tbody tr th {\n",
       "        vertical-align: top;\n",
       "    }\n",
       "\n",
       "    .dataframe thead th {\n",
       "        text-align: right;\n",
       "    }\n",
       "</style>\n",
       "<table border=\"1\" class=\"dataframe\">\n",
       "  <thead>\n",
       "    <tr style=\"text-align: right;\">\n",
       "      <th></th>\n",
       "      <th>Accuracy</th>\n",
       "      <th>Rank</th>\n",
       "      <th>n_estimators</th>\n",
       "      <th>max_depth</th>\n",
       "      <th>min_samples_leaf</th>\n",
       "      <th>min_samples_split</th>\n",
       "      <th>bootstrap</th>\n",
       "    </tr>\n",
       "  </thead>\n",
       "  <tbody>\n",
       "    <tr>\n",
       "      <td>0</td>\n",
       "      <td>0.844234</td>\n",
       "      <td>1</td>\n",
       "      <td>130</td>\n",
       "      <td>5</td>\n",
       "      <td>4</td>\n",
       "      <td>3</td>\n",
       "      <td>False</td>\n",
       "    </tr>\n",
       "  </tbody>\n",
       "</table>\n",
       "</div>"
      ],
      "text/plain": [
       "   Accuracy  Rank  n_estimators  max_depth  min_samples_leaf  \\\n",
       "0  0.844234     1           130          5                 4   \n",
       "\n",
       "   min_samples_split  bootstrap  \n",
       "0                  3      False  "
      ]
     },
     "execution_count": 58,
     "metadata": {},
     "output_type": "execute_result"
    }
   ],
   "source": [
    "rf_grid_summary = rf_summary(rf_grid_results)\n",
    "rf_grid_summary.iloc[:1,:]"
   ]
  },
  {
   "cell_type": "code",
   "execution_count": 59,
   "metadata": {},
   "outputs": [
    {
     "data": {
      "text/plain": [
       "['results/rf_gridsearch.pkl']"
      ]
     },
     "execution_count": 59,
     "metadata": {},
     "output_type": "execute_result"
    }
   ],
   "source": [
    "joblib.dump(rf_grid_results, \"results/rf_gridsearch.pkl\") "
   ]
  },
  {
   "cell_type": "markdown",
   "metadata": {},
   "source": [
    "### XGBoost"
   ]
  },
  {
   "cell_type": "code",
   "execution_count": 36,
   "metadata": {},
   "outputs": [],
   "source": [
    "def xgb_summary(results):\n",
    "    accuracy = results.cv_results_['mean_test_score']\n",
    "    params = results.cv_results_['params']\n",
    "\n",
    "    summary = {\n",
    "        \"Accuracy\": [accuracy[i] for i in range(len(params))],\n",
    "        \"Rank\": [results.cv_results_[\"rank_test_score\"][i] for i in range(len(params))],\n",
    "        \"# estimators\": [param['n_estimators'] for param in params], \n",
    "        \"max_depth\": [param['max_depth'] for param in params],\n",
    "        \"learning_rate\": [param['learning_rate'] for param in params],\n",
    "        \"colsample_bytree\": [param['colsample_bytree'] for param in params],\n",
    "        \"subsample\": [param['subsample'] for param in params],\n",
    "        \"gamma\": [param['gamma'] for param in params]\n",
    "    }\n",
    "\n",
    "    df_summary = pd.DataFrame(data=summary).sort_values(by=\"Rank\")\n",
    "    df_summary = df_summary.reset_index(drop=True)\n",
    "    return df_summary"
   ]
  },
  {
   "cell_type": "code",
   "execution_count": 37,
   "metadata": {},
   "outputs": [
    {
     "name": "stdout",
     "output_type": "stream",
     "text": [
      "Fitting 4 folds for each of 50 candidates, totalling 200 fits\n"
     ]
    },
    {
     "name": "stderr",
     "output_type": "stream",
     "text": [
      "[Parallel(n_jobs=-1)]: Using backend LokyBackend with 6 concurrent workers.\n",
      "/opt/anaconda3/lib/python3.7/site-packages/joblib/externals/loky/process_executor.py:706: UserWarning: A worker stopped while some jobs were given to the executor. This can be caused by a too short worker timeout or by a memory leak.\n",
      "  \"timeout or by a memory leak.\", UserWarning\n",
      "[Parallel(n_jobs=-1)]: Done  20 tasks      | elapsed:  2.5min\n",
      "[Parallel(n_jobs=-1)]: Done 116 tasks      | elapsed: 10.1min\n",
      "[Parallel(n_jobs=-1)]: Done 200 out of 200 | elapsed: 14.8min finished\n"
     ]
    }
   ],
   "source": [
    "xgb_random_params = {\n",
    "    \"n_estimators\": [int(x) for x in np.arange(100,1001,50)],\n",
    "    \"learning_rate\": [0.01, 0.05, 0.1],\n",
    "    \"max_depth\": [3, 4, 5, 6],\n",
    "    \"subsample\": [0.8, 0.9, 1],\n",
    "    \"colsample_bytree\": [0.5, 0.6, 0.7, 0.8, 0.9, 1],\n",
    "    \"gamma\": [0, 1, 5]\n",
    "}\n",
    "\n",
    "xgb_random_model =  XGBClassifier(random_state=18)\n",
    "\n",
    "xgb_random_results, time_execution = random_search(xgb_random_model, \n",
    "                                                   xgb_random_params,\n",
    "                                                   X_train, y_train, kf)"
   ]
  },
  {
   "cell_type": "code",
   "execution_count": 38,
   "metadata": {},
   "outputs": [
    {
     "data": {
      "text/html": [
       "<div>\n",
       "<style scoped>\n",
       "    .dataframe tbody tr th:only-of-type {\n",
       "        vertical-align: middle;\n",
       "    }\n",
       "\n",
       "    .dataframe tbody tr th {\n",
       "        vertical-align: top;\n",
       "    }\n",
       "\n",
       "    .dataframe thead th {\n",
       "        text-align: right;\n",
       "    }\n",
       "</style>\n",
       "<table border=\"1\" class=\"dataframe\">\n",
       "  <thead>\n",
       "    <tr style=\"text-align: right;\">\n",
       "      <th></th>\n",
       "      <th>Accuracy</th>\n",
       "      <th>Rank</th>\n",
       "      <th># estimators</th>\n",
       "      <th>max_depth</th>\n",
       "      <th>learning_rate</th>\n",
       "      <th>colsample_bytree</th>\n",
       "      <th>subsample</th>\n",
       "      <th>gamma</th>\n",
       "    </tr>\n",
       "  </thead>\n",
       "  <tbody>\n",
       "    <tr>\n",
       "      <td>0</td>\n",
       "      <td>0.823093</td>\n",
       "      <td>1</td>\n",
       "      <td>200</td>\n",
       "      <td>4</td>\n",
       "      <td>0.01</td>\n",
       "      <td>0.6</td>\n",
       "      <td>0.9</td>\n",
       "      <td>0</td>\n",
       "    </tr>\n",
       "  </tbody>\n",
       "</table>\n",
       "</div>"
      ],
      "text/plain": [
       "   Accuracy  Rank  # estimators  max_depth  learning_rate  colsample_bytree  \\\n",
       "0  0.823093     1           200          4           0.01               0.6   \n",
       "\n",
       "   subsample  gamma  \n",
       "0        0.9      0  "
      ]
     },
     "execution_count": 38,
     "metadata": {},
     "output_type": "execute_result"
    }
   ],
   "source": [
    "xgb_random_summary = xgb_summary(xgb_random_results)\n",
    "xgb_random_summary.iloc[:1,:]"
   ]
  },
  {
   "cell_type": "code",
   "execution_count": 39,
   "metadata": {},
   "outputs": [
    {
     "data": {
      "text/plain": [
       "['results/xgb_randomsearch.pkl']"
      ]
     },
     "execution_count": 39,
     "metadata": {},
     "output_type": "execute_result"
    }
   ],
   "source": [
    "joblib.dump(xgb_random_results, \"results/xgb_randomsearch.pkl\") "
   ]
  },
  {
   "cell_type": "code",
   "execution_count": 63,
   "metadata": {},
   "outputs": [
    {
     "name": "stdout",
     "output_type": "stream",
     "text": [
      "Fitting 4 folds for each of 5 candidates, totalling 20 fits\n"
     ]
    },
    {
     "name": "stderr",
     "output_type": "stream",
     "text": [
      "[Parallel(n_jobs=-1)]: Using backend LokyBackend with 6 concurrent workers.\n",
      "[Parallel(n_jobs=-1)]: Done  16 out of  20 | elapsed:   25.0s remaining:    6.2s\n",
      "[Parallel(n_jobs=-1)]: Done  20 out of  20 | elapsed:   33.1s finished\n"
     ]
    }
   ],
   "source": [
    "xgb_grid_params = {\n",
    "    \"n_estimators\": [int(x) for x in np.arange(180,221,10)],\n",
    "    \"learning_rate\": [0.01],\n",
    "    \"max_depth\": [4],\n",
    "    \"subsample\": [0.9],\n",
    "    \"colsample_bytree\": [0.6],\n",
    "    \"gamma\": [0]\n",
    "}\n",
    "\n",
    "xgb_grid_model =  XGBClassifier(random_state=18)\n",
    "\n",
    "xgb_grid_results, time_execution = grid_search(xgb_grid_model, \n",
    "                                               xgb_grid_params,\n",
    "                                               X_train, y_train, kf)"
   ]
  },
  {
   "cell_type": "code",
   "execution_count": 64,
   "metadata": {},
   "outputs": [
    {
     "data": {
      "text/html": [
       "<div>\n",
       "<style scoped>\n",
       "    .dataframe tbody tr th:only-of-type {\n",
       "        vertical-align: middle;\n",
       "    }\n",
       "\n",
       "    .dataframe tbody tr th {\n",
       "        vertical-align: top;\n",
       "    }\n",
       "\n",
       "    .dataframe thead th {\n",
       "        text-align: right;\n",
       "    }\n",
       "</style>\n",
       "<table border=\"1\" class=\"dataframe\">\n",
       "  <thead>\n",
       "    <tr style=\"text-align: right;\">\n",
       "      <th></th>\n",
       "      <th>Accuracy</th>\n",
       "      <th>Rank</th>\n",
       "      <th># estimators</th>\n",
       "      <th>max_depth</th>\n",
       "      <th>learning_rate</th>\n",
       "      <th>colsample_bytree</th>\n",
       "      <th>subsample</th>\n",
       "      <th>gamma</th>\n",
       "    </tr>\n",
       "  </thead>\n",
       "  <tbody>\n",
       "    <tr>\n",
       "      <td>0</td>\n",
       "      <td>0.825285</td>\n",
       "      <td>1</td>\n",
       "      <td>190</td>\n",
       "      <td>4</td>\n",
       "      <td>0.01</td>\n",
       "      <td>0.6</td>\n",
       "      <td>0.9</td>\n",
       "      <td>0</td>\n",
       "    </tr>\n",
       "  </tbody>\n",
       "</table>\n",
       "</div>"
      ],
      "text/plain": [
       "   Accuracy  Rank  # estimators  max_depth  learning_rate  colsample_bytree  \\\n",
       "0  0.825285     1           190          4           0.01               0.6   \n",
       "\n",
       "   subsample  gamma  \n",
       "0        0.9      0  "
      ]
     },
     "execution_count": 64,
     "metadata": {},
     "output_type": "execute_result"
    }
   ],
   "source": [
    "xgb_grid_summary = xgb_summary(xgb_grid_results)\n",
    "xgb_grid_summary.iloc[:1,:]"
   ]
  },
  {
   "cell_type": "code",
   "execution_count": 65,
   "metadata": {},
   "outputs": [
    {
     "data": {
      "text/plain": [
       "['results/xgb_gridsearch.pkl']"
      ]
     },
     "execution_count": 65,
     "metadata": {},
     "output_type": "execute_result"
    }
   ],
   "source": [
    "joblib.dump(xgb_grid_results, \"results/xgb_gridsearch.pkl\") "
   ]
  },
  {
   "cell_type": "markdown",
   "metadata": {},
   "source": [
    "### Support Vector Machine"
   ]
  },
  {
   "cell_type": "code",
   "execution_count": 43,
   "metadata": {},
   "outputs": [],
   "source": [
    "def svm_summary(results):\n",
    "    accuracy = results.cv_results_['mean_test_score']\n",
    "    params = results.cv_results_['params']\n",
    "\n",
    "    summary = {\n",
    "        \"Accuracy\": [accuracy[i] for i in range(len(params))],\n",
    "        \"Rank\": [results.cv_results_[\"rank_test_score\"][i] for i in range(len(params))],\n",
    "        \"C\": [param['svc__C'] for param in params], \n",
    "        \"kernel\": [param['svc__kernel'] for param in params]\n",
    "    }\n",
    "\n",
    "    df_summary = pd.DataFrame(data=summary).sort_values(by=\"Rank\")\n",
    "    df_summary = df_summary.reset_index(drop=True)\n",
    "    return df_summary"
   ]
  },
  {
   "cell_type": "code",
   "execution_count": 44,
   "metadata": {},
   "outputs": [
    {
     "name": "stdout",
     "output_type": "stream",
     "text": [
      "Fitting 4 folds for each of 8 candidates, totalling 32 fits\n"
     ]
    },
    {
     "name": "stderr",
     "output_type": "stream",
     "text": [
      "[Parallel(n_jobs=-1)]: Using backend LokyBackend with 6 concurrent workers.\n",
      "[Parallel(n_jobs=-1)]: Done  20 tasks      | elapsed:    5.3s\n",
      "[Parallel(n_jobs=-1)]: Done  32 out of  32 | elapsed:   16.1s remaining:    0.0s\n",
      "[Parallel(n_jobs=-1)]: Done  32 out of  32 | elapsed:   16.1s finished\n"
     ]
    }
   ],
   "source": [
    "svc_params = {\n",
    "    \"svc__C\": [0.01, 0.1, 1, 10],\n",
    "    \"svc__kernel\": [\"linear\", \"rbf\"]\n",
    "}\n",
    "\n",
    "svc = Pipeline(steps=[('standardize', StandardScaler()), ('svc', SVC(cache_size=8000))])\n",
    "svc_grid_search = GridSearchCV(svc, svc_params, verbose=3, n_jobs=-1, cv=kf)\n",
    "\n",
    "svc_grid_results = svc_grid_search.fit(X_train, y_train)"
   ]
  },
  {
   "cell_type": "code",
   "execution_count": 45,
   "metadata": {},
   "outputs": [
    {
     "data": {
      "text/html": [
       "<div>\n",
       "<style scoped>\n",
       "    .dataframe tbody tr th:only-of-type {\n",
       "        vertical-align: middle;\n",
       "    }\n",
       "\n",
       "    .dataframe tbody tr th {\n",
       "        vertical-align: top;\n",
       "    }\n",
       "\n",
       "    .dataframe thead th {\n",
       "        text-align: right;\n",
       "    }\n",
       "</style>\n",
       "<table border=\"1\" class=\"dataframe\">\n",
       "  <thead>\n",
       "    <tr style=\"text-align: right;\">\n",
       "      <th></th>\n",
       "      <th>Accuracy</th>\n",
       "      <th>Rank</th>\n",
       "      <th>C</th>\n",
       "      <th>kernel</th>\n",
       "    </tr>\n",
       "  </thead>\n",
       "  <tbody>\n",
       "    <tr>\n",
       "      <td>0</td>\n",
       "      <td>0.828325</td>\n",
       "      <td>1</td>\n",
       "      <td>0.01</td>\n",
       "      <td>linear</td>\n",
       "    </tr>\n",
       "  </tbody>\n",
       "</table>\n",
       "</div>"
      ],
      "text/plain": [
       "   Accuracy  Rank     C  kernel\n",
       "0  0.828325     1  0.01  linear"
      ]
     },
     "execution_count": 45,
     "metadata": {},
     "output_type": "execute_result"
    }
   ],
   "source": [
    "svc_grid_summary = svm_summary(svc_grid_results)\n",
    "svc_grid_summary.iloc[:1,:]"
   ]
  },
  {
   "cell_type": "code",
   "execution_count": 46,
   "metadata": {},
   "outputs": [
    {
     "data": {
      "text/html": [
       "<div>\n",
       "<style scoped>\n",
       "    .dataframe tbody tr th:only-of-type {\n",
       "        vertical-align: middle;\n",
       "    }\n",
       "\n",
       "    .dataframe tbody tr th {\n",
       "        vertical-align: top;\n",
       "    }\n",
       "\n",
       "    .dataframe thead th {\n",
       "        text-align: right;\n",
       "    }\n",
       "</style>\n",
       "<table border=\"1\" class=\"dataframe\">\n",
       "  <thead>\n",
       "    <tr style=\"text-align: right;\">\n",
       "      <th></th>\n",
       "      <th>Accuracy</th>\n",
       "      <th>Rank</th>\n",
       "      <th>C</th>\n",
       "      <th>kernel</th>\n",
       "    </tr>\n",
       "  </thead>\n",
       "  <tbody>\n",
       "    <tr>\n",
       "      <td>0</td>\n",
       "      <td>0.828325</td>\n",
       "      <td>1</td>\n",
       "      <td>0.01</td>\n",
       "      <td>linear</td>\n",
       "    </tr>\n",
       "    <tr>\n",
       "      <td>1</td>\n",
       "      <td>0.810366</td>\n",
       "      <td>2</td>\n",
       "      <td>0.10</td>\n",
       "      <td>linear</td>\n",
       "    </tr>\n",
       "    <tr>\n",
       "      <td>2</td>\n",
       "      <td>0.808881</td>\n",
       "      <td>3</td>\n",
       "      <td>1.00</td>\n",
       "      <td>linear</td>\n",
       "    </tr>\n",
       "    <tr>\n",
       "      <td>3</td>\n",
       "      <td>0.803436</td>\n",
       "      <td>4</td>\n",
       "      <td>0.10</td>\n",
       "      <td>rbf</td>\n",
       "    </tr>\n",
       "    <tr>\n",
       "      <td>4</td>\n",
       "      <td>0.802729</td>\n",
       "      <td>5</td>\n",
       "      <td>1.00</td>\n",
       "      <td>rbf</td>\n",
       "    </tr>\n",
       "    <tr>\n",
       "      <td>5</td>\n",
       "      <td>0.797143</td>\n",
       "      <td>6</td>\n",
       "      <td>10.00</td>\n",
       "      <td>rbf</td>\n",
       "    </tr>\n",
       "    <tr>\n",
       "      <td>6</td>\n",
       "      <td>0.790285</td>\n",
       "      <td>7</td>\n",
       "      <td>10.00</td>\n",
       "      <td>linear</td>\n",
       "    </tr>\n",
       "    <tr>\n",
       "      <td>7</td>\n",
       "      <td>0.756204</td>\n",
       "      <td>8</td>\n",
       "      <td>0.01</td>\n",
       "      <td>rbf</td>\n",
       "    </tr>\n",
       "  </tbody>\n",
       "</table>\n",
       "</div>"
      ],
      "text/plain": [
       "   Accuracy  Rank      C  kernel\n",
       "0  0.828325     1   0.01  linear\n",
       "1  0.810366     2   0.10  linear\n",
       "2  0.808881     3   1.00  linear\n",
       "3  0.803436     4   0.10     rbf\n",
       "4  0.802729     5   1.00     rbf\n",
       "5  0.797143     6  10.00     rbf\n",
       "6  0.790285     7  10.00  linear\n",
       "7  0.756204     8   0.01     rbf"
      ]
     },
     "execution_count": 46,
     "metadata": {},
     "output_type": "execute_result"
    }
   ],
   "source": [
    "svc_grid_summary"
   ]
  },
  {
   "cell_type": "code",
   "execution_count": 47,
   "metadata": {},
   "outputs": [
    {
     "data": {
      "text/plain": [
       "['results/svc_gridsearch.pkl']"
      ]
     },
     "execution_count": 47,
     "metadata": {},
     "output_type": "execute_result"
    }
   ],
   "source": [
    "joblib.dump(svc_grid_results, \"results/svc_gridsearch.pkl\") "
   ]
  },
  {
   "cell_type": "markdown",
   "metadata": {},
   "source": [
    "### Multilayer Perceptron"
   ]
  },
  {
   "cell_type": "code",
   "execution_count": 52,
   "metadata": {},
   "outputs": [],
   "source": [
    "def mlp_summary(results):\n",
    "    \n",
    "    accuracy = results.cv_results_['mean_test_accuracy']\n",
    "    params = results.cv_results_['params']\n",
    "\n",
    "    summary = {\n",
    "        \"Accuracy\": [accuracy[i] for i in range(len(params))],\n",
    "        \"Rank\": [results.cv_results_[\"rank_test_accuracy\"][i] for i in range(len(params))],\n",
    "        \"hidden_layer_sizes\": [param['mlp__hidden_layer_sizes'] for param in params], \n",
    "    }\n",
    "    \n",
    "    df_summary = pd.DataFrame(data=summary).sort_values(by=\"Rank\")\n",
    "    df_summary = df_summary.reset_index(drop=True)\n",
    "    return df_summary"
   ]
  },
  {
   "cell_type": "code",
   "execution_count": 53,
   "metadata": {},
   "outputs": [
    {
     "name": "stdout",
     "output_type": "stream",
     "text": [
      "Fitting 4 folds for each of 12 candidates, totalling 48 fits\n"
     ]
    },
    {
     "name": "stderr",
     "output_type": "stream",
     "text": [
      "[Parallel(n_jobs=-1)]: Using backend LokyBackend with 6 concurrent workers.\n",
      "[Parallel(n_jobs=-1)]: Done  20 tasks      | elapsed:  4.5min\n",
      "[Parallel(n_jobs=-1)]: Done  48 out of  48 | elapsed: 10.4min finished\n",
      "/opt/anaconda3/lib/python3.7/site-packages/sklearn/neural_network/multilayer_perceptron.py:566: ConvergenceWarning: Stochastic Optimizer: Maximum iterations (500) reached and the optimization hasn't converged yet.\n",
      "  % self.max_iter, ConvergenceWarning)\n"
     ]
    }
   ],
   "source": [
    "mlp_grid_params = {\n",
    "    \"mlp__hidden_layer_sizes\": [(64), (128), (256), (512),\n",
    "                                (512, 256), (512, 128), (512, 64),\n",
    "                                (256, 128), (256, 64), (128, 64),\n",
    "                                (512, 256, 128), (256, 128, 64)]\n",
    "    }\n",
    "\n",
    "mlp = MLPClassifier(max_iter=500, random_state=18)\n",
    "mlp_pipeline = Pipeline(steps=[('normalize', MinMaxScaler()), ('mlp', mlp)])\n",
    "\n",
    "mlp_grid_search = GridSearchCV(mlp_pipeline, \n",
    "                               mlp_grid_params, \n",
    "                               scoring=['accuracy'], \n",
    "                               refit = 'accuracy', \n",
    "                               verbose=3, n_jobs=-1, cv=kf)\n",
    "\n",
    "mlp_grid_results = mlp_grid_search.fit(X_train, y_train)"
   ]
  },
  {
   "cell_type": "code",
   "execution_count": 54,
   "metadata": {},
   "outputs": [
    {
     "data": {
      "text/html": [
       "<div>\n",
       "<style scoped>\n",
       "    .dataframe tbody tr th:only-of-type {\n",
       "        vertical-align: middle;\n",
       "    }\n",
       "\n",
       "    .dataframe tbody tr th {\n",
       "        vertical-align: top;\n",
       "    }\n",
       "\n",
       "    .dataframe thead th {\n",
       "        text-align: right;\n",
       "    }\n",
       "</style>\n",
       "<table border=\"1\" class=\"dataframe\">\n",
       "  <thead>\n",
       "    <tr style=\"text-align: right;\">\n",
       "      <th></th>\n",
       "      <th>Accuracy</th>\n",
       "      <th>Rank</th>\n",
       "      <th>hidden_layer_sizes</th>\n",
       "    </tr>\n",
       "  </thead>\n",
       "  <tbody>\n",
       "    <tr>\n",
       "      <td>0</td>\n",
       "      <td>0.784063</td>\n",
       "      <td>1</td>\n",
       "      <td>128</td>\n",
       "    </tr>\n",
       "  </tbody>\n",
       "</table>\n",
       "</div>"
      ],
      "text/plain": [
       "   Accuracy  Rank hidden_layer_sizes\n",
       "0  0.784063     1                128"
      ]
     },
     "execution_count": 54,
     "metadata": {},
     "output_type": "execute_result"
    }
   ],
   "source": [
    "mlp_grid_summary = mlp_summary(mlp_grid_results)\n",
    "mlp_grid_summary.iloc[:1,:]"
   ]
  },
  {
   "cell_type": "code",
   "execution_count": 56,
   "metadata": {},
   "outputs": [
    {
     "data": {
      "text/plain": [
       "['results/mlp_gridsearch.pkl']"
      ]
     },
     "execution_count": 56,
     "metadata": {},
     "output_type": "execute_result"
    }
   ],
   "source": [
    "joblib.dump(mlp_grid_results, \"results/mlp_gridsearch.pkl\") "
   ]
  },
  {
   "cell_type": "markdown",
   "metadata": {},
   "source": [
    "## 5. Evaluation"
   ]
  },
  {
   "cell_type": "markdown",
   "metadata": {},
   "source": [
    "### Random forest"
   ]
  },
  {
   "cell_type": "code",
   "execution_count": 66,
   "metadata": {},
   "outputs": [
    {
     "data": {
      "text/plain": [
       "0.8029695969832665"
      ]
     },
     "execution_count": 66,
     "metadata": {},
     "output_type": "execute_result"
    }
   ],
   "source": [
    "rf_grid_results.score(X_test, y_test)"
   ]
  },
  {
   "cell_type": "markdown",
   "metadata": {},
   "source": [
    "### XGBoost"
   ]
  },
  {
   "cell_type": "code",
   "execution_count": 67,
   "metadata": {},
   "outputs": [
    {
     "data": {
      "text/plain": [
       "0.8817110534998822"
      ]
     },
     "execution_count": 67,
     "metadata": {},
     "output_type": "execute_result"
    }
   ],
   "source": [
    "xgb_grid_results.score(X_test, y_test)"
   ]
  },
  {
   "cell_type": "markdown",
   "metadata": {},
   "source": [
    "### Support Vector Machine"
   ]
  },
  {
   "cell_type": "code",
   "execution_count": 68,
   "metadata": {},
   "outputs": [
    {
     "data": {
      "text/plain": [
       "0.7692198915861419"
      ]
     },
     "execution_count": 68,
     "metadata": {},
     "output_type": "execute_result"
    }
   ],
   "source": [
    "svc_grid_results.score(X_test, y_test)"
   ]
  },
  {
   "cell_type": "markdown",
   "metadata": {},
   "source": [
    "### Multilayer Perceptron"
   ]
  },
  {
   "cell_type": "code",
   "execution_count": 70,
   "metadata": {},
   "outputs": [
    {
     "data": {
      "text/plain": [
       "0.7904312986094745"
      ]
     },
     "execution_count": 70,
     "metadata": {},
     "output_type": "execute_result"
    }
   ],
   "source": [
    "mlp_grid_results.score(X_test, y_test)"
   ]
  }
 ],
 "metadata": {
  "kernelspec": {
   "display_name": "Python 3 (ipykernel)",
   "language": "python",
   "name": "python3"
  },
  "language_info": {
   "codemirror_mode": {
    "name": "ipython",
    "version": 3
   },
   "file_extension": ".py",
   "mimetype": "text/x-python",
   "name": "python",
   "nbconvert_exporter": "python",
   "pygments_lexer": "ipython3",
   "version": "3.7.6"
  }
 },
 "nbformat": 4,
 "nbformat_minor": 4
}
