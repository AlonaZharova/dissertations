{
 "cells": [
  {
   "cell_type": "code",
   "execution_count": 1,
   "metadata": {},
   "outputs": [],
   "source": [
    "import numpy as np\n",
    "import pandas as pd\n",
    "import matplotlib.pyplot as plt\n",
    "from sklearn.preprocessing import StandardScaler\n",
    "from sklearn_pandas import DataFrameMapper\n",
    "\n",
    "import torch\n",
    "import torchtuples as tt\n",
    "\n",
    "from pycox.datasets import metabric\n",
    "from pycox.models import CoxTime\n",
    "from pycox.models.cox_time import MLPVanillaCoxTime\n",
    "from pycox.evaluation import EvalSurv"
   ]
  },
  {
   "cell_type": "code",
   "execution_count": 2,
   "metadata": {},
   "outputs": [],
   "source": [
    "np.random.seed(1234)\n",
    "_ = torch.manual_seed(123)"
   ]
  },
  {
   "cell_type": "code",
   "execution_count": 8,
   "metadata": {},
   "outputs": [],
   "source": [
    "data = pd.read_csv('C:\\\\Users\\\\raibe\\\\Desktop\\\\Thesis Code\\\\datasets\\\\data batches\\\\ndb1.csv')"
   ]
  },
  {
   "cell_type": "code",
   "execution_count": 9,
   "metadata": {},
   "outputs": [],
   "source": [
    "data = data.drop([\"label\", \"default\", \"current_year\"], axis=1)"
   ]
  },
  {
   "cell_type": "code",
   "execution_count": 10,
   "metadata": {},
   "outputs": [
    {
     "data": {
      "text/html": [
       "<div>\n",
       "<style scoped>\n",
       "    .dataframe tbody tr th:only-of-type {\n",
       "        vertical-align: middle;\n",
       "    }\n",
       "\n",
       "    .dataframe tbody tr th {\n",
       "        vertical-align: top;\n",
       "    }\n",
       "\n",
       "    .dataframe thead th {\n",
       "        text-align: right;\n",
       "    }\n",
       "</style>\n",
       "<table border=\"1\" class=\"dataframe\">\n",
       "  <thead>\n",
       "    <tr style=\"text-align: right;\">\n",
       "      <th></th>\n",
       "      <th>time</th>\n",
       "      <th>payoff</th>\n",
       "      <th>int.rate</th>\n",
       "      <th>orig.upb</th>\n",
       "      <th>fico.score</th>\n",
       "      <th>dti.r</th>\n",
       "      <th>ltv.r</th>\n",
       "      <th>bal.repaid</th>\n",
       "      <th>t.act.12m</th>\n",
       "      <th>t.del.30d.12m</th>\n",
       "      <th>...</th>\n",
       "      <th>ppi.o.FRMA</th>\n",
       "      <th>equity.est</th>\n",
       "      <th>hpi.st.log12m</th>\n",
       "      <th>hpi.r.st.us</th>\n",
       "      <th>hpi.r.zip.st</th>\n",
       "      <th>st.unemp.r12m</th>\n",
       "      <th>st.unemp.r3m</th>\n",
       "      <th>TB10Y.r12m</th>\n",
       "      <th>T10Y3MM</th>\n",
       "      <th>T10Y3MM.r12m</th>\n",
       "    </tr>\n",
       "  </thead>\n",
       "  <tbody>\n",
       "    <tr>\n",
       "      <th>0</th>\n",
       "      <td>20</td>\n",
       "      <td>1</td>\n",
       "      <td>7.00</td>\n",
       "      <td>63000</td>\n",
       "      <td>657</td>\n",
       "      <td>26</td>\n",
       "      <td>79</td>\n",
       "      <td>2.078556</td>\n",
       "      <td>11</td>\n",
       "      <td>1</td>\n",
       "      <td>...</td>\n",
       "      <td>1.01</td>\n",
       "      <td>32293.92</td>\n",
       "      <td>0.146144</td>\n",
       "      <td>1.110008</td>\n",
       "      <td>1.234804</td>\n",
       "      <td>-0.7</td>\n",
       "      <td>-0.1</td>\n",
       "      <td>0.39</td>\n",
       "      <td>3.41</td>\n",
       "      <td>0.58</td>\n",
       "    </tr>\n",
       "    <tr>\n",
       "      <th>1</th>\n",
       "      <td>7</td>\n",
       "      <td>1</td>\n",
       "      <td>7.00</td>\n",
       "      <td>132000</td>\n",
       "      <td>647</td>\n",
       "      <td>33</td>\n",
       "      <td>80</td>\n",
       "      <td>0.583939</td>\n",
       "      <td>11</td>\n",
       "      <td>1</td>\n",
       "      <td>...</td>\n",
       "      <td>-0.18</td>\n",
       "      <td>46221.55</td>\n",
       "      <td>0.146154</td>\n",
       "      <td>1.078726</td>\n",
       "      <td>1.668582</td>\n",
       "      <td>0.9</td>\n",
       "      <td>0.1</td>\n",
       "      <td>-0.86</td>\n",
       "      <td>2.24</td>\n",
       "      <td>0.15</td>\n",
       "    </tr>\n",
       "    <tr>\n",
       "      <th>2</th>\n",
       "      <td>9</td>\n",
       "      <td>1</td>\n",
       "      <td>6.25</td>\n",
       "      <td>152000</td>\n",
       "      <td>761</td>\n",
       "      <td>29</td>\n",
       "      <td>80</td>\n",
       "      <td>0.871974</td>\n",
       "      <td>12</td>\n",
       "      <td>0</td>\n",
       "      <td>...</td>\n",
       "      <td>0.32</td>\n",
       "      <td>42039.07</td>\n",
       "      <td>0.093969</td>\n",
       "      <td>1.054944</td>\n",
       "      <td>1.006483</td>\n",
       "      <td>0.6</td>\n",
       "      <td>0.0</td>\n",
       "      <td>0.19</td>\n",
       "      <td>3.50</td>\n",
       "      <td>0.86</td>\n",
       "    </tr>\n",
       "    <tr>\n",
       "      <th>3</th>\n",
       "      <td>31</td>\n",
       "      <td>1</td>\n",
       "      <td>7.00</td>\n",
       "      <td>50000</td>\n",
       "      <td>758</td>\n",
       "      <td>24</td>\n",
       "      <td>37</td>\n",
       "      <td>3.386060</td>\n",
       "      <td>12</td>\n",
       "      <td>0</td>\n",
       "      <td>...</td>\n",
       "      <td>-0.23</td>\n",
       "      <td>106211.90</td>\n",
       "      <td>0.033797</td>\n",
       "      <td>0.968266</td>\n",
       "      <td>1.407201</td>\n",
       "      <td>2.1</td>\n",
       "      <td>0.9</td>\n",
       "      <td>-1.07</td>\n",
       "      <td>2.78</td>\n",
       "      <td>3.23</td>\n",
       "    </tr>\n",
       "    <tr>\n",
       "      <th>4</th>\n",
       "      <td>18</td>\n",
       "      <td>1</td>\n",
       "      <td>6.75</td>\n",
       "      <td>181000</td>\n",
       "      <td>653</td>\n",
       "      <td>29</td>\n",
       "      <td>55</td>\n",
       "      <td>1.415833</td>\n",
       "      <td>11</td>\n",
       "      <td>1</td>\n",
       "      <td>...</td>\n",
       "      <td>-0.06</td>\n",
       "      <td>163735.70</td>\n",
       "      <td>0.017066</td>\n",
       "      <td>0.893576</td>\n",
       "      <td>1.507073</td>\n",
       "      <td>0.5</td>\n",
       "      <td>0.0</td>\n",
       "      <td>-0.67</td>\n",
       "      <td>3.08</td>\n",
       "      <td>0.11</td>\n",
       "    </tr>\n",
       "  </tbody>\n",
       "</table>\n",
       "<p>5 rows × 27 columns</p>\n",
       "</div>"
      ],
      "text/plain": [
       "   time  payoff  int.rate  orig.upb  fico.score  dti.r  ltv.r  bal.repaid  \\\n",
       "0    20       1      7.00     63000         657     26     79    2.078556   \n",
       "1     7       1      7.00    132000         647     33     80    0.583939   \n",
       "2     9       1      6.25    152000         761     29     80    0.871974   \n",
       "3    31       1      7.00     50000         758     24     37    3.386060   \n",
       "4    18       1      6.75    181000         653     29     55    1.415833   \n",
       "\n",
       "   t.act.12m  t.del.30d.12m  ...  ppi.o.FRMA  equity.est  hpi.st.log12m  \\\n",
       "0         11              1  ...        1.01    32293.92       0.146144   \n",
       "1         11              1  ...       -0.18    46221.55       0.146154   \n",
       "2         12              0  ...        0.32    42039.07       0.093969   \n",
       "3         12              0  ...       -0.23   106211.90       0.033797   \n",
       "4         11              1  ...       -0.06   163735.70       0.017066   \n",
       "\n",
       "   hpi.r.st.us  hpi.r.zip.st  st.unemp.r12m  st.unemp.r3m  TB10Y.r12m  \\\n",
       "0     1.110008      1.234804           -0.7          -0.1        0.39   \n",
       "1     1.078726      1.668582            0.9           0.1       -0.86   \n",
       "2     1.054944      1.006483            0.6           0.0        0.19   \n",
       "3     0.968266      1.407201            2.1           0.9       -1.07   \n",
       "4     0.893576      1.507073            0.5           0.0       -0.67   \n",
       "\n",
       "   T10Y3MM  T10Y3MM.r12m  \n",
       "0     3.41          0.58  \n",
       "1     2.24          0.15  \n",
       "2     3.50          0.86  \n",
       "3     2.78          3.23  \n",
       "4     3.08          0.11  \n",
       "\n",
       "[5 rows x 27 columns]"
      ]
     },
     "execution_count": 10,
     "metadata": {},
     "output_type": "execute_result"
    }
   ],
   "source": [
    "data.head()"
   ]
  },
  {
   "cell_type": "code",
   "execution_count": null,
   "metadata": {},
   "outputs": [],
   "source": [
    "data.columns"
   ]
  },
  {
   "cell_type": "code",
   "execution_count": 6,
   "metadata": {},
   "outputs": [],
   "source": [
    "df_train = data\n",
    "df_test = df_train.sample(frac=0.2)\n",
    "df_train = df_train.drop(df_test.index)\n",
    "df_val = df_train.sample(frac=0.2)\n",
    "df_train = df_train.drop(df_val.index)"
   ]
  },
  {
   "cell_type": "code",
   "execution_count": 7,
   "metadata": {},
   "outputs": [],
   "source": [
    "cols_standardize = ['int.rate', 'orig.upb', 'fico.score', 'dti.r',\n",
    "       'ltv.r', 'bal.repaid','hpi.st.d.t.o', 'hpi.zip.o', 'hpi.zip.d.t.o', 'ppi.c.FRMA',\n",
    "       'TB10Y.d.t.o', 'FRMA30Y.d.t.o', 'ppi.o.FRMA', 'equity.est',\n",
    "       'hpi.st.log12m', 'hpi.r.st.us', 'hpi.r.zip.st', 'st.unemp.r12m',\n",
    "       'st.unemp.r3m', 'TB10Y.r12m', 'T10Y3MM', 'T10Y3MM.r12m']\n",
    "       \n",
    "cols_leave = ['t.act.12m', 't.del.30d.12m', 't.del.60d.12m']\n",
    "\n",
    "standardize = [([col], StandardScaler()) for col in cols_standardize]\n",
    "leave = [(col, None) for col in cols_leave]\n",
    "\n",
    "x_mapper = DataFrameMapper(standardize + leave)"
   ]
  },
  {
   "cell_type": "code",
   "execution_count": 8,
   "metadata": {},
   "outputs": [],
   "source": [
    "x_train = x_mapper.fit_transform(df_train).astype('float32')\n",
    "x_val = x_mapper.transform(df_val).astype('float32')\n",
    "x_test = x_mapper.transform(df_test).astype('float32')"
   ]
  },
  {
   "cell_type": "code",
   "execution_count": 9,
   "metadata": {},
   "outputs": [
    {
     "name": "stderr",
     "output_type": "stream",
     "text": [
      "C:\\Users\\raibe\\Anaconda3\\lib\\site-packages\\sklearn\\utils\\validation.py:70: FutureWarning: Pass copy=True, with_mean=True, with_std=True as keyword args. From version 0.25 passing these as positional arguments will result in an error\n",
      "  FutureWarning)\n"
     ]
    }
   ],
   "source": [
    "labtrans = CoxTime.label_transform()\n",
    "get_target = lambda df: (df['time'].values, df['payoff'].values)\n",
    "y_train = labtrans.fit_transform(*get_target(df_train))\n",
    "y_val = labtrans.transform(*get_target(df_val))\n",
    "durations_test, events_test = get_target(df_test)\n",
    "val = tt.tuplefy(x_val, y_val)"
   ]
  },
  {
   "cell_type": "code",
   "execution_count": null,
   "metadata": {},
   "outputs": [],
   "source": [
    "val.shapes()"
   ]
  },
  {
   "cell_type": "code",
   "execution_count": null,
   "metadata": {},
   "outputs": [],
   "source": [
    "val.repeat(2).cat().shapes()"
   ]
  },
  {
   "cell_type": "code",
   "execution_count": 10,
   "metadata": {},
   "outputs": [],
   "source": [
    "in_features = x_train.shape[1]\n",
    "num_nodes = [256, 256, 256, 256]\n",
    "batch_norm = True\n",
    "dropout = 0.1\n",
    "net = MLPVanillaCoxTime(in_features, num_nodes, batch_norm, dropout)"
   ]
  },
  {
   "cell_type": "code",
   "execution_count": 11,
   "metadata": {},
   "outputs": [
    {
     "name": "stderr",
     "output_type": "stream",
     "text": [
      "C:\\Users\\raibe\\Anaconda3\\lib\\site-packages\\torch\\cuda\\__init__.py:52: UserWarning: CUDA initialization: Found no NVIDIA driver on your system. Please check that you have an NVIDIA GPU and installed a driver from http://www.nvidia.com/Download/index.aspx (Triggered internally at  ..\\c10\\cuda\\CUDAFunctions.cpp:100.)\n",
      "  return torch._C._cuda_getDeviceCount() > 0\n"
     ]
    }
   ],
   "source": [
    "model = CoxTime(net, tt.optim.Adam, labtrans=labtrans)"
   ]
  },
  {
   "cell_type": "code",
   "execution_count": 12,
   "metadata": {},
   "outputs": [
    {
     "data": {
      "image/png": "[encoded data removed]",
      "text/plain": [
       "<Figure size 432x288 with 1 Axes>"
      ]
     },
     "metadata": {
      "needs_background": "light"
     },
     "output_type": "display_data"
    }
   ],
   "source": [
    "batch_size = 128\n",
    "lrfinder = model.lr_finder(x_train, y_train, batch_size, tolerance=2)\n",
    "_ = lrfinder.plot()"
   ]
  },
  {
   "cell_type": "code",
   "execution_count": null,
   "metadata": {},
   "outputs": [],
   "source": [
    "lrfinder.get_best_lr()"
   ]
  },
  {
   "cell_type": "code",
   "execution_count": 13,
   "metadata": {},
   "outputs": [],
   "source": [
    "model.optimizer.set_lr(0.001)"
   ]
  },
  {
   "cell_type": "code",
   "execution_count": 14,
   "metadata": {},
   "outputs": [],
   "source": [
    "epochs = 512\n",
    "callbacks = [tt.callbacks.EarlyStopping()]\n",
    "verbose = True"
   ]
  },
  {
   "cell_type": "code",
   "execution_count": 15,
   "metadata": {},
   "outputs": [
    {
     "name": "stdout",
     "output_type": "stream",
     "text": [
      "0:\t[1s / 1s],\t\ttrain_loss: 0.4141,\tval_loss: 0.3578\n",
      "1:\t[2s / 4s],\t\ttrain_loss: 0.3023,\tval_loss: 0.3340\n",
      "2:\t[2s / 7s],\t\ttrain_loss: 0.2659,\tval_loss: 0.3128\n",
      "3:\t[2s / 10s],\t\ttrain_loss: 0.2758,\tval_loss: 0.3019\n",
      "4:\t[2s / 12s],\t\ttrain_loss: 0.2543,\tval_loss: 0.2727\n",
      "5:\t[2s / 14s],\t\ttrain_loss: 0.2451,\tval_loss: 0.2632\n",
      "6:\t[2s / 16s],\t\ttrain_loss: 0.2471,\tval_loss: 0.2478\n",
      "7:\t[2s / 19s],\t\ttrain_loss: 0.2361,\tval_loss: 0.2833\n",
      "8:\t[2s / 21s],\t\ttrain_loss: 0.2398,\tval_loss: 0.2472\n",
      "9:\t[1s / 23s],\t\ttrain_loss: 0.2270,\tval_loss: 0.2352\n",
      "10:\t[2s / 25s],\t\ttrain_loss: 0.2282,\tval_loss: 0.2427\n",
      "11:\t[1s / 27s],\t\ttrain_loss: 0.2285,\tval_loss: 0.2823\n",
      "12:\t[2s / 29s],\t\ttrain_loss: 0.2258,\tval_loss: 0.2274\n",
      "13:\t[3s / 32s],\t\ttrain_loss: 0.2112,\tval_loss: 0.2253\n",
      "14:\t[3s / 35s],\t\ttrain_loss: 0.2110,\tval_loss: 0.2151\n",
      "15:\t[3s / 38s],\t\ttrain_loss: 0.2076,\tval_loss: 0.2019\n",
      "16:\t[1s / 40s],\t\ttrain_loss: 0.1998,\tval_loss: 0.2086\n",
      "17:\t[2s / 43s],\t\ttrain_loss: 0.2046,\tval_loss: 0.2104\n",
      "18:\t[2s / 45s],\t\ttrain_loss: 0.1937,\tval_loss: 0.2170\n",
      "19:\t[1s / 47s],\t\ttrain_loss: 0.1922,\tval_loss: 0.1989\n",
      "20:\t[2s / 49s],\t\ttrain_loss: 0.1881,\tval_loss: 0.1991\n",
      "21:\t[1s / 51s],\t\ttrain_loss: 0.1790,\tval_loss: 0.2148\n",
      "22:\t[1s / 52s],\t\ttrain_loss: 0.1930,\tval_loss: 0.2082\n",
      "23:\t[1s / 54s],\t\ttrain_loss: 0.1938,\tval_loss: 0.2079\n",
      "24:\t[2s / 56s],\t\ttrain_loss: 0.1774,\tval_loss: 0.2019\n",
      "25:\t[2s / 59s],\t\ttrain_loss: 0.1739,\tval_loss: 0.2062\n",
      "26:\t[2s / 1m:1s],\t\ttrain_loss: 0.1719,\tval_loss: 0.2045\n",
      "27:\t[2s / 1m:4s],\t\ttrain_loss: 0.1725,\tval_loss: 0.1863\n",
      "28:\t[1s / 1m:6s],\t\ttrain_loss: 0.1704,\tval_loss: 0.1981\n",
      "29:\t[1s / 1m:8s],\t\ttrain_loss: 0.1800,\tval_loss: 0.1805\n",
      "30:\t[1s / 1m:10s],\t\ttrain_loss: 0.2037,\tval_loss: 0.1933\n",
      "31:\t[1s / 1m:12s],\t\ttrain_loss: 0.1709,\tval_loss: 0.2061\n",
      "32:\t[1s / 1m:13s],\t\ttrain_loss: 0.1688,\tval_loss: 0.1871\n",
      "33:\t[1s / 1m:15s],\t\ttrain_loss: 0.1687,\tval_loss: 0.1873\n",
      "34:\t[1s / 1m:17s],\t\ttrain_loss: 0.1657,\tval_loss: 0.2041\n",
      "35:\t[1s / 1m:19s],\t\ttrain_loss: 0.1680,\tval_loss: 0.1935\n",
      "36:\t[2s / 1m:21s],\t\ttrain_loss: 0.1564,\tval_loss: 0.2108\n",
      "37:\t[2s / 1m:24s],\t\ttrain_loss: 0.1572,\tval_loss: 0.1812\n",
      "38:\t[2s / 1m:26s],\t\ttrain_loss: 0.1631,\tval_loss: 0.1883\n",
      "39:\t[2s / 1m:28s],\t\ttrain_loss: 0.1487,\tval_loss: 0.1851\n",
      "Wall time: 1min 28s\n"
     ]
    }
   ],
   "source": [
    "%%time\n",
    "log = model.fit(x_train, y_train, batch_size, epochs, callbacks, verbose,\n",
    "                val_data=val.repeat(10).cat())"
   ]
  },
  {
   "cell_type": "code",
   "execution_count": null,
   "metadata": {},
   "outputs": [],
   "source": [
    "_ = log.plot()"
   ]
  },
  {
   "cell_type": "code",
   "execution_count": null,
   "metadata": {},
   "outputs": [],
   "source": [
    "model.partial_log_likelihood(*val).mean()"
   ]
  },
  {
   "cell_type": "code",
   "execution_count": null,
   "metadata": {},
   "outputs": [],
   "source": [
    "_ = model.compute_baseline_hazards()"
   ]
  },
  {
   "cell_type": "code",
   "execution_count": null,
   "metadata": {},
   "outputs": [],
   "source": [
    "surv = model.predict_surv_df(x_test)"
   ]
  },
  {
   "cell_type": "code",
   "execution_count": null,
   "metadata": {},
   "outputs": [],
   "source": [
    "surv.iloc[:, :5].plot()\n",
    "plt.ylabel('S(t | x)')\n",
    "_ = plt.xlabel('Time')"
   ]
  },
  {
   "cell_type": "code",
   "execution_count": null,
   "metadata": {},
   "outputs": [],
   "source": [
    "ev = EvalSurv(surv, durations_test, events_test, censor_surv='km')\n",
    "ev.concordance_td()"
   ]
  },
  {
   "cell_type": "code",
   "execution_count": null,
   "metadata": {},
   "outputs": [],
   "source": [
    "from lifelines.utils import concordance_index"
   ]
  },
  {
   "cell_type": "code",
   "execution_count": null,
   "metadata": {},
   "outputs": [],
   "source": [
    "print(concordance_index(event_times=durations_test, predicted_scores=surv.loc[72,], event_observed=events_test))"
   ]
  },
  {
   "cell_type": "code",
   "execution_count": null,
   "metadata": {},
   "outputs": [],
   "source": [
    "time_grid = np.linspace(durations_test.min(), durations_test.max(), 60)\n",
    "ev.brier_score(time_grid).plot()\n",
    "plt.ylabel('Brier score')\n",
    "_ = plt.xlabel('Time')"
   ]
  },
  {
   "cell_type": "code",
   "execution_count": null,
   "metadata": {},
   "outputs": [],
   "source": [
    "ev.integrated_brier_score(time_grid) "
   ]
  }
 ],
 "metadata": {
  "kernelspec": {
   "display_name": "Python 3",
   "language": "python",
   "name": "python3"
  },
  "language_info": {
   "codemirror_mode": {
    "name": "ipython",
    "version": 3
   },
   "file_extension": ".py",
   "mimetype": "text/x-python",
   "name": "python",
   "nbconvert_exporter": "python",
   "pygments_lexer": "ipython3",
   "version": "3.7.9"
  }
 },
 "nbformat": 4,
 "nbformat_minor": 4
}
