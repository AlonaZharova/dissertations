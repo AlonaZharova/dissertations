{
 "cells": [
  {
   "cell_type": "code",
   "execution_count": 3,
   "metadata": {},
   "outputs": [],
   "source": [
    "import numpy as np\n",
    "import pandas as pd\n",
    "import matplotlib.pyplot as plt\n",
    "from sklearn.preprocessing import StandardScaler\n",
    "from sklearn_pandas import DataFrameMapper\n",
    "\n",
    "import torch\n",
    "import torchtuples as tt\n",
    "\n",
    "from pycox.datasets import metabric\n",
    "from pycox.models import CoxPH\n",
    "from pycox.evaluation import EvalSurv\n",
    "\n",
    "np.random.seed(1234)\n",
    "_ = torch.manual_seed(123)"
   ]
  },
  {
   "cell_type": "code",
   "execution_count": 6,
   "metadata": {},
   "outputs": [
    {
     "name": "stdout",
     "output_type": "stream",
     "text": [
      "1.7.0\n"
     ]
    }
   ],
   "source": [
    "print(torch.__version__)"
   ]
  },
  {
   "cell_type": "code",
   "execution_count": 2,
   "metadata": {},
   "outputs": [],
   "source": [
    "data = pd.read_csv('C:\\\\Users\\\\raibe\\\\Desktop\\\\Thesis Code\\\\datasets\\\\mortgage\\\\WideFormatMortgageAfterRemovingNull.csv')"
   ]
  },
  {
   "cell_type": "code",
   "execution_count": 3,
   "metadata": {},
   "outputs": [],
   "source": [
    "data = data.drop([\"id\", \"first_time\", \"payoff_time\", \"status_time\", \"time\"], axis=1)"
   ]
  },
  {
   "cell_type": "code",
   "execution_count": 4,
   "metadata": {},
   "outputs": [
    {
     "data": {
      "text/html": [
       "<div>\n",
       "<style scoped>\n",
       "    .dataframe tbody tr th:only-of-type {\n",
       "        vertical-align: middle;\n",
       "    }\n",
       "\n",
       "    .dataframe tbody tr th {\n",
       "        vertical-align: top;\n",
       "    }\n",
       "\n",
       "    .dataframe thead th {\n",
       "        text-align: right;\n",
       "    }\n",
       "</style>\n",
       "<table border=\"1\" class=\"dataframe\">\n",
       "  <thead>\n",
       "    <tr style=\"text-align: right;\">\n",
       "      <th></th>\n",
       "      <th>duration</th>\n",
       "      <th>orig_time</th>\n",
       "      <th>mat_time</th>\n",
       "      <th>balance_time</th>\n",
       "      <th>LTV_time</th>\n",
       "      <th>interest_rate_time</th>\n",
       "      <th>hpi_time</th>\n",
       "      <th>gdp_time</th>\n",
       "      <th>uer_time</th>\n",
       "      <th>REtype_CO_orig_time</th>\n",
       "      <th>REtype_PU_orig_time</th>\n",
       "      <th>REtype_SF_orig_time</th>\n",
       "      <th>investor_orig_time</th>\n",
       "      <th>balance_orig_time</th>\n",
       "      <th>FICO_orig_time</th>\n",
       "      <th>LTV_orig_time</th>\n",
       "      <th>Interest_Rate_orig_time</th>\n",
       "      <th>hpi_orig_time</th>\n",
       "      <th>default_time</th>\n",
       "    </tr>\n",
       "  </thead>\n",
       "  <tbody>\n",
       "    <tr>\n",
       "      <th>0</th>\n",
       "      <td>24</td>\n",
       "      <td>-7</td>\n",
       "      <td>113</td>\n",
       "      <td>29087.21</td>\n",
       "      <td>26.658065</td>\n",
       "      <td>9.200</td>\n",
       "      <td>146.45</td>\n",
       "      <td>2.715903</td>\n",
       "      <td>8.3</td>\n",
       "      <td>0</td>\n",
       "      <td>0</td>\n",
       "      <td>1</td>\n",
       "      <td>0</td>\n",
       "      <td>45000.0</td>\n",
       "      <td>715</td>\n",
       "      <td>69.4</td>\n",
       "      <td>9.200</td>\n",
       "      <td>87.03</td>\n",
       "      <td>1</td>\n",
       "    </tr>\n",
       "    <tr>\n",
       "      <th>1</th>\n",
       "      <td>2</td>\n",
       "      <td>18</td>\n",
       "      <td>138</td>\n",
       "      <td>105654.77</td>\n",
       "      <td>65.469851</td>\n",
       "      <td>7.680</td>\n",
       "      <td>225.10</td>\n",
       "      <td>2.151365</td>\n",
       "      <td>4.7</td>\n",
       "      <td>0</td>\n",
       "      <td>0</td>\n",
       "      <td>1</td>\n",
       "      <td>0</td>\n",
       "      <td>107200.0</td>\n",
       "      <td>558</td>\n",
       "      <td>80.0</td>\n",
       "      <td>7.680</td>\n",
       "      <td>186.91</td>\n",
       "      <td>0</td>\n",
       "    </tr>\n",
       "    <tr>\n",
       "      <th>2</th>\n",
       "      <td>5</td>\n",
       "      <td>-6</td>\n",
       "      <td>114</td>\n",
       "      <td>44378.60</td>\n",
       "      <td>31.459735</td>\n",
       "      <td>11.375</td>\n",
       "      <td>217.37</td>\n",
       "      <td>1.692969</td>\n",
       "      <td>4.5</td>\n",
       "      <td>0</td>\n",
       "      <td>0</td>\n",
       "      <td>1</td>\n",
       "      <td>0</td>\n",
       "      <td>48600.0</td>\n",
       "      <td>680</td>\n",
       "      <td>83.6</td>\n",
       "      <td>8.750</td>\n",
       "      <td>89.58</td>\n",
       "      <td>0</td>\n",
       "    </tr>\n",
       "    <tr>\n",
       "      <th>3</th>\n",
       "      <td>36</td>\n",
       "      <td>-2</td>\n",
       "      <td>119</td>\n",
       "      <td>52686.35</td>\n",
       "      <td>34.898842</td>\n",
       "      <td>10.500</td>\n",
       "      <td>189.82</td>\n",
       "      <td>2.836358</td>\n",
       "      <td>5.7</td>\n",
       "      <td>0</td>\n",
       "      <td>0</td>\n",
       "      <td>1</td>\n",
       "      <td>0</td>\n",
       "      <td>63750.0</td>\n",
       "      <td>587</td>\n",
       "      <td>81.8</td>\n",
       "      <td>10.500</td>\n",
       "      <td>97.99</td>\n",
       "      <td>0</td>\n",
       "    </tr>\n",
       "    <tr>\n",
       "      <th>4</th>\n",
       "      <td>3</td>\n",
       "      <td>18</td>\n",
       "      <td>138</td>\n",
       "      <td>52100.71</td>\n",
       "      <td>66.346343</td>\n",
       "      <td>9.155</td>\n",
       "      <td>222.39</td>\n",
       "      <td>2.361722</td>\n",
       "      <td>4.4</td>\n",
       "      <td>0</td>\n",
       "      <td>0</td>\n",
       "      <td>1</td>\n",
       "      <td>0</td>\n",
       "      <td>52800.0</td>\n",
       "      <td>527</td>\n",
       "      <td>80.0</td>\n",
       "      <td>9.155</td>\n",
       "      <td>186.91</td>\n",
       "      <td>0</td>\n",
       "    </tr>\n",
       "  </tbody>\n",
       "</table>\n",
       "</div>"
      ],
      "text/plain": [
       "   duration  orig_time  mat_time  balance_time   LTV_time  interest_rate_time  \\\n",
       "0        24         -7       113      29087.21  26.658065               9.200   \n",
       "1         2         18       138     105654.77  65.469851               7.680   \n",
       "2         5         -6       114      44378.60  31.459735              11.375   \n",
       "3        36         -2       119      52686.35  34.898842              10.500   \n",
       "4         3         18       138      52100.71  66.346343               9.155   \n",
       "\n",
       "   hpi_time  gdp_time  uer_time  REtype_CO_orig_time  REtype_PU_orig_time  \\\n",
       "0    146.45  2.715903       8.3                    0                    0   \n",
       "1    225.10  2.151365       4.7                    0                    0   \n",
       "2    217.37  1.692969       4.5                    0                    0   \n",
       "3    189.82  2.836358       5.7                    0                    0   \n",
       "4    222.39  2.361722       4.4                    0                    0   \n",
       "\n",
       "   REtype_SF_orig_time  investor_orig_time  balance_orig_time  FICO_orig_time  \\\n",
       "0                    1                   0            45000.0             715   \n",
       "1                    1                   0           107200.0             558   \n",
       "2                    1                   0            48600.0             680   \n",
       "3                    1                   0            63750.0             587   \n",
       "4                    1                   0            52800.0             527   \n",
       "\n",
       "   LTV_orig_time  Interest_Rate_orig_time  hpi_orig_time  default_time  \n",
       "0           69.4                    9.200          87.03             1  \n",
       "1           80.0                    7.680         186.91             0  \n",
       "2           83.6                    8.750          89.58             0  \n",
       "3           81.8                   10.500          97.99             0  \n",
       "4           80.0                    9.155         186.91             0  "
      ]
     },
     "execution_count": 4,
     "metadata": {},
     "output_type": "execute_result"
    }
   ],
   "source": [
    "data.head()"
   ]
  },
  {
   "cell_type": "code",
   "execution_count": 5,
   "metadata": {},
   "outputs": [],
   "source": [
    "df_train = data\n",
    "df_test = df_train.sample(frac=0.2)\n",
    "df_train = df_train.drop(df_test.index)\n",
    "df_val = df_train.sample(frac=0.2)\n",
    "df_train = df_train.drop(df_val.index)\n",
    "\n",
    "cols_standardize = ['orig_time', 'mat_time', 'balance_time', 'LTV_time', 'interest_rate_time', 'hpi_time', 'gdp_time', 'uer_time', 'balance_orig_time', \n",
    "                    'FICO_orig_time', 'LTV_orig_time', 'Interest_Rate_orig_time', 'hpi_orig_time']\n",
    "cols_leave = ['REtype_CO_orig_time', 'REtype_PU_orig_time', 'REtype_SF_orig_time', 'investor_orig_time']#, 'duration', 'default_time'\n",
    "\n",
    "\n",
    "standardize = [([col], StandardScaler()) for col in cols_standardize]\n",
    "leave = [(col, None) for col in cols_leave]\n",
    "\n",
    "x_mapper = DataFrameMapper(standardize + leave)\n",
    "\n",
    "x_train = x_mapper.fit_transform(df_train).astype('float32')\n",
    "x_val = x_mapper.transform(df_val).astype('float32')\n",
    "x_test = x_mapper.transform(df_test).astype('float32')\n",
    "\n",
    "get_target = lambda df: (df['duration'].values, df['default_time'].values)\n",
    "y_train = get_target(df_train)\n",
    "y_val = get_target(df_val)\n",
    "durations_test, events_test = get_target(df_test)\n",
    "val = x_val, y_val"
   ]
  },
  {
   "cell_type": "code",
   "execution_count": 6,
   "metadata": {},
   "outputs": [],
   "source": [
    "in_features = x_train.shape[1]\n",
    "num_nodes = [256, 256, 256, 256]\n",
    "out_features = 1\n",
    "batch_norm = True\n",
    "dropout = 0.1\n",
    "output_bias = False\n",
    "\n",
    "net = tt.practical.MLPVanilla(in_features, num_nodes, out_features, batch_norm,\n",
    "                              dropout, output_bias=output_bias)"
   ]
  },
  {
   "cell_type": "code",
   "execution_count": 7,
   "metadata": {},
   "outputs": [
    {
     "name": "stderr",
     "output_type": "stream",
     "text": [
      "C:\\Users\\raibe\\Anaconda3\\lib\\site-packages\\torch\\cuda\\__init__.py:52: UserWarning: CUDA initialization: Found no NVIDIA driver on your system. Please check that you have an NVIDIA GPU and installed a driver from http://www.nvidia.com/Download/index.aspx (Triggered internally at  ..\\c10\\cuda\\CUDAFunctions.cpp:100.)\n",
      "  return torch._C._cuda_getDeviceCount() > 0\n"
     ]
    }
   ],
   "source": [
    "model = CoxPH(net, tt.optim.Adam)"
   ]
  },
  {
   "cell_type": "code",
   "execution_count": 8,
   "metadata": {},
   "outputs": [
    {
     "data": {
      "image/png": "[encoded data removed]",
      "text/plain": [
       "<Figure size 432x288 with 1 Axes>"
      ]
     },
     "metadata": {
      "needs_background": "light"
     },
     "output_type": "display_data"
    }
   ],
   "source": [
    "batch_size = 256\n",
    "lrfinder = model.lr_finder(x_train, y_train, batch_size, tolerance=10)\n",
    "_ = lrfinder.plot()"
   ]
  },
  {
   "cell_type": "code",
   "execution_count": 9,
   "metadata": {},
   "outputs": [],
   "source": [
    "model.optimizer.set_lr(0.001)"
   ]
  },
  {
   "cell_type": "code",
   "execution_count": 10,
   "metadata": {},
   "outputs": [],
   "source": [
    "epochs = 512\n",
    "callbacks = [tt.callbacks.EarlyStopping()]\n",
    "verbose = True"
   ]
  },
  {
   "cell_type": "code",
   "execution_count": 11,
   "metadata": {},
   "outputs": [
    {
     "name": "stdout",
     "output_type": "stream",
     "text": [
      "0:\t[1s / 1s],\t\ttrain_loss: 3.6138,\tval_loss: 3.2769\n",
      "1:\t[1s / 3s],\t\ttrain_loss: 3.3221,\tval_loss: 3.1735\n",
      "2:\t[2s / 6s],\t\ttrain_loss: 3.2424,\tval_loss: 3.0642\n",
      "3:\t[2s / 8s],\t\ttrain_loss: 3.1690,\tval_loss: 3.0183\n",
      "4:\t[2s / 10s],\t\ttrain_loss: 3.1300,\tval_loss: 2.9969\n",
      "5:\t[2s / 12s],\t\ttrain_loss: 3.0887,\tval_loss: 2.9814\n",
      "6:\t[2s / 15s],\t\ttrain_loss: 3.0735,\tval_loss: 2.9802\n",
      "7:\t[2s / 17s],\t\ttrain_loss: 3.0360,\tval_loss: 2.9320\n",
      "8:\t[2s / 20s],\t\ttrain_loss: 3.0446,\tval_loss: 2.9981\n",
      "9:\t[2s / 22s],\t\ttrain_loss: 3.0044,\tval_loss: 2.8997\n",
      "10:\t[2s / 25s],\t\ttrain_loss: 2.9914,\tval_loss: 2.9170\n",
      "11:\t[2s / 27s],\t\ttrain_loss: 2.9682,\tval_loss: 2.8927\n",
      "12:\t[2s / 29s],\t\ttrain_loss: 2.9582,\tval_loss: 2.8808\n",
      "13:\t[2s / 32s],\t\ttrain_loss: 2.9660,\tval_loss: 2.9202\n",
      "14:\t[2s / 35s],\t\ttrain_loss: 2.9366,\tval_loss: 2.9048\n",
      "15:\t[2s / 37s],\t\ttrain_loss: 2.9346,\tval_loss: 2.8858\n",
      "16:\t[2s / 40s],\t\ttrain_loss: 2.9246,\tval_loss: 2.8772\n",
      "17:\t[2s / 42s],\t\ttrain_loss: 2.9052,\tval_loss: 2.8775\n",
      "18:\t[2s / 45s],\t\ttrain_loss: 2.8923,\tval_loss: 2.8464\n",
      "19:\t[2s / 47s],\t\ttrain_loss: 2.8928,\tval_loss: 2.8450\n",
      "20:\t[2s / 50s],\t\ttrain_loss: 2.8793,\tval_loss: 2.8509\n",
      "21:\t[2s / 53s],\t\ttrain_loss: 2.8584,\tval_loss: 2.8228\n",
      "22:\t[2s / 55s],\t\ttrain_loss: 2.8930,\tval_loss: 2.8308\n",
      "23:\t[2s / 58s],\t\ttrain_loss: 2.8715,\tval_loss: 2.8420\n",
      "24:\t[2s / 1m:1s],\t\ttrain_loss: 2.8521,\tval_loss: 2.8177\n",
      "25:\t[2s / 1m:3s],\t\ttrain_loss: 2.8459,\tval_loss: 2.8456\n",
      "26:\t[2s / 1m:6s],\t\ttrain_loss: 2.8383,\tval_loss: 2.8328\n",
      "27:\t[2s / 1m:9s],\t\ttrain_loss: 2.8474,\tval_loss: 2.8256\n",
      "28:\t[2s / 1m:11s],\t\ttrain_loss: 2.8364,\tval_loss: 2.8644\n",
      "29:\t[2s / 1m:14s],\t\ttrain_loss: 2.8233,\tval_loss: 2.8384\n",
      "30:\t[2s / 1m:16s],\t\ttrain_loss: 2.8155,\tval_loss: 2.8236\n",
      "31:\t[2s / 1m:18s],\t\ttrain_loss: 2.8151,\tval_loss: 2.9573\n",
      "32:\t[2s / 1m:21s],\t\ttrain_loss: 2.7964,\tval_loss: 2.8290\n",
      "33:\t[2s / 1m:23s],\t\ttrain_loss: 2.7901,\tval_loss: 2.8413\n",
      "34:\t[2s / 1m:26s],\t\ttrain_loss: 2.7900,\tval_loss: 2.8383\n",
      "Wall time: 1min 26s\n"
     ]
    }
   ],
   "source": [
    "%%time\n",
    "log = model.fit(x_train, y_train, batch_size, epochs, callbacks, verbose,\n",
    "                val_data=val, val_batch_size=batch_size)"
   ]
  },
  {
   "cell_type": "code",
   "execution_count": 12,
   "metadata": {},
   "outputs": [
    {
     "data": {
      "image/png": "[encoded data removed]",
      "text/plain": [
       "<Figure size 432x288 with 1 Axes>"
      ]
     },
     "metadata": {
      "needs_background": "light"
     },
     "output_type": "display_data"
    }
   ],
   "source": [
    "_ = log.plot()"
   ]
  },
  {
   "cell_type": "code",
   "execution_count": 13,
   "metadata": {},
   "outputs": [
    {
     "data": {
      "text/plain": [
       "-6.6253057"
      ]
     },
     "execution_count": 13,
     "metadata": {},
     "output_type": "execute_result"
    }
   ],
   "source": [
    "model.partial_log_likelihood(*val).mean()"
   ]
  },
  {
   "cell_type": "code",
   "execution_count": 14,
   "metadata": {},
   "outputs": [],
   "source": [
    "_ = model.compute_baseline_hazards()"
   ]
  },
  {
   "cell_type": "code",
   "execution_count": 15,
   "metadata": {},
   "outputs": [],
   "source": [
    "surv = model.predict_surv_df(x_test)"
   ]
  },
  {
   "cell_type": "code",
   "execution_count": 16,
   "metadata": {},
   "outputs": [],
   "source": [
    "ev = EvalSurv(surv, durations_test, events_test, censor_surv='km')"
   ]
  },
  {
   "cell_type": "code",
   "execution_count": 17,
   "metadata": {},
   "outputs": [
    {
     "data": {
      "text/plain": [
       "0.9134153866761866"
      ]
     },
     "execution_count": 17,
     "metadata": {},
     "output_type": "execute_result"
    }
   ],
   "source": [
    "ev.concordance_td()"
   ]
  }
 ],
 "metadata": {
  "kernelspec": {
   "display_name": "Python 3",
   "language": "python",
   "name": "python3"
  },
  "language_info": {
   "codemirror_mode": {
    "name": "ipython",
    "version": 3
   },
   "file_extension": ".py",
   "mimetype": "text/x-python",
   "name": "python",
   "nbconvert_exporter": "python",
   "pygments_lexer": "ipython3",
   "version": "3.7.9"
  }
 },
 "nbformat": 4,
 "nbformat_minor": 4
}
