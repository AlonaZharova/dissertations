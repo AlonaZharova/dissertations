{
 "cells": [
  {
   "cell_type": "code",
   "execution_count": 1,
   "metadata": {},
   "outputs": [],
   "source": [
    "import numpy as np\n",
    "import pandas as pd\n",
    "import matplotlib.pyplot as plt\n",
    "from sklearn.preprocessing import StandardScaler\n",
    "from sklearn_pandas import DataFrameMapper\n",
    "\n",
    "import torch\n",
    "import torchtuples as tt\n",
    "\n",
    "from pycox.datasets import metabric\n",
    "from pycox.models import CoxPH\n",
    "from pycox.evaluation import EvalSurv\n",
    "\n",
    "np.random.seed(1234)\n",
    "_ = torch.manual_seed(123)"
   ]
  },
  {
   "cell_type": "code",
   "execution_count": 2,
   "metadata": {},
   "outputs": [],
   "source": [
    "data = pd.read_csv('C:\\\\Users\\\\raibe\\\\Desktop\\\\Thesis Code\\\\datasets\\\\data batches\\\\ndb10.csv')"
   ]
  },
  {
   "cell_type": "code",
   "execution_count": 3,
   "metadata": {},
   "outputs": [],
   "source": [
    "data = data.drop([\"label\", \"default\", \"current_year\"], axis=1)"
   ]
  },
  {
   "cell_type": "code",
   "execution_count": 4,
   "metadata": {},
   "outputs": [
    {
     "data": {
      "text/html": [
       "<div>\n",
       "<style scoped>\n",
       "    .dataframe tbody tr th:only-of-type {\n",
       "        vertical-align: middle;\n",
       "    }\n",
       "\n",
       "    .dataframe tbody tr th {\n",
       "        vertical-align: top;\n",
       "    }\n",
       "\n",
       "    .dataframe thead th {\n",
       "        text-align: right;\n",
       "    }\n",
       "</style>\n",
       "<table border=\"1\" class=\"dataframe\">\n",
       "  <thead>\n",
       "    <tr style=\"text-align: right;\">\n",
       "      <th></th>\n",
       "      <th>time</th>\n",
       "      <th>payoff</th>\n",
       "      <th>int.rate</th>\n",
       "      <th>orig.upb</th>\n",
       "      <th>fico.score</th>\n",
       "      <th>dti.r</th>\n",
       "      <th>ltv.r</th>\n",
       "      <th>bal.repaid</th>\n",
       "      <th>t.act.12m</th>\n",
       "      <th>t.del.30d.12m</th>\n",
       "      <th>...</th>\n",
       "      <th>ppi.o.FRMA</th>\n",
       "      <th>equity.est</th>\n",
       "      <th>hpi.st.log12m</th>\n",
       "      <th>hpi.r.st.us</th>\n",
       "      <th>hpi.r.zip.st</th>\n",
       "      <th>st.unemp.r12m</th>\n",
       "      <th>st.unemp.r3m</th>\n",
       "      <th>TB10Y.r12m</th>\n",
       "      <th>T10Y3MM</th>\n",
       "      <th>T10Y3MM.r12m</th>\n",
       "    </tr>\n",
       "  </thead>\n",
       "  <tbody>\n",
       "    <tr>\n",
       "      <th>0</th>\n",
       "      <td>57</td>\n",
       "      <td>1</td>\n",
       "      <td>6.875</td>\n",
       "      <td>180000</td>\n",
       "      <td>680</td>\n",
       "      <td>30</td>\n",
       "      <td>90</td>\n",
       "      <td>5.644167</td>\n",
       "      <td>12</td>\n",
       "      <td>0</td>\n",
       "      <td>...</td>\n",
       "      <td>-0.145</td>\n",
       "      <td>110482.80</td>\n",
       "      <td>0.049438</td>\n",
       "      <td>1.136017</td>\n",
       "      <td>0.892428</td>\n",
       "      <td>0.5</td>\n",
       "      <td>-0.1</td>\n",
       "      <td>0.91</td>\n",
       "      <td>0.14</td>\n",
       "      <td>-0.82</td>\n",
       "    </tr>\n",
       "    <tr>\n",
       "      <th>1</th>\n",
       "      <td>5</td>\n",
       "      <td>1</td>\n",
       "      <td>6.500</td>\n",
       "      <td>300000</td>\n",
       "      <td>758</td>\n",
       "      <td>36</td>\n",
       "      <td>66</td>\n",
       "      <td>0.333333</td>\n",
       "      <td>12</td>\n",
       "      <td>0</td>\n",
       "      <td>...</td>\n",
       "      <td>0.570</td>\n",
       "      <td>172589.30</td>\n",
       "      <td>0.117066</td>\n",
       "      <td>1.048596</td>\n",
       "      <td>1.425959</td>\n",
       "      <td>0.0</td>\n",
       "      <td>0.0</td>\n",
       "      <td>-1.25</td>\n",
       "      <td>2.83</td>\n",
       "      <td>-0.67</td>\n",
       "    </tr>\n",
       "    <tr>\n",
       "      <th>2</th>\n",
       "      <td>5</td>\n",
       "      <td>1</td>\n",
       "      <td>6.000</td>\n",
       "      <td>269000</td>\n",
       "      <td>769</td>\n",
       "      <td>36</td>\n",
       "      <td>77</td>\n",
       "      <td>0.743494</td>\n",
       "      <td>12</td>\n",
       "      <td>0</td>\n",
       "      <td>...</td>\n",
       "      <td>0.210</td>\n",
       "      <td>84684.58</td>\n",
       "      <td>0.025783</td>\n",
       "      <td>0.891385</td>\n",
       "      <td>1.377818</td>\n",
       "      <td>1.2</td>\n",
       "      <td>0.4</td>\n",
       "      <td>-1.60</td>\n",
       "      <td>2.41</td>\n",
       "      <td>-0.82</td>\n",
       "    </tr>\n",
       "    <tr>\n",
       "      <th>3</th>\n",
       "      <td>5</td>\n",
       "      <td>1</td>\n",
       "      <td>8.375</td>\n",
       "      <td>160000</td>\n",
       "      <td>661</td>\n",
       "      <td>48</td>\n",
       "      <td>85</td>\n",
       "      <td>0.625000</td>\n",
       "      <td>12</td>\n",
       "      <td>0</td>\n",
       "      <td>...</td>\n",
       "      <td>0.495</td>\n",
       "      <td>36270.05</td>\n",
       "      <td>0.132158</td>\n",
       "      <td>1.003634</td>\n",
       "      <td>1.217811</td>\n",
       "      <td>0.0</td>\n",
       "      <td>0.4</td>\n",
       "      <td>-1.50</td>\n",
       "      <td>0.01</td>\n",
       "      <td>-1.33</td>\n",
       "    </tr>\n",
       "    <tr>\n",
       "      <th>4</th>\n",
       "      <td>5</td>\n",
       "      <td>1</td>\n",
       "      <td>8.500</td>\n",
       "      <td>84000</td>\n",
       "      <td>715</td>\n",
       "      <td>49</td>\n",
       "      <td>90</td>\n",
       "      <td>1.190476</td>\n",
       "      <td>11</td>\n",
       "      <td>1</td>\n",
       "      <td>...</td>\n",
       "      <td>0.620</td>\n",
       "      <td>13180.12</td>\n",
       "      <td>0.050343</td>\n",
       "      <td>0.995011</td>\n",
       "      <td>1.545843</td>\n",
       "      <td>1.1</td>\n",
       "      <td>0.5</td>\n",
       "      <td>-1.50</td>\n",
       "      <td>0.01</td>\n",
       "      <td>-1.33</td>\n",
       "    </tr>\n",
       "  </tbody>\n",
       "</table>\n",
       "<p>5 rows × 27 columns</p>\n",
       "</div>"
      ],
      "text/plain": [
       "   time  payoff  int.rate  orig.upb  fico.score  dti.r  ltv.r  bal.repaid  \\\n",
       "0    57       1     6.875    180000         680     30     90    5.644167   \n",
       "1     5       1     6.500    300000         758     36     66    0.333333   \n",
       "2     5       1     6.000    269000         769     36     77    0.743494   \n",
       "3     5       1     8.375    160000         661     48     85    0.625000   \n",
       "4     5       1     8.500     84000         715     49     90    1.190476   \n",
       "\n",
       "   t.act.12m  t.del.30d.12m  ...  ppi.o.FRMA  equity.est  hpi.st.log12m  \\\n",
       "0         12              0  ...      -0.145   110482.80       0.049438   \n",
       "1         12              0  ...       0.570   172589.30       0.117066   \n",
       "2         12              0  ...       0.210    84684.58       0.025783   \n",
       "3         12              0  ...       0.495    36270.05       0.132158   \n",
       "4         11              1  ...       0.620    13180.12       0.050343   \n",
       "\n",
       "   hpi.r.st.us  hpi.r.zip.st  st.unemp.r12m  st.unemp.r3m  TB10Y.r12m  \\\n",
       "0     1.136017      0.892428            0.5          -0.1        0.91   \n",
       "1     1.048596      1.425959            0.0           0.0       -1.25   \n",
       "2     0.891385      1.377818            1.2           0.4       -1.60   \n",
       "3     1.003634      1.217811            0.0           0.4       -1.50   \n",
       "4     0.995011      1.545843            1.1           0.5       -1.50   \n",
       "\n",
       "   T10Y3MM  T10Y3MM.r12m  \n",
       "0     0.14         -0.82  \n",
       "1     2.83         -0.67  \n",
       "2     2.41         -0.82  \n",
       "3     0.01         -1.33  \n",
       "4     0.01         -1.33  \n",
       "\n",
       "[5 rows x 27 columns]"
      ]
     },
     "execution_count": 4,
     "metadata": {},
     "output_type": "execute_result"
    }
   ],
   "source": [
    "data.head()"
   ]
  },
  {
   "cell_type": "code",
   "execution_count": 5,
   "metadata": {},
   "outputs": [],
   "source": [
    "df_train = data\n",
    "df_test = df_train.sample(frac=0.2)\n",
    "df_train = df_train.drop(df_test.index)\n",
    "df_val = df_train.sample(frac=0.2)\n",
    "df_train = df_train.drop(df_val.index)\n",
    "\n",
    "cols_standardize = ['int.rate', 'orig.upb', 'fico.score', 'dti.r',\n",
    "       'ltv.r', 'bal.repaid','hpi.st.d.t.o', 'hpi.zip.o', 'hpi.zip.d.t.o', 'ppi.c.FRMA',\n",
    "       'TB10Y.d.t.o', 'FRMA30Y.d.t.o', 'ppi.o.FRMA', 'equity.est',\n",
    "       'hpi.st.log12m', 'hpi.r.st.us', 'hpi.r.zip.st', 'st.unemp.r12m',\n",
    "       'st.unemp.r3m', 'TB10Y.r12m', 'T10Y3MM', 'T10Y3MM.r12m']\n",
    "       \n",
    "cols_leave = ['t.act.12m', 't.del.30d.12m', 't.del.60d.12m']\n",
    "\n",
    "standardize = [([col], StandardScaler()) for col in cols_standardize]\n",
    "leave = [(col, None) for col in cols_leave]\n",
    "\n",
    "x_mapper = DataFrameMapper(standardize + leave)\n",
    "\n",
    "x_train = x_mapper.fit_transform(df_train).astype('float32')\n",
    "x_val = x_mapper.transform(df_val).astype('float32')\n",
    "x_test = x_mapper.transform(df_test).astype('float32')\n",
    "\n",
    "get_target = lambda df: (df['time'].values, df['payoff'].values)\n",
    "y_train = get_target(df_train)\n",
    "y_val = get_target(df_val)\n",
    "durations_test, events_test = get_target(df_test)\n",
    "val = x_val, y_val"
   ]
  },
  {
   "cell_type": "code",
   "execution_count": 6,
   "metadata": {},
   "outputs": [],
   "source": [
    "in_features = x_train.shape[1]\n",
    "num_nodes = [256, 256, 256, 256]\n",
    "out_features = 1\n",
    "batch_norm = True\n",
    "dropout = 0.1\n",
    "output_bias = False\n",
    "\n",
    "net = tt.practical.MLPVanilla(in_features, num_nodes, out_features, batch_norm,\n",
    "                              dropout, output_bias=output_bias)"
   ]
  },
  {
   "cell_type": "code",
   "execution_count": 7,
   "metadata": {},
   "outputs": [
    {
     "name": "stderr",
     "output_type": "stream",
     "text": [
      "C:\\Users\\raibe\\Anaconda3\\lib\\site-packages\\torch\\cuda\\__init__.py:52: UserWarning: CUDA initialization: Found no NVIDIA driver on your system. Please check that you have an NVIDIA GPU and installed a driver from http://www.nvidia.com/Download/index.aspx (Triggered internally at  ..\\c10\\cuda\\CUDAFunctions.cpp:100.)\n",
      "  return torch._C._cuda_getDeviceCount() > 0\n"
     ]
    }
   ],
   "source": [
    "model = CoxPH(net, tt.optim.Adam)"
   ]
  },
  {
   "cell_type": "code",
   "execution_count": 8,
   "metadata": {},
   "outputs": [
    {
     "data": {
      "image/png": "[encoded data removed]",
      "text/plain": [
       "<Figure size 432x288 with 1 Axes>"
      ]
     },
     "metadata": {
      "needs_background": "light"
     },
     "output_type": "display_data"
    }
   ],
   "source": [
    "batch_size = 256\n",
    "lrfinder = model.lr_finder(x_train, y_train, batch_size, tolerance=10)\n",
    "_ = lrfinder.plot()"
   ]
  },
  {
   "cell_type": "code",
   "execution_count": 9,
   "metadata": {},
   "outputs": [],
   "source": [
    "model.optimizer.set_lr(0.001)"
   ]
  },
  {
   "cell_type": "code",
   "execution_count": 10,
   "metadata": {},
   "outputs": [],
   "source": [
    "epochs = 512\n",
    "callbacks = [tt.callbacks.EarlyStopping()]\n",
    "verbose = True"
   ]
  },
  {
   "cell_type": "code",
   "execution_count": 11,
   "metadata": {},
   "outputs": [
    {
     "name": "stdout",
     "output_type": "stream",
     "text": [
      "0:\t[0s / 0s],\t\ttrain_loss: 4.0510,\tval_loss: 3.4690\n",
      "1:\t[0s / 0s],\t\ttrain_loss: 3.6364,\tval_loss: 3.2471\n",
      "2:\t[0s / 1s],\t\ttrain_loss: 3.5365,\tval_loss: 3.1866\n",
      "3:\t[0s / 1s],\t\ttrain_loss: 3.4383,\tval_loss: 3.1114\n",
      "4:\t[0s / 2s],\t\ttrain_loss: 3.4076,\tval_loss: 3.0726\n",
      "5:\t[0s / 2s],\t\ttrain_loss: 3.3573,\tval_loss: 3.0786\n",
      "6:\t[0s / 3s],\t\ttrain_loss: 3.3370,\tval_loss: 3.0667\n",
      "7:\t[0s / 3s],\t\ttrain_loss: 3.2778,\tval_loss: 2.9844\n",
      "8:\t[0s / 4s],\t\ttrain_loss: 3.2749,\tval_loss: 2.9713\n",
      "9:\t[0s / 4s],\t\ttrain_loss: 3.2927,\tval_loss: 2.9799\n",
      "10:\t[0s / 4s],\t\ttrain_loss: 3.2440,\tval_loss: 2.9409\n",
      "11:\t[0s / 5s],\t\ttrain_loss: 3.2201,\tval_loss: 2.9593\n",
      "12:\t[0s / 5s],\t\ttrain_loss: 3.1952,\tval_loss: 2.9185\n",
      "13:\t[0s / 6s],\t\ttrain_loss: 3.1874,\tval_loss: 2.9403\n",
      "14:\t[0s / 6s],\t\ttrain_loss: 3.1600,\tval_loss: 2.9188\n",
      "15:\t[0s / 7s],\t\ttrain_loss: 3.1397,\tval_loss: 2.9075\n",
      "16:\t[0s / 7s],\t\ttrain_loss: 3.1641,\tval_loss: 2.9034\n",
      "17:\t[0s / 8s],\t\ttrain_loss: 3.1471,\tval_loss: 2.8980\n",
      "18:\t[0s / 8s],\t\ttrain_loss: 3.1195,\tval_loss: 2.8690\n",
      "19:\t[0s / 8s],\t\ttrain_loss: 3.1200,\tval_loss: 2.8915\n",
      "20:\t[0s / 9s],\t\ttrain_loss: 3.1248,\tval_loss: 2.8773\n",
      "21:\t[0s / 9s],\t\ttrain_loss: 3.0958,\tval_loss: 2.8510\n",
      "22:\t[0s / 10s],\t\ttrain_loss: 3.0896,\tval_loss: 2.8766\n",
      "23:\t[0s / 10s],\t\ttrain_loss: 3.1082,\tval_loss: 2.8514\n",
      "24:\t[0s / 11s],\t\ttrain_loss: 3.0965,\tval_loss: 2.8717\n",
      "25:\t[0s / 11s],\t\ttrain_loss: 3.0696,\tval_loss: 2.8514\n",
      "26:\t[0s / 11s],\t\ttrain_loss: 3.0519,\tval_loss: 2.8702\n",
      "27:\t[0s / 12s],\t\ttrain_loss: 3.0468,\tval_loss: 2.8285\n",
      "28:\t[0s / 12s],\t\ttrain_loss: 3.0719,\tval_loss: 2.8433\n",
      "29:\t[0s / 13s],\t\ttrain_loss: 3.0772,\tval_loss: 2.8325\n",
      "30:\t[0s / 13s],\t\ttrain_loss: 3.0372,\tval_loss: 2.8452\n",
      "31:\t[0s / 14s],\t\ttrain_loss: 3.0414,\tval_loss: 2.8544\n",
      "32:\t[0s / 14s],\t\ttrain_loss: 3.0323,\tval_loss: 2.8344\n",
      "33:\t[0s / 15s],\t\ttrain_loss: 3.0281,\tval_loss: 2.8114\n",
      "34:\t[0s / 15s],\t\ttrain_loss: 3.0342,\tval_loss: 2.8375\n",
      "35:\t[0s / 15s],\t\ttrain_loss: 3.0248,\tval_loss: 2.8087\n",
      "36:\t[0s / 16s],\t\ttrain_loss: 3.0150,\tval_loss: 2.8319\n",
      "37:\t[0s / 16s],\t\ttrain_loss: 3.0065,\tval_loss: 2.7968\n",
      "38:\t[0s / 17s],\t\ttrain_loss: 2.9971,\tval_loss: 2.7938\n",
      "39:\t[0s / 17s],\t\ttrain_loss: 2.9939,\tval_loss: 2.7980\n",
      "40:\t[0s / 18s],\t\ttrain_loss: 2.9801,\tval_loss: 2.8190\n",
      "41:\t[0s / 18s],\t\ttrain_loss: 2.9942,\tval_loss: 2.8041\n",
      "42:\t[0s / 18s],\t\ttrain_loss: 2.9766,\tval_loss: 2.8070\n",
      "43:\t[0s / 19s],\t\ttrain_loss: 2.9791,\tval_loss: 2.8079\n",
      "44:\t[0s / 19s],\t\ttrain_loss: 2.9891,\tval_loss: 2.8290\n",
      "45:\t[0s / 20s],\t\ttrain_loss: 2.9811,\tval_loss: 2.8107\n",
      "46:\t[0s / 20s],\t\ttrain_loss: 2.9625,\tval_loss: 2.8359\n",
      "47:\t[0s / 21s],\t\ttrain_loss: 2.9693,\tval_loss: 2.7949\n",
      "48:\t[0s / 21s],\t\ttrain_loss: 2.9759,\tval_loss: 2.7728\n",
      "49:\t[0s / 21s],\t\ttrain_loss: 2.9647,\tval_loss: 2.7793\n",
      "50:\t[0s / 22s],\t\ttrain_loss: 2.9517,\tval_loss: 2.7978\n",
      "51:\t[0s / 22s],\t\ttrain_loss: 2.9574,\tval_loss: 2.7863\n",
      "52:\t[0s / 23s],\t\ttrain_loss: 2.9474,\tval_loss: 2.7797\n",
      "53:\t[0s / 23s],\t\ttrain_loss: 2.9472,\tval_loss: 2.7941\n",
      "54:\t[0s / 24s],\t\ttrain_loss: 2.9471,\tval_loss: 2.7751\n",
      "55:\t[0s / 24s],\t\ttrain_loss: 2.9507,\tval_loss: 2.7853\n",
      "56:\t[0s / 25s],\t\ttrain_loss: 2.9389,\tval_loss: 2.7926\n",
      "57:\t[0s / 25s],\t\ttrain_loss: 2.9461,\tval_loss: 2.8016\n",
      "58:\t[0s / 25s],\t\ttrain_loss: 2.9262,\tval_loss: 2.7745\n",
      "Wall time: 26 s\n"
     ]
    }
   ],
   "source": [
    "%%time\n",
    "log = model.fit(x_train, y_train, batch_size, epochs, callbacks, verbose,\n",
    "                val_data=val, val_batch_size=batch_size)"
   ]
  },
  {
   "cell_type": "code",
   "execution_count": 12,
   "metadata": {},
   "outputs": [
    {
     "data": {
      "image/png": "[encoded data removed]",
      "text/plain": [
       "<Figure size 432x288 with 1 Axes>"
      ]
     },
     "metadata": {
      "needs_background": "light"
     },
     "output_type": "display_data"
    }
   ],
   "source": [
    "_ = log.plot()"
   ]
  },
  {
   "cell_type": "code",
   "execution_count": 13,
   "metadata": {},
   "outputs": [
    {
     "data": {
      "text/plain": [
       "-4.9117165"
      ]
     },
     "execution_count": 13,
     "metadata": {},
     "output_type": "execute_result"
    }
   ],
   "source": [
    "model.partial_log_likelihood(*val).mean()"
   ]
  },
  {
   "cell_type": "code",
   "execution_count": 14,
   "metadata": {},
   "outputs": [],
   "source": [
    "_ = model.compute_baseline_hazards()"
   ]
  },
  {
   "cell_type": "code",
   "execution_count": 15,
   "metadata": {},
   "outputs": [],
   "source": [
    "surv = model.predict_surv_df(x_test)"
   ]
  },
  {
   "cell_type": "code",
   "execution_count": 16,
   "metadata": {},
   "outputs": [],
   "source": [
    "ev = EvalSurv(surv, durations_test, events_test, censor_surv='km')"
   ]
  },
  {
   "cell_type": "code",
   "execution_count": 17,
   "metadata": {},
   "outputs": [
    {
     "data": {
      "text/plain": [
       "0.9432826384707178"
      ]
     },
     "execution_count": 17,
     "metadata": {},
     "output_type": "execute_result"
    }
   ],
   "source": [
    "ev.concordance_td()"
   ]
  },
  {
   "cell_type": "code",
   "execution_count": null,
   "metadata": {},
   "outputs": [],
   "source": []
  },
  {
   "cell_type": "code",
   "execution_count": null,
   "metadata": {},
   "outputs": [],
   "source": []
  },
  {
   "cell_type": "code",
   "execution_count": null,
   "metadata": {},
   "outputs": [],
   "source": []
  },
  {
   "cell_type": "code",
   "execution_count": null,
   "metadata": {},
   "outputs": [],
   "source": []
  },
  {
   "cell_type": "code",
   "execution_count": null,
   "metadata": {},
   "outputs": [],
   "source": []
  },
  {
   "cell_type": "code",
   "execution_count": null,
   "metadata": {},
   "outputs": [],
   "source": []
  },
  {
   "cell_type": "code",
   "execution_count": null,
   "metadata": {},
   "outputs": [],
   "source": []
  },
  {
   "cell_type": "code",
   "execution_count": null,
   "metadata": {},
   "outputs": [],
   "source": []
  },
  {
   "cell_type": "code",
   "execution_count": null,
   "metadata": {},
   "outputs": [],
   "source": []
  }
 ],
 "metadata": {
  "kernelspec": {
   "display_name": "Python 3",
   "language": "python",
   "name": "python3"
  },
  "language_info": {
   "codemirror_mode": {
    "name": "ipython",
    "version": 3
   },
   "file_extension": ".py",
   "mimetype": "text/x-python",
   "name": "python",
   "nbconvert_exporter": "python",
   "pygments_lexer": "ipython3",
   "version": "3.7.9"
  }
 },
 "nbformat": 4,
 "nbformat_minor": 4
}
