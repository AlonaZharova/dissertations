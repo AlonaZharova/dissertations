{
 "cells": [
  {
   "cell_type": "code",
   "execution_count": 1,
   "metadata": {},
   "outputs": [],
   "source": [
    "import numpy as np\n",
    "import matplotlib.pyplot as plt\n",
    "import pandas as pd\n",
    "\n",
    "# For preprocessing\n",
    "from sklearn.preprocessing import StandardScaler\n",
    "from sklearn_pandas import DataFrameMapper \n",
    "\n",
    "import torch # For building the networks \n",
    "import torchtuples as tt # Some useful functions\n",
    "\n",
    "from pycox.datasets import metabric\n",
    "from pycox.models import LogisticHazard\n",
    "# from pycox.models import PMF\n",
    "# from pycox.models import DeepHitSingle\n",
    "from pycox.evaluation import EvalSurv\n",
    "\n",
    "np.random.seed(1234)\n",
    "_ = torch.manual_seed(123)"
   ]
  },
  {
   "cell_type": "code",
   "execution_count": 2,
   "metadata": {},
   "outputs": [],
   "source": [
    "data = pd.read_csv('C:\\\\Users\\\\raibe\\\\Desktop\\\\Thesis Code\\\\datasets\\\\data batches\\\\ndb1.csv')"
   ]
  },
  {
   "cell_type": "code",
   "execution_count": 3,
   "metadata": {},
   "outputs": [],
   "source": [
    "data = data.drop([\"label\", \"default\", \"current_year\"], axis=1)"
   ]
  },
  {
   "cell_type": "code",
   "execution_count": 4,
   "metadata": {},
   "outputs": [
    {
     "data": {
      "text/html": [
       "<div>\n",
       "<style scoped>\n",
       "    .dataframe tbody tr th:only-of-type {\n",
       "        vertical-align: middle;\n",
       "    }\n",
       "\n",
       "    .dataframe tbody tr th {\n",
       "        vertical-align: top;\n",
       "    }\n",
       "\n",
       "    .dataframe thead th {\n",
       "        text-align: right;\n",
       "    }\n",
       "</style>\n",
       "<table border=\"1\" class=\"dataframe\">\n",
       "  <thead>\n",
       "    <tr style=\"text-align: right;\">\n",
       "      <th></th>\n",
       "      <th>time</th>\n",
       "      <th>payoff</th>\n",
       "      <th>int.rate</th>\n",
       "      <th>orig.upb</th>\n",
       "      <th>fico.score</th>\n",
       "      <th>dti.r</th>\n",
       "      <th>ltv.r</th>\n",
       "      <th>bal.repaid</th>\n",
       "      <th>t.act.12m</th>\n",
       "      <th>t.del.30d.12m</th>\n",
       "      <th>...</th>\n",
       "      <th>ppi.o.FRMA</th>\n",
       "      <th>equity.est</th>\n",
       "      <th>hpi.st.log12m</th>\n",
       "      <th>hpi.r.st.us</th>\n",
       "      <th>hpi.r.zip.st</th>\n",
       "      <th>st.unemp.r12m</th>\n",
       "      <th>st.unemp.r3m</th>\n",
       "      <th>TB10Y.r12m</th>\n",
       "      <th>T10Y3MM</th>\n",
       "      <th>T10Y3MM.r12m</th>\n",
       "    </tr>\n",
       "  </thead>\n",
       "  <tbody>\n",
       "    <tr>\n",
       "      <th>0</th>\n",
       "      <td>20</td>\n",
       "      <td>1</td>\n",
       "      <td>7.00</td>\n",
       "      <td>63000</td>\n",
       "      <td>657</td>\n",
       "      <td>26</td>\n",
       "      <td>79</td>\n",
       "      <td>2.078556</td>\n",
       "      <td>11</td>\n",
       "      <td>1</td>\n",
       "      <td>...</td>\n",
       "      <td>1.01</td>\n",
       "      <td>32293.92</td>\n",
       "      <td>0.146144</td>\n",
       "      <td>1.110008</td>\n",
       "      <td>1.234804</td>\n",
       "      <td>-0.7</td>\n",
       "      <td>-0.1</td>\n",
       "      <td>0.39</td>\n",
       "      <td>3.41</td>\n",
       "      <td>0.58</td>\n",
       "    </tr>\n",
       "    <tr>\n",
       "      <th>1</th>\n",
       "      <td>7</td>\n",
       "      <td>1</td>\n",
       "      <td>7.00</td>\n",
       "      <td>132000</td>\n",
       "      <td>647</td>\n",
       "      <td>33</td>\n",
       "      <td>80</td>\n",
       "      <td>0.583939</td>\n",
       "      <td>11</td>\n",
       "      <td>1</td>\n",
       "      <td>...</td>\n",
       "      <td>-0.18</td>\n",
       "      <td>46221.55</td>\n",
       "      <td>0.146154</td>\n",
       "      <td>1.078726</td>\n",
       "      <td>1.668582</td>\n",
       "      <td>0.9</td>\n",
       "      <td>0.1</td>\n",
       "      <td>-0.86</td>\n",
       "      <td>2.24</td>\n",
       "      <td>0.15</td>\n",
       "    </tr>\n",
       "    <tr>\n",
       "      <th>2</th>\n",
       "      <td>9</td>\n",
       "      <td>1</td>\n",
       "      <td>6.25</td>\n",
       "      <td>152000</td>\n",
       "      <td>761</td>\n",
       "      <td>29</td>\n",
       "      <td>80</td>\n",
       "      <td>0.871974</td>\n",
       "      <td>12</td>\n",
       "      <td>0</td>\n",
       "      <td>...</td>\n",
       "      <td>0.32</td>\n",
       "      <td>42039.07</td>\n",
       "      <td>0.093969</td>\n",
       "      <td>1.054944</td>\n",
       "      <td>1.006483</td>\n",
       "      <td>0.6</td>\n",
       "      <td>0.0</td>\n",
       "      <td>0.19</td>\n",
       "      <td>3.50</td>\n",
       "      <td>0.86</td>\n",
       "    </tr>\n",
       "    <tr>\n",
       "      <th>3</th>\n",
       "      <td>31</td>\n",
       "      <td>1</td>\n",
       "      <td>7.00</td>\n",
       "      <td>50000</td>\n",
       "      <td>758</td>\n",
       "      <td>24</td>\n",
       "      <td>37</td>\n",
       "      <td>3.386060</td>\n",
       "      <td>12</td>\n",
       "      <td>0</td>\n",
       "      <td>...</td>\n",
       "      <td>-0.23</td>\n",
       "      <td>106211.90</td>\n",
       "      <td>0.033797</td>\n",
       "      <td>0.968266</td>\n",
       "      <td>1.407201</td>\n",
       "      <td>2.1</td>\n",
       "      <td>0.9</td>\n",
       "      <td>-1.07</td>\n",
       "      <td>2.78</td>\n",
       "      <td>3.23</td>\n",
       "    </tr>\n",
       "    <tr>\n",
       "      <th>4</th>\n",
       "      <td>18</td>\n",
       "      <td>1</td>\n",
       "      <td>6.75</td>\n",
       "      <td>181000</td>\n",
       "      <td>653</td>\n",
       "      <td>29</td>\n",
       "      <td>55</td>\n",
       "      <td>1.415833</td>\n",
       "      <td>11</td>\n",
       "      <td>1</td>\n",
       "      <td>...</td>\n",
       "      <td>-0.06</td>\n",
       "      <td>163735.70</td>\n",
       "      <td>0.017066</td>\n",
       "      <td>0.893576</td>\n",
       "      <td>1.507073</td>\n",
       "      <td>0.5</td>\n",
       "      <td>0.0</td>\n",
       "      <td>-0.67</td>\n",
       "      <td>3.08</td>\n",
       "      <td>0.11</td>\n",
       "    </tr>\n",
       "  </tbody>\n",
       "</table>\n",
       "<p>5 rows × 27 columns</p>\n",
       "</div>"
      ],
      "text/plain": [
       "   time  payoff  int.rate  orig.upb  fico.score  dti.r  ltv.r  bal.repaid  \\\n",
       "0    20       1      7.00     63000         657     26     79    2.078556   \n",
       "1     7       1      7.00    132000         647     33     80    0.583939   \n",
       "2     9       1      6.25    152000         761     29     80    0.871974   \n",
       "3    31       1      7.00     50000         758     24     37    3.386060   \n",
       "4    18       1      6.75    181000         653     29     55    1.415833   \n",
       "\n",
       "   t.act.12m  t.del.30d.12m  ...  ppi.o.FRMA  equity.est  hpi.st.log12m  \\\n",
       "0         11              1  ...        1.01    32293.92       0.146144   \n",
       "1         11              1  ...       -0.18    46221.55       0.146154   \n",
       "2         12              0  ...        0.32    42039.07       0.093969   \n",
       "3         12              0  ...       -0.23   106211.90       0.033797   \n",
       "4         11              1  ...       -0.06   163735.70       0.017066   \n",
       "\n",
       "   hpi.r.st.us  hpi.r.zip.st  st.unemp.r12m  st.unemp.r3m  TB10Y.r12m  \\\n",
       "0     1.110008      1.234804           -0.7          -0.1        0.39   \n",
       "1     1.078726      1.668582            0.9           0.1       -0.86   \n",
       "2     1.054944      1.006483            0.6           0.0        0.19   \n",
       "3     0.968266      1.407201            2.1           0.9       -1.07   \n",
       "4     0.893576      1.507073            0.5           0.0       -0.67   \n",
       "\n",
       "   T10Y3MM  T10Y3MM.r12m  \n",
       "0     3.41          0.58  \n",
       "1     2.24          0.15  \n",
       "2     3.50          0.86  \n",
       "3     2.78          3.23  \n",
       "4     3.08          0.11  \n",
       "\n",
       "[5 rows x 27 columns]"
      ]
     },
     "execution_count": 4,
     "metadata": {},
     "output_type": "execute_result"
    }
   ],
   "source": [
    "data.head()"
   ]
  },
  {
   "cell_type": "code",
   "execution_count": 5,
   "metadata": {},
   "outputs": [
    {
     "data": {
      "text/plain": [
       "Index(['time', 'payoff', 'int.rate', 'orig.upb', 'fico.score', 'dti.r',\n",
       "       'ltv.r', 'bal.repaid', 't.act.12m', 't.del.30d.12m', 't.del.60d.12m',\n",
       "       'hpi.st.d.t.o', 'hpi.zip.o', 'hpi.zip.d.t.o', 'ppi.c.FRMA',\n",
       "       'TB10Y.d.t.o', 'FRMA30Y.d.t.o', 'ppi.o.FRMA', 'equity.est',\n",
       "       'hpi.st.log12m', 'hpi.r.st.us', 'hpi.r.zip.st', 'st.unemp.r12m',\n",
       "       'st.unemp.r3m', 'TB10Y.r12m', 'T10Y3MM', 'T10Y3MM.r12m'],\n",
       "      dtype='object')"
      ]
     },
     "execution_count": 5,
     "metadata": {},
     "output_type": "execute_result"
    }
   ],
   "source": [
    "data.columns"
   ]
  },
  {
   "cell_type": "code",
   "execution_count": 6,
   "metadata": {},
   "outputs": [],
   "source": [
    "df_train = data\n",
    "df_test = df_train.sample(frac=0.2)\n",
    "df_train = df_train.drop(df_test.index)\n",
    "df_val = df_train.sample(frac=0.2)\n",
    "df_train = df_train.drop(df_val.index)"
   ]
  },
  {
   "cell_type": "code",
   "execution_count": 7,
   "metadata": {},
   "outputs": [],
   "source": [
    "cols_standardize = ['int.rate', 'orig.upb', 'fico.score', 'dti.r',\n",
    "       'ltv.r', 'bal.repaid','hpi.st.d.t.o', 'hpi.zip.o', 'hpi.zip.d.t.o', 'ppi.c.FRMA',\n",
    "       'TB10Y.d.t.o', 'FRMA30Y.d.t.o', 'ppi.o.FRMA', 'equity.est',\n",
    "       'hpi.st.log12m', 'hpi.r.st.us', 'hpi.r.zip.st', 'st.unemp.r12m',\n",
    "       'st.unemp.r3m', 'TB10Y.r12m', 'T10Y3MM', 'T10Y3MM.r12m']\n",
    "       \n",
    "cols_leave = ['t.act.12m', 't.del.30d.12m', 't.del.60d.12m']\n",
    "\n",
    "standardize = [([col], StandardScaler()) for col in cols_standardize]\n",
    "leave = [(col, None) for col in cols_leave]\n",
    "\n",
    "x_mapper = DataFrameMapper(standardize + leave)\n",
    "\n",
    "x_train = x_mapper.fit_transform(df_train).astype('float32')\n",
    "x_val = x_mapper.transform(df_val).astype('float32')\n",
    "x_test = x_mapper.transform(df_test).astype('float32')"
   ]
  },
  {
   "cell_type": "code",
   "execution_count": 8,
   "metadata": {},
   "outputs": [],
   "source": [
    "num_durations = 25\n",
    "\n",
    "labtrans = LogisticHazard.label_transform(num_durations)\n",
    "# labtrans = PMF.label_transform(num_durations)\n",
    "# labtrans = DeepHitSingle.label_transform(num_durations)\n",
    "\n",
    "get_target = lambda df: (df['time'].values, df['payoff'].values)\n",
    "y_train = labtrans.fit_transform(*get_target(df_train))\n",
    "y_val = labtrans.transform(*get_target(df_val))\n",
    "\n",
    "train = (x_train, y_train)\n",
    "val = (x_val, y_val)\n",
    "\n",
    "# We don't need to transform the test labels\n",
    "durations_test, events_test = get_target(df_test)"
   ]
  },
  {
   "cell_type": "code",
   "execution_count": 9,
   "metadata": {},
   "outputs": [],
   "source": [
    "in_features = x_train.shape[1]\n",
    "num_nodes = [256, 256, 256, 256]\n",
    "out_features = labtrans.out_features\n",
    "batch_norm = True\n",
    "dropout = 0.1\n",
    "\n",
    "\n",
    "#in_features = x_train.shape[1]\n",
    "#num_nodes = [32, 32]\n",
    "#out_features = labtrans.out_features\n",
    "#batch_norm = True\n",
    "#dropout = 0.1\n",
    "\n",
    "net = tt.practical.MLPVanilla(in_features, num_nodes, out_features, batch_norm, dropout)"
   ]
  },
  {
   "cell_type": "code",
   "execution_count": 10,
   "metadata": {},
   "outputs": [
    {
     "name": "stderr",
     "output_type": "stream",
     "text": [
      "C:\\Users\\raibe\\Anaconda3\\lib\\site-packages\\torch\\cuda\\__init__.py:52: UserWarning: CUDA initialization: Found no NVIDIA driver on your system. Please check that you have an NVIDIA GPU and installed a driver from http://www.nvidia.com/Download/index.aspx (Triggered internally at  ..\\c10\\cuda\\CUDAFunctions.cpp:100.)\n",
      "  return torch._C._cuda_getDeviceCount() > 0\n"
     ]
    }
   ],
   "source": [
    "model = LogisticHazard(net, tt.optim.Adam(0.01), duration_index=labtrans.cuts)\n",
    "# model = PMF(net, tt.optim.Adam(0.01), duration_index=labtrans.cuts)\n",
    "# model = DeepHitSingle(net, tt.optim.Adam(0.01), duration_index=labtrans.cuts)"
   ]
  },
  {
   "cell_type": "code",
   "execution_count": 11,
   "metadata": {},
   "outputs": [],
   "source": [
    "batch_size = 256\n",
    "epochs = 100\n",
    "callbacks = [tt.cb.EarlyStopping()]"
   ]
  },
  {
   "cell_type": "code",
   "execution_count": 12,
   "metadata": {},
   "outputs": [
    {
     "name": "stdout",
     "output_type": "stream",
     "text": [
      "0:\t[1s / 1s],\t\ttrain_loss: 3.0062,\tval_loss: 2.8737\n",
      "1:\t[1s / 2s],\t\ttrain_loss: 1.5626,\tval_loss: 2.0408\n",
      "2:\t[1s / 3s],\t\ttrain_loss: 1.4236,\tval_loss: 1.3345\n",
      "3:\t[1s / 4s],\t\ttrain_loss: 1.2736,\tval_loss: 1.2453\n",
      "4:\t[1s / 5s],\t\ttrain_loss: 1.2925,\tval_loss: 1.2550\n",
      "5:\t[1s / 6s],\t\ttrain_loss: 1.2792,\tval_loss: 1.1484\n",
      "6:\t[1s / 8s],\t\ttrain_loss: 1.1358,\tval_loss: 1.5761\n",
      "7:\t[1s / 9s],\t\ttrain_loss: 1.1256,\tval_loss: 1.4142\n",
      "8:\t[1s / 10s],\t\ttrain_loss: 1.1310,\tval_loss: 1.2252\n",
      "9:\t[1s / 11s],\t\ttrain_loss: 1.1305,\tval_loss: 1.3150\n",
      "10:\t[1s / 13s],\t\ttrain_loss: 1.0658,\tval_loss: 1.3537\n",
      "11:\t[1s / 14s],\t\ttrain_loss: 1.0153,\tval_loss: 1.0851\n",
      "12:\t[1s / 16s],\t\ttrain_loss: 1.1041,\tval_loss: 1.8728\n",
      "13:\t[1s / 17s],\t\ttrain_loss: 1.1327,\tval_loss: 1.3022\n",
      "14:\t[1s / 18s],\t\ttrain_loss: 1.0197,\tval_loss: 1.0002\n",
      "15:\t[1s / 20s],\t\ttrain_loss: 0.9883,\tval_loss: 1.3120\n",
      "16:\t[1s / 21s],\t\ttrain_loss: 0.9299,\tval_loss: 1.0966\n",
      "17:\t[1s / 22s],\t\ttrain_loss: 0.9534,\tval_loss: 1.2993\n",
      "18:\t[1s / 24s],\t\ttrain_loss: 1.0264,\tval_loss: 1.0684\n",
      "19:\t[1s / 25s],\t\ttrain_loss: 0.8663,\tval_loss: 0.9969\n",
      "20:\t[1s / 27s],\t\ttrain_loss: 0.8948,\tval_loss: 1.0816\n",
      "21:\t[1s / 28s],\t\ttrain_loss: 0.8641,\tval_loss: 1.5152\n",
      "22:\t[1s / 29s],\t\ttrain_loss: 0.8671,\tval_loss: 1.0761\n",
      "23:\t[1s / 30s],\t\ttrain_loss: 0.9180,\tval_loss: 1.3613\n",
      "24:\t[1s / 31s],\t\ttrain_loss: 0.8470,\tval_loss: 1.0413\n",
      "25:\t[1s / 33s],\t\ttrain_loss: 0.8259,\tval_loss: 1.0088\n",
      "26:\t[1s / 34s],\t\ttrain_loss: 0.8760,\tval_loss: 1.0163\n",
      "27:\t[1s / 35s],\t\ttrain_loss: 0.7815,\tval_loss: 1.0200\n",
      "28:\t[1s / 36s],\t\ttrain_loss: 0.8406,\tval_loss: 1.4746\n",
      "29:\t[1s / 37s],\t\ttrain_loss: 0.8086,\tval_loss: 0.9841\n",
      "30:\t[1s / 38s],\t\ttrain_loss: 0.7821,\tval_loss: 1.1724\n",
      "31:\t[1s / 40s],\t\ttrain_loss: 0.7856,\tval_loss: 1.5105\n",
      "32:\t[1s / 41s],\t\ttrain_loss: 0.7182,\tval_loss: 1.0535\n",
      "33:\t[1s / 42s],\t\ttrain_loss: 0.6996,\tval_loss: 0.9975\n",
      "34:\t[0s / 43s],\t\ttrain_loss: 0.7425,\tval_loss: 1.1657\n",
      "35:\t[0s / 44s],\t\ttrain_loss: 0.7208,\tval_loss: 1.0631\n",
      "36:\t[0s / 45s],\t\ttrain_loss: 0.7228,\tval_loss: 0.9955\n",
      "37:\t[1s / 46s],\t\ttrain_loss: 0.6872,\tval_loss: 1.0842\n",
      "38:\t[1s / 47s],\t\ttrain_loss: 0.7556,\tval_loss: 1.4719\n",
      "39:\t[1s / 49s],\t\ttrain_loss: 0.7625,\tval_loss: 1.1437\n"
     ]
    }
   ],
   "source": [
    "log = model.fit(x_train, y_train, batch_size, epochs, callbacks, val_data=val)"
   ]
  },
  {
   "cell_type": "code",
   "execution_count": 13,
   "metadata": {},
   "outputs": [
    {
     "data": {
      "image/png": "[encoded data removed]",
      "text/plain": [
       "<Figure size 432x288 with 1 Axes>"
      ]
     },
     "metadata": {
      "needs_background": "light"
     },
     "output_type": "display_data"
    }
   ],
   "source": [
    "_ = log.plot()"
   ]
  },
  {
   "cell_type": "code",
   "execution_count": 14,
   "metadata": {},
   "outputs": [
    {
     "data": {
      "text/plain": [
       "0.984080970287323"
      ]
     },
     "execution_count": 14,
     "metadata": {},
     "output_type": "execute_result"
    }
   ],
   "source": [
    "log.to_pandas().val_loss.min()"
   ]
  },
  {
   "cell_type": "code",
   "execution_count": 15,
   "metadata": {},
   "outputs": [
    {
     "data": {
      "text/plain": [
       "{'loss': 0.984080970287323}"
      ]
     },
     "execution_count": 15,
     "metadata": {},
     "output_type": "execute_result"
    }
   ],
   "source": [
    "model.score_in_batches(val)"
   ]
  },
  {
   "cell_type": "code",
   "execution_count": 16,
   "metadata": {},
   "outputs": [],
   "source": [
    "surv = model.predict_surv_df(x_test)"
   ]
  },
  {
   "cell_type": "code",
   "execution_count": 17,
   "metadata": {},
   "outputs": [],
   "source": [
    "surv = model.interpolate(10).predict_surv_df(x_test)"
   ]
  },
  {
   "cell_type": "code",
   "execution_count": 18,
   "metadata": {},
   "outputs": [],
   "source": [
    "ev = EvalSurv(surv, durations_test, events_test, censor_surv='km')"
   ]
  },
  {
   "cell_type": "code",
   "execution_count": 19,
   "metadata": {},
   "outputs": [
    {
     "data": {
      "text/plain": [
       "0.9530456488825401"
      ]
     },
     "execution_count": 19,
     "metadata": {},
     "output_type": "execute_result"
    }
   ],
   "source": [
    "ev.concordance_td()"
   ]
  }
 ],
 "metadata": {
  "kernelspec": {
   "display_name": "Python 3",
   "language": "python",
   "name": "python3"
  },
  "language_info": {
   "codemirror_mode": {
    "name": "ipython",
    "version": 3
   },
   "file_extension": ".py",
   "mimetype": "text/x-python",
   "name": "python",
   "nbconvert_exporter": "python",
   "pygments_lexer": "ipython3",
   "version": "3.7.9"
  }
 },
 "nbformat": 4,
 "nbformat_minor": 4
}
