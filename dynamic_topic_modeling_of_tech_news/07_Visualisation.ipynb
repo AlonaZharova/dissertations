{
 "cells": [
  {
   "cell_type": "markdown",
   "metadata": {
    "id": "rSEhXioKpg0g"
   },
   "source": [
    "# Explore & Visualise Results"
   ]
  },
  {
   "cell_type": "markdown",
   "metadata": {
    "id": "0jc198Tp75fI"
   },
   "source": [
    "### Settings"
   ]
  },
  {
   "cell_type": "markdown",
   "metadata": {
    "id": "QLGWgCEzs1oY"
   },
   "source": [
    "#### Libraries"
   ]
  },
  {
   "cell_type": "code",
   "execution_count": null,
   "metadata": {
    "id": "3pKgf3AajI-j"
   },
   "outputs": [],
   "source": [
    "from collections import Counter\n",
    "import scipy.io \n",
    "import matplotlib.pyplot as plt \n",
    "import numpy as np\n",
    "import os\n",
    "from os.path import join\n",
    "import pandas as pd\n",
    "import pickle \n",
    "from sklearn.manifold import TSNE\n",
    "from wordcloud import WordCloud"
   ]
  },
  {
   "cell_type": "markdown",
   "metadata": {
    "id": "QXNladizs1oZ",
    "pycharm": {
     "name": "#%% md\n"
    }
   },
   "source": [
    "#### Set Options"
   ]
  },
  {
   "cell_type": "code",
   "execution_count": null,
   "metadata": {
    "id": "CpRe55Eqs1oZ",
    "pycharm": {
     "name": "#%%\n"
    }
   },
   "outputs": [],
   "source": [
    "pd.set_option('display.width', 200)\n",
    "pd.set_option('display.max_columns', 100)\n",
    "plt.close()\n",
    "plt.interactive(True)"
   ]
  },
  {
   "cell_type": "code",
   "execution_count": null,
   "metadata": {
    "id": "KA0nr70Js1oZ"
   },
   "outputs": [],
   "source": [
    "use_colab = True"
   ]
  },
  {
   "cell_type": "markdown",
   "metadata": {
    "id": "VN9UGccBs1oZ",
    "pycharm": {
     "name": "#%% md\n"
    }
   },
   "source": [
    "#### Directories"
   ]
  },
  {
   "cell_type": "code",
   "execution_count": null,
   "metadata": {
    "colab": {
     "base_uri": "https://localhost:8080/"
    },
    "executionInfo": {
     "elapsed": 23408,
     "status": "ok",
     "timestamp": 1609057287491,
     "user": {
      "displayName": "M. T.",
      "photoUrl": "",
      "userId": "17315554739213314162"
     },
     "user_tz": -60
    },
    "id": "GN-Cp-Hv_BVo",
    "outputId": "208a3d74-aa88-4cd9-f427-92d2282191bc"
   },
   "outputs": [],
   "source": [
    "if use_colab:\n",
    "    from google.colab import drive\n",
    "    drive.mount('/content/drive', force_remount= True)\n",
    "    %cd '/content/drive/My Drive/Thesis/Topic-Modeling/'\n",
    "else:\n",
    "    os.chdir('/Users/M/Google_Drive/Thesis/Topic-Modeling')"
   ]
  },
  {
   "cell_type": "code",
   "execution_count": null,
   "metadata": {
    "id": "pfkb-EL1s1ob",
    "pycharm": {
     "name": "#%%\n"
    }
   },
   "outputs": [],
   "source": [
    "data_dir_final = 'Data/Technology-Data/processed/final/'\n",
    "emb_dir = 'Data/Embeddings/Word2Vec/Word2Vec_200.txt'\n",
    "results_dir = 'Results/'\n",
    "version = 'V15/DETM_V15_Exec_17-12-2020_09h17m'"
   ]
  },
  {
   "cell_type": "markdown",
   "metadata": {
    "id": "xAEznq7g7rsE"
   },
   "source": [
    "### Explorative WordClouds"
   ]
  },
  {
   "cell_type": "code",
   "execution_count": null,
   "metadata": {
    "id": "jS7vtO2v7v63"
   },
   "outputs": [],
   "source": [
    "pseudotexts = pd.read_csv('Data/Technology-Data/processed/preprocessed/pseudotext_wordClouds.csv', sep=\",\", index_col=0)"
   ]
  },
  {
   "cell_type": "code",
   "execution_count": null,
   "metadata": {
    "colab": {
     "base_uri": "https://localhost:8080/",
     "height": 288
    },
    "executionInfo": {
     "elapsed": 74543,
     "status": "ok",
     "timestamp": 1609060146141,
     "user": {
      "displayName": "M. T.",
      "photoUrl": "",
      "userId": "17315554739213314162"
     },
     "user_tz": -60
    },
    "id": "CKymZ7ww71Jk",
    "outputId": "5bec086e-8381-4ba0-d13c-4296791b773c"
   },
   "outputs": [],
   "source": [
    "fig = plt.figure(figsize=(25,6))\n",
    "ax = []\n",
    "\n",
    "i=1\n",
    "for idx,row in pseudotexts.iterrows():\n",
    "    if idx in [0,4,9]:\n",
    "        words = row['words']\n",
    "        ax.append(fig.add_subplot(1,3,i))\n",
    "        ax[-1].set_title(row['time'], fontsize=20, y=-0.15)\n",
    "        wc = WordCloud(background_color='white', width=3200, height=1800, collocations=False,contour_color='black').generate(words)\n",
    "        ax[-1].imshow(wc, interpolation='bilinear') \n",
    "        ax[-1].axis('off')\n",
    "        i+=1\n",
    "fig.savefig('Results/wordClouds.png')"
   ]
  },
  {
   "cell_type": "markdown",
   "metadata": {
    "id": "3ZSF50IrfjSV"
   },
   "source": [
    "### Get Data and Results"
   ]
  },
  {
   "cell_type": "markdown",
   "metadata": {
    "id": "DfN9m3xrXkLI"
   },
   "source": [
    "#### Get Times"
   ]
  },
  {
   "cell_type": "code",
   "execution_count": null,
   "metadata": {
    "colab": {
     "base_uri": "https://localhost:8080/"
    },
    "executionInfo": {
     "elapsed": 3277,
     "status": "ok",
     "timestamp": 1609057892759,
     "user": {
      "displayName": "M. T.",
      "photoUrl": "",
      "userId": "17315554739213314162"
     },
     "user_tz": -60
    },
    "id": "TBqmcN9iQAFW",
    "outputId": "39868759-7ce4-44f5-8c59-813e4e4651aa"
   },
   "outputs": [],
   "source": [
    "with open(data_dir_final + 'grouped_years/min_df_50/timestamps.pkl', 'rb') as f:\n",
    "    timelist = pickle.load(f)\n",
    "print('timelist: ', timelist)\n",
    "T = len(timelist)"
   ]
  },
  {
   "cell_type": "markdown",
   "metadata": {
    "id": "uYE70P9Lfe9I"
   },
   "source": [
    "#### Get Vocab and Embeddings"
   ]
  },
  {
   "cell_type": "code",
   "execution_count": null,
   "metadata": {
    "id": "SmVAtQlFeO5T"
   },
   "outputs": [],
   "source": [
    "from utils import get_data"
   ]
  },
  {
   "cell_type": "code",
   "execution_count": null,
   "metadata": {
    "id": "gnIBdh3ts1oc"
   },
   "outputs": [],
   "source": [
    "data_file = data_dir_final + 'grouped_years/min_df_50'\n",
    "vocab, full, train, valid, test = get_data(data_file)\n",
    "vocab_size = len(vocab)"
   ]
  },
  {
   "cell_type": "code",
   "execution_count": null,
   "metadata": {
    "id": "fp6-InJ9s1oc"
   },
   "outputs": [],
   "source": [
    "vocab_size = len(vocab)\n",
    "vectors = {}\n",
    "with open(emb_dir, 'rb') as f:\n",
    "    for l in f:\n",
    "        line = l.decode().split()\n",
    "        word = line[0]\n",
    "        if word in vocab:\n",
    "            vect = np.array(line[1:]).astype(np.float)\n",
    "            vectors[word] = vect\n",
    "            \n",
    "embeddings = np.zeros((vocab_size, 200))\n",
    "words_not_found = []\n",
    "for i, word in enumerate(vocab):\n",
    "    try: \n",
    "        embeddings[i] = vectors[word]\n",
    "    except KeyError:\n",
    "        embeddings[i] = np.random.normal(scale=0.6, size=(150, ))\n",
    "        words_not_found.append(word)"
   ]
  },
  {
   "cell_type": "markdown",
   "metadata": {
    "id": "ArnfutSbs1oe"
   },
   "source": [
    "#### Get Topic Vectors (Alpha)"
   ]
  },
  {
   "cell_type": "code",
   "execution_count": null,
   "metadata": {
    "colab": {
     "base_uri": "https://localhost:8080/"
    },
    "executionInfo": {
     "elapsed": 22248,
     "status": "ok",
     "timestamp": 1609057925128,
     "user": {
      "displayName": "M. T.",
      "photoUrl": "",
      "userId": "17315554739213314162"
     },
     "user_tz": -60
    },
    "id": "blFXn8Ags1oe",
    "outputId": "8944b57f-2db7-4c39-a6a2-edc16f3de919"
   },
   "outputs": [],
   "source": [
    "alpha_file = os.path.join(results_dir,version+'_alpha.mat')\n",
    "alpha = scipy.io.loadmat(alpha_file)['values']\n",
    "print('alpha (topics,times,emb-dim): ', alpha.shape)"
   ]
  },
  {
   "cell_type": "markdown",
   "metadata": {
    "id": "Amsi5cx1tVLY"
   },
   "source": [
    "As expected, correlation is higher for consecutive years:"
   ]
  },
  {
   "cell_type": "code",
   "execution_count": null,
   "metadata": {
    "colab": {
     "base_uri": "https://localhost:8080/"
    },
    "executionInfo": {
     "elapsed": 22242,
     "status": "ok",
     "timestamp": 1609057925129,
     "user": {
      "displayName": "M. T.",
      "photoUrl": "",
      "userId": "17315554739213314162"
     },
     "user_tz": -60
    },
    "id": "-rdp6miAs1oe",
    "outputId": "f978f3b2-a1b2-4e7a-b955-750a3018eda2"
   },
   "outputs": [],
   "source": [
    "np.corrcoef(alpha[6,0,:],alpha[6,9,:])"
   ]
  },
  {
   "cell_type": "code",
   "execution_count": null,
   "metadata": {
    "colab": {
     "base_uri": "https://localhost:8080/"
    },
    "executionInfo": {
     "elapsed": 22239,
     "status": "ok",
     "timestamp": 1609057925131,
     "user": {
      "displayName": "M. T.",
      "photoUrl": "",
      "userId": "17315554739213314162"
     },
     "user_tz": -60
    },
    "id": "TBx3Xdfms1oe",
    "outputId": "d805d285-8f7c-48d3-ef2f-d6a89cbb934c"
   },
   "outputs": [],
   "source": [
    "np.corrcoef(alpha[6,8,:],alpha[6,9,:])"
   ]
  },
  {
   "cell_type": "markdown",
   "metadata": {
    "id": "JHOhMSGAfhj5"
   },
   "source": [
    "#### Get Topic Words (Beta)"
   ]
  },
  {
   "cell_type": "code",
   "execution_count": null,
   "metadata": {
    "colab": {
     "base_uri": "https://localhost:8080/"
    },
    "executionInfo": {
     "elapsed": 20640,
     "status": "ok",
     "timestamp": 1609057926773,
     "user": {
      "displayName": "M. T.",
      "photoUrl": "",
      "userId": "17315554739213314162"
     },
     "user_tz": -60
    },
    "id": "R36l7Tctd_UQ",
    "outputId": "7e28ac1e-d84b-4582-c9af-7ad65e400d21"
   },
   "outputs": [],
   "source": [
    "beta_file = os.path.join(results_dir, version+'_beta.mat')\n",
    "beta = scipy.io.loadmat(beta_file)['values']\n",
    "print('beta (topics,times,vocab): ', beta.shape)"
   ]
  },
  {
   "cell_type": "markdown",
   "metadata": {
    "id": "V8Si_ZFZfmHF"
   },
   "source": [
    "### Explore Topics (Topic Labels, Beta)"
   ]
  },
  {
   "cell_type": "code",
   "execution_count": null,
   "metadata": {
    "id": "4nkvSiiss1of"
   },
   "outputs": [],
   "source": [
    "topic_labels = {}\n",
    "t_id = 0\n",
    "with open(results_dir + version + '_topic_labels.txt', 'rb') as f:\n",
    "    for l in f.read().splitlines():\n",
    "        t_label = l.decode()\n",
    "        topic_labels[t_id] = t_label\n",
    "        #print('{}: {}'.format(t_id, t_label))\n",
    "        t_id += 1"
   ]
  },
  {
   "cell_type": "code",
   "execution_count": null,
   "metadata": {
    "colab": {
     "base_uri": "https://localhost:8080/"
    },
    "executionInfo": {
     "elapsed": 2334,
     "status": "ok",
     "timestamp": 1609058059998,
     "user": {
      "displayName": "M. T.",
      "photoUrl": "",
      "userId": "17315554739213314162"
     },
     "user_tz": -60
    },
    "id": "8_BvCEkWs1of",
    "outputId": "935d12b5-70bb-4d49-9a49-52ec43e444ef"
   },
   "outputs": [],
   "source": [
    "num_words = 10\n",
    "times = range(len(timelist))\n",
    "num_topics = beta.shape[0]\n",
    "for k in range(num_topics):\n",
    "    print('\\n')\n",
    "    print('Topic {}: \"{}\"'.format(k,topic_labels[k]))\n",
    "    for t in times:\n",
    "        gamma = beta[k, t, :]\n",
    "        top_words = list(gamma.argsort()[-num_words:][::-1])\n",
    "        topic_words = [vocab[a] for a in top_words]\n",
    "        print('...{}: {}'.format(timelist[t], topic_words)) "
   ]
  },
  {
   "cell_type": "markdown",
   "metadata": {
    "id": "JHlYWF0n33hK"
   },
   "source": [
    "### Coverage (Topic Proportions - Theta)"
   ]
  },
  {
   "cell_type": "markdown",
   "metadata": {
    "id": "67l9u5l2s1of"
   },
   "source": [
    "#### Get Topic Proportions (Theta) and Topic Proportion Averages for Each Time Slice\n",
    "These are based on the entire dataset"
   ]
  },
  {
   "cell_type": "code",
   "execution_count": null,
   "metadata": {
    "colab": {
     "base_uri": "https://localhost:8080/"
    },
    "executionInfo": {
     "elapsed": 1255,
     "status": "ok",
     "timestamp": 1609058013339,
     "user": {
      "displayName": "M. T.",
      "photoUrl": "",
      "userId": "17315554739213314162"
     },
     "user_tz": -60
    },
    "id": "7rNJnvDNJMHj",
    "outputId": "38e066a8-2ef2-4635-f068-c3527c75a37c"
   },
   "outputs": [],
   "source": [
    "theta_file = os.path.join(results_dir, version+'_theta.mat')\n",
    "theta = scipy.io.loadmat(theta_file)['values']\n",
    "print('topic proportions (\"theta\") full dataset (docs,topics): ', theta.shape)"
   ]
  },
  {
   "cell_type": "code",
   "execution_count": null,
   "metadata": {
    "colab": {
     "base_uri": "https://localhost:8080/"
    },
    "executionInfo": {
     "elapsed": 1450,
     "status": "ok",
     "timestamp": 1609058018508,
     "user": {
      "displayName": "M. T.",
      "photoUrl": "",
      "userId": "17315554739213314162"
     },
     "user_tz": -60
    },
    "id": "zQ95gGX8s1of",
    "outputId": "0dde1fdf-149b-45b1-af42-058d135473a4"
   },
   "outputs": [],
   "source": [
    "props = pd.read_csv(results_dir + version + '_theta_avg.csv', index_col='time')\n",
    "props.columns = [\" \".join(t) for t in zip(props.columns, topic_labels.values())]\n",
    "print('avg topic proportions (times,topics): ', props.shape)"
   ]
  },
  {
   "cell_type": "markdown",
   "metadata": {
    "id": "KAUmnmET4OJP"
   },
   "source": [
    "#### WordCloud for tech-related Topics"
   ]
  },
  {
   "cell_type": "code",
   "execution_count": null,
   "metadata": {
    "id": "2tyPReAIs1of"
   },
   "outputs": [],
   "source": [
    "props_avg = props.mean(axis=0)"
   ]
  },
  {
   "cell_type": "code",
   "execution_count": null,
   "metadata": {
    "id": "Jb4XNnaioW4C"
   },
   "outputs": [],
   "source": [
    "num_topics\n",
    "topics_pseudotext = {}\n",
    "for i in range(num_topics):\n",
    "    # exclude non-tech topics for this visualisation\n",
    "    if i not in [2,7,9,20,26,30,39,40,45,52,53,54,57,58,65,69]:\n",
    "        topics_pseudotext[topic_labels[i]] = int(props_avg[i]*10000)"
   ]
  },
  {
   "cell_type": "code",
   "execution_count": null,
   "metadata": {
    "colab": {
     "base_uri": "https://localhost:8080/",
     "height": 127
    },
    "executionInfo": {
     "elapsed": 32323,
     "status": "ok",
     "timestamp": 1609060062267,
     "user": {
      "displayName": "M. T.",
      "photoUrl": "",
      "userId": "17315554739213314162"
     },
     "user_tz": -60
    },
    "id": "ApHjN3Co2cUj",
    "outputId": "646e6c5e-0b51-42ad-a3e2-3cb1f12ccc93"
   },
   "outputs": [],
   "source": [
    "from wordcloud import WordCloud\n",
    "wc = WordCloud(background_color='white',width=7000, height=2000).generate_from_frequencies(topics_pseudotext)\n",
    "wc.to_image()\n",
    "plt.close()\n",
    "plt.imshow(wc, interpolation='bilinear')\n",
    "plt.axis('off')\n",
    "plt.show()\n",
    "wc.to_file('Results/wordCloud_topics.png');"
   ]
  },
  {
   "cell_type": "markdown",
   "metadata": {
    "id": "QYsPVfxY4aq8"
   },
   "source": [
    "#### Coverage Ranking"
   ]
  },
  {
   "cell_type": "code",
   "execution_count": null,
   "metadata": {
    "colab": {
     "base_uri": "https://localhost:8080/"
    },
    "executionInfo": {
     "elapsed": 1249,
     "status": "ok",
     "timestamp": 1609058306873,
     "user": {
      "displayName": "M. T.",
      "photoUrl": "",
      "userId": "17315554739213314162"
     },
     "user_tz": -60
    },
    "id": "H2SdD64tzx3F",
    "outputId": "1340b932-da8c-4dfe-c66b-25839e3f274d"
   },
   "outputs": [],
   "source": [
    "props_avg.sort_values(inplace=True, ascending=False)\n",
    "topic_ranking = props_avg.index\n",
    "topic_ranking = [int(t.split()[0].replace('Topic-','')) for t in topic_ranking]\n",
    "print('Top 25 Topics:')\n",
    "print(np.array([str(t) + ' ' + topic_labels[t].replace('\\n','') for idx, t in enumerate(topic_ranking)][:25]))"
   ]
  },
  {
   "cell_type": "markdown",
   "metadata": {
    "id": "PhWjrVGn4gh9"
   },
   "source": [
    "#### Topic Proportions over Time for each Topic"
   ]
  },
  {
   "cell_type": "code",
   "execution_count": null,
   "metadata": {
    "colab": {
     "base_uri": "https://localhost:8080/",
     "height": 1000
    },
    "executionInfo": {
     "elapsed": 5626,
     "status": "ok",
     "timestamp": 1609058339710,
     "user": {
      "displayName": "M. T.",
      "photoUrl": "",
      "userId": "17315554739213314162"
     },
     "user_tz": -60
    },
    "id": "HR3ycU_jwTx6",
    "outputId": "50018dbe-920f-40bc-d3af-48b4784d4535"
   },
   "outputs": [],
   "source": [
    "beg = 0\n",
    "end = 5\n",
    "while end <= num_topics:\n",
    "    legend = []\n",
    "    for i in props.iloc[:,beg:end]:\n",
    "        legend.append(i)\n",
    "    ax = props.iloc[:,beg:end].plot()\n",
    "    ax.legend(legend, frameon=True, loc='upper right', bbox_to_anchor=(1.7, 1))\n",
    "    ax.set_xticks(np.arange(T)[1::2])\n",
    "    ax.set_xticklabels(timelist[1::2])\n",
    "    ax.set_xlabel('time')\n",
    "    ax.set_ylabel('proportions')\n",
    "    ax.set_title('Topics {} - {}'.format(beg,end-1), fontsize=12);\n",
    "    beg += 5\n",
    "    end += 5"
   ]
  },
  {
   "cell_type": "markdown",
   "metadata": {
    "id": "YpA1YoyQY7gM"
   },
   "source": [
    "#### Topic Proportions over Time for Selected Topics"
   ]
  },
  {
   "cell_type": "code",
   "execution_count": null,
   "metadata": {
    "colab": {
     "base_uri": "https://localhost:8080/",
     "height": 758
    },
    "executionInfo": {
     "elapsed": 1877,
     "status": "ok",
     "timestamp": 1609059218550,
     "user": {
      "displayName": "M. T.",
      "photoUrl": "",
      "userId": "17315554739213314162"
     },
     "user_tz": -60
    },
    "id": "BQNzrp-v46BX",
    "outputId": "7b0d1807-c2bb-4908-ebff-3faf7c23a81d"
   },
   "outputs": [],
   "source": [
    "topics_pop = [[31,34,38],[44,60,73]]\n",
    "for idx, topics in enumerate(topics_pop):\n",
    "    popularity_plot = props.iloc[:,topics].plot(figsize=(8,5),style=['g-.','b--','r-','k:'],linewidth=2, marker='o', markersize=4)\n",
    "    popularity_plot.legend(list(props.columns[[topics]]), frameon=True, fontsize=14)\n",
    "    popularity_plot.set_xticks(np.arange(T)[0::3])\n",
    "    popularity_plot.set_xticklabels(timelist[0::3], fontsize=14)\n",
    "    popularity_plot.set_xlabel('time', fontsize=14, labelpad=5)\n",
    "    popularity_plot.set_ylabel('average topic proportions', fontsize=14, labelpad=5)\n",
    "    plt.savefig('Results/Topic_Popularities_{}.png'.format(idx))"
   ]
  },
  {
   "cell_type": "markdown",
   "metadata": {
    "id": "gyOFb2l_-aAs"
   },
   "source": [
    "### Word Use Evolution (Beta) for Selected Topics"
   ]
  },
  {
   "cell_type": "code",
   "execution_count": null,
   "metadata": {
    "id": "fDRCU1kT6YFz"
   },
   "outputs": [],
   "source": [
    "topic_words = {11:['business','world','social_media'],\n",
    "               34:['children','Facebook','social_media'],\n",
    "               72:['mobile','4G','5G'],\n",
    "               44:['VoIP','Skype','Siri','Alexa'],\n",
    "               31:['artificial_intelligence','AI','chess','bots'],\n",
    "               32:['banking','Bitcoin','blockchain','cryptocurrency'],\n",
    "               61:['self-driving','Uber','safety'],\n",
    "               73:['Nasa','moon','SpaceX','Elon_Musk'],\n",
    "               38:['CD','MP3','iPod','streaming'],\n",
    "               46:['e-commerce','Kindle','delivery','Fire'],\n",
    "               12:['facial_recognition','digital','3D','smartphone'],\n",
    "               68:['laser','3D_printing','paper','objects'],\n",
    "               }"
   ]
  },
  {
   "cell_type": "code",
   "execution_count": null,
   "metadata": {
    "colab": {
     "base_uri": "https://localhost:8080/",
     "height": 1000
    },
    "executionInfo": {
     "elapsed": 5479,
     "status": "ok",
     "timestamp": 1609058802177,
     "user": {
      "displayName": "M. T.",
      "photoUrl": "",
      "userId": "17315554739213314162"
     },
     "user_tz": -60
    },
    "id": "mpXpEZH69t3H",
    "outputId": "02291503-5bd2-4fe5-839b-e5dc31f537f6"
   },
   "outputs": [],
   "source": [
    "fig, axes = plt.subplots(nrows=4, ncols=3, figsize=(18, 20), dpi=80, facecolor='w', edgecolor='k')\n",
    "ax1,ax2,ax3,ax4,ax5,ax6,ax7,ax8,ax9,ax10,ax11,ax12 = axes.flatten()\n",
    "axes = [ax1,ax2,ax3,ax4,ax5,ax6,ax7,ax8,ax9,ax10,ax11,ax12]\n",
    "colors = ['#41ab5d','#08589e','#ca0020','#ff7f00']\n",
    "linestyles = ['-','--','-.',':']\n",
    "linewidths = [1.8,2,2,2.5]\n",
    "\n",
    "for idx, a in enumerate(topic_words):\n",
    "    words = topic_words[a]\n",
    "    tokens = [vocab.index(w) for w in words]\n",
    "    betas = [beta[a, :, x] for x in tokens]\n",
    "    ax = axes[idx]\n",
    "    for i, comp in enumerate(betas):\n",
    "        ax.plot(range(T), comp, label=words[i].replace('_',' '), linestyle=linestyles[i], lw=linewidths[i], color=colors[i], marker='o', markersize=5)\n",
    "    ax.legend(frameon=True, loc='best', fontsize=12)\n",
    "    ax.set_xticks(np.arange(T)[0::3])\n",
    "    ax.set_xticklabels(timelist[0::3],fontsize=12)\n",
    "    ax.set_title('Topic {} - {}'.format(a, topic_labels[a]), fontsize=14);\n",
    "fig.subplots_adjust(hspace=0.25)\n",
    "plt.savefig('Results/Topic_Evolutions.png')"
   ]
  },
  {
   "cell_type": "markdown",
   "metadata": {
    "id": "ty4mM2_Os1og"
   },
   "source": [
    "### Explore Topic Vectors (Alpha) in Embedding Space"
   ]
  },
  {
   "cell_type": "code",
   "execution_count": null,
   "metadata": {
    "id": "JSEZVHVY51K3"
   },
   "outputs": [],
   "source": [
    "def nearest_neighbors_from_vector(vector, embeddings, vocab, num_words):\n",
    "    embeddings = embeddings\n",
    "    ranks = embeddings.dot(vector).squeeze()\n",
    "    denom = vector.T.dot(vector).squeeze()\n",
    "    denom = denom * np.sum(embeddings**2, 1)\n",
    "    denom = np.sqrt(denom)\n",
    "    ranks = ranks / denom\n",
    "    mostSimilar = []\n",
    "    [mostSimilar.append(idx) for idx in ranks.argsort()[::-1]]\n",
    "    nearest_neighbors = mostSimilar[:num_words]\n",
    "    nearest_neighbors = [vocab[comp] for comp in nearest_neighbors]\n",
    "    return nearest_neighbors, ranks"
   ]
  },
  {
   "cell_type": "code",
   "execution_count": null,
   "metadata": {
    "id": "0CNdPVdus1og"
   },
   "outputs": [],
   "source": [
    "def plot_alpha(alpha, selected_topics, time_slice, perplexity):\n",
    "    embs = []\n",
    "    annotation = []\n",
    "    for topic in selected_topics:\n",
    "        embs.append(alpha[topic,time_slice,:])\n",
    "        annotation.append('Topic-{} {}'.format(topic,topic_labels[topic]))\n",
    "    embs = np.array(embs)\n",
    "\n",
    "    #https://www.kaggle.com/jeffd23/visualizing-word-vectors-with-t-sne\n",
    "    tsne_model = TSNE(perplexity=perplexity, n_components=2, init='pca', n_iter=250, random_state=1)\n",
    "    tsne_values = tsne_model.fit_transform(embs.tolist())\n",
    "    plt.close()\n",
    "    plt.figure(figsize=(8, 8)) \n",
    "    for i in range(len(tsne_values[:, 0])):\n",
    "        plt.scatter(tsne_values[i, 0],tsne_values[i, 1], color='black')\n",
    "        plt.axis('off')\n",
    "        plt.annotate(annotation[i],\n",
    "                    xy=(tsne_values[i, 0], tsne_values[i, 1]),\n",
    "                    xytext=(5, 2),\n",
    "                    textcoords='offset points',\n",
    "                    color='black',\n",
    "                    ha='right',\n",
    "                    va='bottom')\n",
    "    plt.show()"
   ]
  },
  {
   "cell_type": "code",
   "execution_count": null,
   "metadata": {
    "colab": {
     "base_uri": "https://localhost:8080/",
     "height": 466
    },
    "executionInfo": {
     "elapsed": 1067,
     "status": "ok",
     "timestamp": 1609058388402,
     "user": {
      "displayName": "M. T.",
      "photoUrl": "",
      "userId": "17315554739213314162"
     },
     "user_tz": -60
    },
    "id": "jOdqfy95ogCQ",
    "outputId": "2adec2c1-2dfa-46f7-f21c-e5f3defbdb07"
   },
   "outputs": [],
   "source": [
    "sel_topics = [11,34,72,44,31,32,61,73,38,46,12,68]\n",
    "plot_alpha(alpha,sel_topics,9,2)"
   ]
  },
  {
   "cell_type": "code",
   "execution_count": null,
   "metadata": {
    "id": "7ENpSKESaYLP"
   },
   "outputs": [],
   "source": [
    "def plot_selected_topic_tsne(alpha, selected_times, selected_topic, vocab, num_neighbors, embeddings, perplexity):\n",
    "    embs = []\n",
    "    annotation = []\n",
    "    for i in range(len(alpha[selected_topic,:,:])):\n",
    "        if i in selected_times:\n",
    "            embs.append(alpha[selected_topic,i,:])\n",
    "            annotation.append('Topic-{}_Time-{}'.format(selected_topic,i))\n",
    "\n",
    "    for t in range(len(alpha[selected_topic,:,:])):\n",
    "        n,_ = nearest_neighbors_from_vector(alpha[selected_topic,t,:], embeddings, vocab, num_neighbors)\n",
    "        for word in n:\n",
    "            if word not in annotation:\n",
    "                annotation.append(word)\n",
    "                embs.append(embeddings[vocab.index(word)])\n",
    "    embs = np.array(embs)\n",
    "    \n",
    "    tsne_model = TSNE(perplexity=perplexity, n_components=2, init='pca', n_iter=250, random_state=1)\n",
    "    tsne_values = tsne_model.fit_transform(embs.tolist())\n",
    "    plt.close()\n",
    "    plt.figure(figsize=(5, 5)) \n",
    "    for i in range(len(tsne_values[:, 0])):\n",
    "        plt.scatter(tsne_values[i, 0],tsne_values[i, 1], color='black')\n",
    "        plt.annotate(annotation[i],\n",
    "                    xy=(tsne_values[i, 0], tsne_values[i, 1]),\n",
    "                    xytext=(5, 2),\n",
    "                    textcoords='offset points',\n",
    "                    color='black',\n",
    "                    ha='right',\n",
    "                    va='bottom')\n",
    "        plt.axis('off')\n",
    "    plt.show()"
   ]
  },
  {
   "cell_type": "code",
   "execution_count": null,
   "metadata": {
    "colab": {
     "base_uri": "https://localhost:8080/",
     "height": 303
    },
    "executionInfo": {
     "elapsed": 1748,
     "status": "ok",
     "timestamp": 1609058442048,
     "user": {
      "displayName": "M. T.",
      "photoUrl": "",
      "userId": "17315554739213314162"
     },
     "user_tz": -60
    },
    "id": "-khYxbj1_V6o",
    "outputId": "610b2a72-0183-46d5-e15b-319d073dbc32"
   },
   "outputs": [],
   "source": [
    "plot_selected_topic_tsne(alpha=alpha, selected_times=[0,9], selected_topic = 72, vocab=vocab, num_neighbors=1, embeddings=embeddings, perplexity=10)"
   ]
  }
 ],
 "metadata": {
  "colab": {
   "collapsed_sections": [
    "0jc198Tp75fI",
    "xAEznq7g7rsE",
    "3ZSF50IrfjSV",
    "uYE70P9Lfe9I",
    "ArnfutSbs1oe",
    "JHOhMSGAfhj5",
    "V8Si_ZFZfmHF",
    "67l9u5l2s1of",
    "KAUmnmET4OJP",
    "QYsPVfxY4aq8",
    "PhWjrVGn4gh9",
    "YpA1YoyQY7gM",
    "gyOFb2l_-aAs",
    "ty4mM2_Os1og"
   ],
   "name": "07_Visualisation.ipynb",
   "provenance": []
  },
  "kernelspec": {
   "display_name": "Python 3",
   "language": "python",
   "name": "python3"
  },
  "language_info": {
   "codemirror_mode": {
    "name": "ipython",
    "version": 3
   },
   "file_extension": ".py",
   "mimetype": "text/x-python",
   "name": "python",
   "nbconvert_exporter": "python",
   "pygments_lexer": "ipython3",
   "version": "3.8.3"
  }
 },
 "nbformat": 4,
 "nbformat_minor": 4
}
