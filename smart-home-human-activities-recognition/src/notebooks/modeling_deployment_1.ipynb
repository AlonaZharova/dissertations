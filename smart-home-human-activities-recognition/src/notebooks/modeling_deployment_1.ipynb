{
 "cells": [
  {
   "cell_type": "code",
   "execution_count": 1,
   "metadata": {},
   "outputs": [],
   "source": [
    "import pandas as pd\n",
    "import numpy as np\n",
    "import matplotlib.pyplot as plt\n",
    "import time\n",
    "import joblib\n",
    "\n",
    "from sklearn.pipeline import make_pipeline, Pipeline\n",
    "from sklearn.preprocessing import StandardScaler, MinMaxScaler, LabelEncoder\n",
    "from sklearn.linear_model import SGDClassifier\n",
    "from sklearn.model_selection import cross_val_score\n",
    "from sklearn.model_selection import KFold\n",
    "from sklearn.svm import SVC\n",
    "from sklearn.ensemble import RandomForestClassifier, GradientBoostingClassifier, VotingClassifier\n",
    "from xgboost import XGBClassifier\n",
    "from sklearn.model_selection import GridSearchCV, RandomizedSearchCV\n",
    "from sklearn.linear_model import LogisticRegression\n",
    "from sklearn.neural_network import MLPClassifier\n",
    "\n",
    "base = \"../data/Deployment_1/\""
   ]
  },
  {
   "cell_type": "markdown",
   "metadata": {},
   "source": [
    "## 1. Load Data"
   ]
  },
  {
   "cell_type": "code",
   "execution_count": 2,
   "metadata": {},
   "outputs": [
    {
     "data": {
      "text/html": [
       "<div>\n",
       "<style scoped>\n",
       "    .dataframe tbody tr th:only-of-type {\n",
       "        vertical-align: middle;\n",
       "    }\n",
       "\n",
       "    .dataframe tbody tr th {\n",
       "        vertical-align: top;\n",
       "    }\n",
       "\n",
       "    .dataframe thead th {\n",
       "        text-align: right;\n",
       "    }\n",
       "</style>\n",
       "<table border=\"1\" class=\"dataframe\">\n",
       "  <thead>\n",
       "    <tr style=\"text-align: right;\">\n",
       "      <th></th>\n",
       "      <th>Hour</th>\n",
       "      <th>Minute</th>\n",
       "      <th>Label</th>\n",
       "      <th>sensor1</th>\n",
       "      <th>sensor2</th>\n",
       "      <th>sensor3</th>\n",
       "      <th>sensor4</th>\n",
       "      <th>sensor5</th>\n",
       "      <th>sensor6</th>\n",
       "      <th>sensor8</th>\n",
       "      <th>...</th>\n",
       "      <th>sensor22</th>\n",
       "      <th>sensor23</th>\n",
       "      <th>sensor24</th>\n",
       "      <th>sensor25</th>\n",
       "      <th>sensor30</th>\n",
       "      <th>sensor31</th>\n",
       "      <th>sensor32</th>\n",
       "      <th>sensor34</th>\n",
       "      <th>sensor35</th>\n",
       "      <th>sensor40</th>\n",
       "    </tr>\n",
       "  </thead>\n",
       "  <tbody>\n",
       "    <tr>\n",
       "      <th>count</th>\n",
       "      <td>140844.000000</td>\n",
       "      <td>140844.000000</td>\n",
       "      <td>140844.000000</td>\n",
       "      <td>114551.000000</td>\n",
       "      <td>114551.000000</td>\n",
       "      <td>15.000000</td>\n",
       "      <td>126546.000000</td>\n",
       "      <td>126546.000000</td>\n",
       "      <td>19180.000000</td>\n",
       "      <td>108092.000000</td>\n",
       "      <td>...</td>\n",
       "      <td>118019.000000</td>\n",
       "      <td>118021.000000</td>\n",
       "      <td>117919.000000</td>\n",
       "      <td>118012.000000</td>\n",
       "      <td>114125.000000</td>\n",
       "      <td>9203.000000</td>\n",
       "      <td>114395.000000</td>\n",
       "      <td>112537.000000</td>\n",
       "      <td>52274.000000</td>\n",
       "      <td>115056.000000</td>\n",
       "    </tr>\n",
       "    <tr>\n",
       "      <th>mean</th>\n",
       "      <td>11.486936</td>\n",
       "      <td>29.497444</td>\n",
       "      <td>5.413628</td>\n",
       "      <td>196.925903</td>\n",
       "      <td>92.308930</td>\n",
       "      <td>8791.283333</td>\n",
       "      <td>228.623352</td>\n",
       "      <td>87.140110</td>\n",
       "      <td>7.367738</td>\n",
       "      <td>37.363547</td>\n",
       "      <td>...</td>\n",
       "      <td>3.984462</td>\n",
       "      <td>3.784127</td>\n",
       "      <td>0.766854</td>\n",
       "      <td>4.168792</td>\n",
       "      <td>13.934131</td>\n",
       "      <td>30.268450</td>\n",
       "      <td>1.014784</td>\n",
       "      <td>66.035078</td>\n",
       "      <td>20.728380</td>\n",
       "      <td>3.350168</td>\n",
       "    </tr>\n",
       "    <tr>\n",
       "      <th>std</th>\n",
       "      <td>6.922467</td>\n",
       "      <td>17.318842</td>\n",
       "      <td>1.986418</td>\n",
       "      <td>21.376121</td>\n",
       "      <td>202.174390</td>\n",
       "      <td>2839.844480</td>\n",
       "      <td>7.823923</td>\n",
       "      <td>160.519101</td>\n",
       "      <td>3.686028</td>\n",
       "      <td>105.363077</td>\n",
       "      <td>...</td>\n",
       "      <td>83.331683</td>\n",
       "      <td>22.440201</td>\n",
       "      <td>5.950108</td>\n",
       "      <td>62.327809</td>\n",
       "      <td>43.849795</td>\n",
       "      <td>1.019140</td>\n",
       "      <td>7.874184</td>\n",
       "      <td>74.446204</td>\n",
       "      <td>15.121987</td>\n",
       "      <td>7.987330</td>\n",
       "    </tr>\n",
       "    <tr>\n",
       "      <th>min</th>\n",
       "      <td>0.000000</td>\n",
       "      <td>0.000000</td>\n",
       "      <td>1.000000</td>\n",
       "      <td>-495.000000</td>\n",
       "      <td>0.000000</td>\n",
       "      <td>4924.000000</td>\n",
       "      <td>205.000000</td>\n",
       "      <td>0.000000</td>\n",
       "      <td>0.000000</td>\n",
       "      <td>0.000000</td>\n",
       "      <td>...</td>\n",
       "      <td>0.000000</td>\n",
       "      <td>0.000000</td>\n",
       "      <td>0.000000</td>\n",
       "      <td>0.000000</td>\n",
       "      <td>0.000000</td>\n",
       "      <td>11.500000</td>\n",
       "      <td>0.000000</td>\n",
       "      <td>0.000000</td>\n",
       "      <td>0.000000</td>\n",
       "      <td>0.000000</td>\n",
       "    </tr>\n",
       "    <tr>\n",
       "      <th>25%</th>\n",
       "      <td>5.000000</td>\n",
       "      <td>14.000000</td>\n",
       "      <td>4.000000</td>\n",
       "      <td>186.000000</td>\n",
       "      <td>0.000000</td>\n",
       "      <td>6178.250000</td>\n",
       "      <td>224.000000</td>\n",
       "      <td>0.000000</td>\n",
       "      <td>5.000000</td>\n",
       "      <td>0.000000</td>\n",
       "      <td>...</td>\n",
       "      <td>0.000000</td>\n",
       "      <td>0.000000</td>\n",
       "      <td>0.000000</td>\n",
       "      <td>0.000000</td>\n",
       "      <td>0.800000</td>\n",
       "      <td>29.904762</td>\n",
       "      <td>0.000000</td>\n",
       "      <td>2.222222</td>\n",
       "      <td>2.000000</td>\n",
       "      <td>2.000000</td>\n",
       "    </tr>\n",
       "    <tr>\n",
       "      <th>50%</th>\n",
       "      <td>11.000000</td>\n",
       "      <td>29.000000</td>\n",
       "      <td>7.000000</td>\n",
       "      <td>199.000000</td>\n",
       "      <td>10.000000</td>\n",
       "      <td>8224.500000</td>\n",
       "      <td>228.833333</td>\n",
       "      <td>16.666667</td>\n",
       "      <td>6.333333</td>\n",
       "      <td>0.666667</td>\n",
       "      <td>...</td>\n",
       "      <td>0.000000</td>\n",
       "      <td>0.000000</td>\n",
       "      <td>0.000000</td>\n",
       "      <td>0.000000</td>\n",
       "      <td>1.000000</td>\n",
       "      <td>30.300000</td>\n",
       "      <td>0.000000</td>\n",
       "      <td>3.600000</td>\n",
       "      <td>32.000000</td>\n",
       "      <td>2.000000</td>\n",
       "    </tr>\n",
       "    <tr>\n",
       "      <th>75%</th>\n",
       "      <td>17.000000</td>\n",
       "      <td>44.000000</td>\n",
       "      <td>7.000000</td>\n",
       "      <td>209.333333</td>\n",
       "      <td>84.333333</td>\n",
       "      <td>11048.625000</td>\n",
       "      <td>233.833333</td>\n",
       "      <td>108.000000</td>\n",
       "      <td>8.500000</td>\n",
       "      <td>32.666667</td>\n",
       "      <td>...</td>\n",
       "      <td>0.000000</td>\n",
       "      <td>0.000000</td>\n",
       "      <td>0.000000</td>\n",
       "      <td>0.000000</td>\n",
       "      <td>1.272727</td>\n",
       "      <td>30.842105</td>\n",
       "      <td>0.000000</td>\n",
       "      <td>121.200000</td>\n",
       "      <td>33.000000</td>\n",
       "      <td>2.000000</td>\n",
       "    </tr>\n",
       "    <tr>\n",
       "      <th>max</th>\n",
       "      <td>23.000000</td>\n",
       "      <td>59.000000</td>\n",
       "      <td>10.000000</td>\n",
       "      <td>261.833333</td>\n",
       "      <td>1170.000000</td>\n",
       "      <td>13440.000000</td>\n",
       "      <td>264.000000</td>\n",
       "      <td>1141.000000</td>\n",
       "      <td>102.250000</td>\n",
       "      <td>1124.000000</td>\n",
       "      <td>...</td>\n",
       "      <td>2190.181818</td>\n",
       "      <td>277.454545</td>\n",
       "      <td>50.636364</td>\n",
       "      <td>1462.083333</td>\n",
       "      <td>177.095238</td>\n",
       "      <td>32.272727</td>\n",
       "      <td>69.818182</td>\n",
       "      <td>255.400000</td>\n",
       "      <td>73.000000</td>\n",
       "      <td>132.166667</td>\n",
       "    </tr>\n",
       "  </tbody>\n",
       "</table>\n",
       "<p>8 rows × 25 columns</p>\n",
       "</div>"
      ],
      "text/plain": [
       "                Hour         Minute          Label        sensor1  \\\n",
       "count  140844.000000  140844.000000  140844.000000  114551.000000   \n",
       "mean       11.486936      29.497444       5.413628     196.925903   \n",
       "std         6.922467      17.318842       1.986418      21.376121   \n",
       "min         0.000000       0.000000       1.000000    -495.000000   \n",
       "25%         5.000000      14.000000       4.000000     186.000000   \n",
       "50%        11.000000      29.000000       7.000000     199.000000   \n",
       "75%        17.000000      44.000000       7.000000     209.333333   \n",
       "max        23.000000      59.000000      10.000000     261.833333   \n",
       "\n",
       "             sensor2       sensor3        sensor4        sensor5  \\\n",
       "count  114551.000000     15.000000  126546.000000  126546.000000   \n",
       "mean       92.308930   8791.283333     228.623352      87.140110   \n",
       "std       202.174390   2839.844480       7.823923     160.519101   \n",
       "min         0.000000   4924.000000     205.000000       0.000000   \n",
       "25%         0.000000   6178.250000     224.000000       0.000000   \n",
       "50%        10.000000   8224.500000     228.833333      16.666667   \n",
       "75%        84.333333  11048.625000     233.833333     108.000000   \n",
       "max      1170.000000  13440.000000     264.000000    1141.000000   \n",
       "\n",
       "            sensor6        sensor8  ...       sensor22       sensor23  \\\n",
       "count  19180.000000  108092.000000  ...  118019.000000  118021.000000   \n",
       "mean       7.367738      37.363547  ...       3.984462       3.784127   \n",
       "std        3.686028     105.363077  ...      83.331683      22.440201   \n",
       "min        0.000000       0.000000  ...       0.000000       0.000000   \n",
       "25%        5.000000       0.000000  ...       0.000000       0.000000   \n",
       "50%        6.333333       0.666667  ...       0.000000       0.000000   \n",
       "75%        8.500000      32.666667  ...       0.000000       0.000000   \n",
       "max      102.250000    1124.000000  ...    2190.181818     277.454545   \n",
       "\n",
       "            sensor24       sensor25       sensor30     sensor31  \\\n",
       "count  117919.000000  118012.000000  114125.000000  9203.000000   \n",
       "mean        0.766854       4.168792      13.934131    30.268450   \n",
       "std         5.950108      62.327809      43.849795     1.019140   \n",
       "min         0.000000       0.000000       0.000000    11.500000   \n",
       "25%         0.000000       0.000000       0.800000    29.904762   \n",
       "50%         0.000000       0.000000       1.000000    30.300000   \n",
       "75%         0.000000       0.000000       1.272727    30.842105   \n",
       "max        50.636364    1462.083333     177.095238    32.272727   \n",
       "\n",
       "            sensor32       sensor34      sensor35       sensor40  \n",
       "count  114395.000000  112537.000000  52274.000000  115056.000000  \n",
       "mean        1.014784      66.035078     20.728380       3.350168  \n",
       "std         7.874184      74.446204     15.121987       7.987330  \n",
       "min         0.000000       0.000000      0.000000       0.000000  \n",
       "25%         0.000000       2.222222      2.000000       2.000000  \n",
       "50%         0.000000       3.600000     32.000000       2.000000  \n",
       "75%         0.000000     121.200000     33.000000       2.000000  \n",
       "max        69.818182     255.400000     73.000000     132.166667  \n",
       "\n",
       "[8 rows x 25 columns]"
      ]
     },
     "execution_count": 2,
     "metadata": {},
     "output_type": "execute_result"
    }
   ],
   "source": [
    "df = pd.read_csv(base + \"dataset_1_preprocessing_with_mean_value.csv\")\n",
    "df.describe()"
   ]
  },
  {
   "cell_type": "code",
   "execution_count": 3,
   "metadata": {},
   "outputs": [
    {
     "data": {
      "text/html": [
       "<div>\n",
       "<style scoped>\n",
       "    .dataframe tbody tr th:only-of-type {\n",
       "        vertical-align: middle;\n",
       "    }\n",
       "\n",
       "    .dataframe tbody tr th {\n",
       "        vertical-align: top;\n",
       "    }\n",
       "\n",
       "    .dataframe thead th {\n",
       "        text-align: right;\n",
       "    }\n",
       "</style>\n",
       "<table border=\"1\" class=\"dataframe\">\n",
       "  <thead>\n",
       "    <tr style=\"text-align: right;\">\n",
       "      <th></th>\n",
       "      <th>TimeID</th>\n",
       "      <th>Hour</th>\n",
       "      <th>Minute</th>\n",
       "      <th>Date</th>\n",
       "      <th>Label</th>\n",
       "      <th>Name</th>\n",
       "      <th>sensor5</th>\n",
       "      <th>sensor6</th>\n",
       "      <th>sensor8</th>\n",
       "      <th>sensor9</th>\n",
       "      <th>...</th>\n",
       "      <th>sensor22</th>\n",
       "      <th>sensor23</th>\n",
       "      <th>sensor24</th>\n",
       "      <th>sensor25</th>\n",
       "      <th>sensor30</th>\n",
       "      <th>sensor31</th>\n",
       "      <th>sensor32</th>\n",
       "      <th>sensor34</th>\n",
       "      <th>sensor35</th>\n",
       "      <th>sensor40</th>\n",
       "    </tr>\n",
       "  </thead>\n",
       "  <tbody>\n",
       "    <tr>\n",
       "      <th>0</th>\n",
       "      <td>2013-03-04-20-58</td>\n",
       "      <td>20</td>\n",
       "      <td>58</td>\n",
       "      <td>2013-03-04</td>\n",
       "      <td>4.0</td>\n",
       "      <td>Working at PC</td>\n",
       "      <td>0.0</td>\n",
       "      <td>NaN</td>\n",
       "      <td>66.000000</td>\n",
       "      <td>NaN</td>\n",
       "      <td>...</td>\n",
       "      <td>0.0</td>\n",
       "      <td>0.0</td>\n",
       "      <td>0.0</td>\n",
       "      <td>0.0</td>\n",
       "      <td>1.090909</td>\n",
       "      <td>NaN</td>\n",
       "      <td>0.0</td>\n",
       "      <td>197.545455</td>\n",
       "      <td>34.181818</td>\n",
       "      <td>2.181818</td>\n",
       "    </tr>\n",
       "    <tr>\n",
       "      <th>1</th>\n",
       "      <td>2013-03-04-20-59</td>\n",
       "      <td>20</td>\n",
       "      <td>59</td>\n",
       "      <td>2013-03-04</td>\n",
       "      <td>4.0</td>\n",
       "      <td>Working at PC</td>\n",
       "      <td>0.0</td>\n",
       "      <td>NaN</td>\n",
       "      <td>66.000000</td>\n",
       "      <td>NaN</td>\n",
       "      <td>...</td>\n",
       "      <td>0.0</td>\n",
       "      <td>0.0</td>\n",
       "      <td>0.0</td>\n",
       "      <td>0.0</td>\n",
       "      <td>1.000000</td>\n",
       "      <td>NaN</td>\n",
       "      <td>0.0</td>\n",
       "      <td>200.166667</td>\n",
       "      <td>32.833333</td>\n",
       "      <td>2.000000</td>\n",
       "    </tr>\n",
       "    <tr>\n",
       "      <th>2</th>\n",
       "      <td>2013-03-04-21-00</td>\n",
       "      <td>21</td>\n",
       "      <td>0</td>\n",
       "      <td>2013-03-04</td>\n",
       "      <td>4.0</td>\n",
       "      <td>Working at PC</td>\n",
       "      <td>0.0</td>\n",
       "      <td>NaN</td>\n",
       "      <td>64.333333</td>\n",
       "      <td>NaN</td>\n",
       "      <td>...</td>\n",
       "      <td>0.0</td>\n",
       "      <td>0.0</td>\n",
       "      <td>0.0</td>\n",
       "      <td>0.0</td>\n",
       "      <td>0.909091</td>\n",
       "      <td>NaN</td>\n",
       "      <td>0.0</td>\n",
       "      <td>198.083333</td>\n",
       "      <td>33.272727</td>\n",
       "      <td>2.000000</td>\n",
       "    </tr>\n",
       "    <tr>\n",
       "      <th>3</th>\n",
       "      <td>2013-03-04-21-01</td>\n",
       "      <td>21</td>\n",
       "      <td>1</td>\n",
       "      <td>2013-03-04</td>\n",
       "      <td>4.0</td>\n",
       "      <td>Working at PC</td>\n",
       "      <td>0.0</td>\n",
       "      <td>NaN</td>\n",
       "      <td>64.000000</td>\n",
       "      <td>NaN</td>\n",
       "      <td>...</td>\n",
       "      <td>0.0</td>\n",
       "      <td>0.0</td>\n",
       "      <td>0.0</td>\n",
       "      <td>0.0</td>\n",
       "      <td>1.090909</td>\n",
       "      <td>NaN</td>\n",
       "      <td>0.0</td>\n",
       "      <td>199.500000</td>\n",
       "      <td>33.090909</td>\n",
       "      <td>2.000000</td>\n",
       "    </tr>\n",
       "    <tr>\n",
       "      <th>4</th>\n",
       "      <td>2013-03-04-21-02</td>\n",
       "      <td>21</td>\n",
       "      <td>2</td>\n",
       "      <td>2013-03-04</td>\n",
       "      <td>4.0</td>\n",
       "      <td>Working at PC</td>\n",
       "      <td>0.0</td>\n",
       "      <td>NaN</td>\n",
       "      <td>64.000000</td>\n",
       "      <td>NaN</td>\n",
       "      <td>...</td>\n",
       "      <td>0.0</td>\n",
       "      <td>0.0</td>\n",
       "      <td>0.0</td>\n",
       "      <td>0.0</td>\n",
       "      <td>0.909091</td>\n",
       "      <td>NaN</td>\n",
       "      <td>0.0</td>\n",
       "      <td>200.454545</td>\n",
       "      <td>32.181818</td>\n",
       "      <td>2.000000</td>\n",
       "    </tr>\n",
       "  </tbody>\n",
       "</table>\n",
       "<p>5 rows × 24 columns</p>\n",
       "</div>"
      ],
      "text/plain": [
       "             TimeID  Hour  Minute        Date  Label           Name  sensor5  \\\n",
       "0  2013-03-04-20-58    20      58  2013-03-04    4.0  Working at PC      0.0   \n",
       "1  2013-03-04-20-59    20      59  2013-03-04    4.0  Working at PC      0.0   \n",
       "2  2013-03-04-21-00    21       0  2013-03-04    4.0  Working at PC      0.0   \n",
       "3  2013-03-04-21-01    21       1  2013-03-04    4.0  Working at PC      0.0   \n",
       "4  2013-03-04-21-02    21       2  2013-03-04    4.0  Working at PC      0.0   \n",
       "\n",
       "   sensor6    sensor8  sensor9  ...  sensor22  sensor23  sensor24  sensor25  \\\n",
       "0      NaN  66.000000      NaN  ...       0.0       0.0       0.0       0.0   \n",
       "1      NaN  66.000000      NaN  ...       0.0       0.0       0.0       0.0   \n",
       "2      NaN  64.333333      NaN  ...       0.0       0.0       0.0       0.0   \n",
       "3      NaN  64.000000      NaN  ...       0.0       0.0       0.0       0.0   \n",
       "4      NaN  64.000000      NaN  ...       0.0       0.0       0.0       0.0   \n",
       "\n",
       "   sensor30  sensor31  sensor32    sensor34   sensor35  sensor40  \n",
       "0  1.090909       NaN       0.0  197.545455  34.181818  2.181818  \n",
       "1  1.000000       NaN       0.0  200.166667  32.833333  2.000000  \n",
       "2  0.909091       NaN       0.0  198.083333  33.272727  2.000000  \n",
       "3  1.090909       NaN       0.0  199.500000  33.090909  2.000000  \n",
       "4  0.909091       NaN       0.0  200.454545  32.181818  2.000000  \n",
       "\n",
       "[5 rows x 24 columns]"
      ]
     },
     "execution_count": 3,
     "metadata": {},
     "output_type": "execute_result"
    }
   ],
   "source": [
    "df.head()"
   ]
  },
  {
   "cell_type": "markdown",
   "metadata": {},
   "source": [
    "## 2. Data processing"
   ]
  },
  {
   "cell_type": "code",
   "execution_count": 7,
   "metadata": {},
   "outputs": [],
   "source": [
    "df_train = df.copy()\n",
    "df_train = df_train.fillna(0)\n",
    "df_train = df_train.dropna()\n",
    "df_train = df_train[df_train[\"Label\"]!=7]\n",
    "df_train = df_train.reset_index(drop=True)\n",
    "df_train[\"Time\"] = df_train[\"Hour\"]*60 + df_train[\"Minute\"]"
   ]
  },
  {
   "cell_type": "code",
   "execution_count": 5,
   "metadata": {},
   "outputs": [
    {
     "data": {
      "text/html": [
       "<div>\n",
       "<style scoped>\n",
       "    .dataframe tbody tr th:only-of-type {\n",
       "        vertical-align: middle;\n",
       "    }\n",
       "\n",
       "    .dataframe tbody tr th {\n",
       "        vertical-align: top;\n",
       "    }\n",
       "\n",
       "    .dataframe thead th {\n",
       "        text-align: right;\n",
       "    }\n",
       "</style>\n",
       "<table border=\"1\" class=\"dataframe\">\n",
       "  <thead>\n",
       "    <tr style=\"text-align: right;\">\n",
       "      <th></th>\n",
       "      <th>TimeID</th>\n",
       "      <th>Hour</th>\n",
       "      <th>Minute</th>\n",
       "      <th>Date</th>\n",
       "      <th>Label</th>\n",
       "      <th>Name</th>\n",
       "      <th>sensor5</th>\n",
       "      <th>sensor6</th>\n",
       "      <th>sensor8</th>\n",
       "      <th>sensor9</th>\n",
       "      <th>...</th>\n",
       "      <th>sensor23</th>\n",
       "      <th>sensor24</th>\n",
       "      <th>sensor25</th>\n",
       "      <th>sensor30</th>\n",
       "      <th>sensor31</th>\n",
       "      <th>sensor32</th>\n",
       "      <th>sensor34</th>\n",
       "      <th>sensor35</th>\n",
       "      <th>sensor40</th>\n",
       "      <th>Time</th>\n",
       "    </tr>\n",
       "  </thead>\n",
       "  <tbody>\n",
       "    <tr>\n",
       "      <th>0</th>\n",
       "      <td>2013-03-04-20-58</td>\n",
       "      <td>20</td>\n",
       "      <td>58</td>\n",
       "      <td>2013-03-04</td>\n",
       "      <td>4.0</td>\n",
       "      <td>Working at PC</td>\n",
       "      <td>0.0</td>\n",
       "      <td>0.0</td>\n",
       "      <td>66.000000</td>\n",
       "      <td>0.0</td>\n",
       "      <td>...</td>\n",
       "      <td>0.0</td>\n",
       "      <td>0.0</td>\n",
       "      <td>0.0</td>\n",
       "      <td>1.090909</td>\n",
       "      <td>0.0</td>\n",
       "      <td>0.0</td>\n",
       "      <td>197.545455</td>\n",
       "      <td>34.181818</td>\n",
       "      <td>2.181818</td>\n",
       "      <td>1258</td>\n",
       "    </tr>\n",
       "    <tr>\n",
       "      <th>1</th>\n",
       "      <td>2013-03-04-20-59</td>\n",
       "      <td>20</td>\n",
       "      <td>59</td>\n",
       "      <td>2013-03-04</td>\n",
       "      <td>4.0</td>\n",
       "      <td>Working at PC</td>\n",
       "      <td>0.0</td>\n",
       "      <td>0.0</td>\n",
       "      <td>66.000000</td>\n",
       "      <td>0.0</td>\n",
       "      <td>...</td>\n",
       "      <td>0.0</td>\n",
       "      <td>0.0</td>\n",
       "      <td>0.0</td>\n",
       "      <td>1.000000</td>\n",
       "      <td>0.0</td>\n",
       "      <td>0.0</td>\n",
       "      <td>200.166667</td>\n",
       "      <td>32.833333</td>\n",
       "      <td>2.000000</td>\n",
       "      <td>1259</td>\n",
       "    </tr>\n",
       "    <tr>\n",
       "      <th>2</th>\n",
       "      <td>2013-03-04-21-00</td>\n",
       "      <td>21</td>\n",
       "      <td>0</td>\n",
       "      <td>2013-03-04</td>\n",
       "      <td>4.0</td>\n",
       "      <td>Working at PC</td>\n",
       "      <td>0.0</td>\n",
       "      <td>0.0</td>\n",
       "      <td>64.333333</td>\n",
       "      <td>0.0</td>\n",
       "      <td>...</td>\n",
       "      <td>0.0</td>\n",
       "      <td>0.0</td>\n",
       "      <td>0.0</td>\n",
       "      <td>0.909091</td>\n",
       "      <td>0.0</td>\n",
       "      <td>0.0</td>\n",
       "      <td>198.083333</td>\n",
       "      <td>33.272727</td>\n",
       "      <td>2.000000</td>\n",
       "      <td>1260</td>\n",
       "    </tr>\n",
       "    <tr>\n",
       "      <th>3</th>\n",
       "      <td>2013-03-04-21-01</td>\n",
       "      <td>21</td>\n",
       "      <td>1</td>\n",
       "      <td>2013-03-04</td>\n",
       "      <td>4.0</td>\n",
       "      <td>Working at PC</td>\n",
       "      <td>0.0</td>\n",
       "      <td>0.0</td>\n",
       "      <td>64.000000</td>\n",
       "      <td>0.0</td>\n",
       "      <td>...</td>\n",
       "      <td>0.0</td>\n",
       "      <td>0.0</td>\n",
       "      <td>0.0</td>\n",
       "      <td>1.090909</td>\n",
       "      <td>0.0</td>\n",
       "      <td>0.0</td>\n",
       "      <td>199.500000</td>\n",
       "      <td>33.090909</td>\n",
       "      <td>2.000000</td>\n",
       "      <td>1261</td>\n",
       "    </tr>\n",
       "    <tr>\n",
       "      <th>4</th>\n",
       "      <td>2013-03-04-21-02</td>\n",
       "      <td>21</td>\n",
       "      <td>2</td>\n",
       "      <td>2013-03-04</td>\n",
       "      <td>4.0</td>\n",
       "      <td>Working at PC</td>\n",
       "      <td>0.0</td>\n",
       "      <td>0.0</td>\n",
       "      <td>64.000000</td>\n",
       "      <td>0.0</td>\n",
       "      <td>...</td>\n",
       "      <td>0.0</td>\n",
       "      <td>0.0</td>\n",
       "      <td>0.0</td>\n",
       "      <td>0.909091</td>\n",
       "      <td>0.0</td>\n",
       "      <td>0.0</td>\n",
       "      <td>200.454545</td>\n",
       "      <td>32.181818</td>\n",
       "      <td>2.000000</td>\n",
       "      <td>1262</td>\n",
       "    </tr>\n",
       "  </tbody>\n",
       "</table>\n",
       "<p>5 rows × 25 columns</p>\n",
       "</div>"
      ],
      "text/plain": [
       "             TimeID  Hour  Minute        Date  Label           Name  sensor5  \\\n",
       "0  2013-03-04-20-58    20      58  2013-03-04    4.0  Working at PC      0.0   \n",
       "1  2013-03-04-20-59    20      59  2013-03-04    4.0  Working at PC      0.0   \n",
       "2  2013-03-04-21-00    21       0  2013-03-04    4.0  Working at PC      0.0   \n",
       "3  2013-03-04-21-01    21       1  2013-03-04    4.0  Working at PC      0.0   \n",
       "4  2013-03-04-21-02    21       2  2013-03-04    4.0  Working at PC      0.0   \n",
       "\n",
       "   sensor6    sensor8  sensor9  ...  sensor23  sensor24  sensor25  sensor30  \\\n",
       "0      0.0  66.000000      0.0  ...       0.0       0.0       0.0  1.090909   \n",
       "1      0.0  66.000000      0.0  ...       0.0       0.0       0.0  1.000000   \n",
       "2      0.0  64.333333      0.0  ...       0.0       0.0       0.0  0.909091   \n",
       "3      0.0  64.000000      0.0  ...       0.0       0.0       0.0  1.090909   \n",
       "4      0.0  64.000000      0.0  ...       0.0       0.0       0.0  0.909091   \n",
       "\n",
       "   sensor31  sensor32    sensor34   sensor35  sensor40  Time  \n",
       "0       0.0       0.0  197.545455  34.181818  2.181818  1258  \n",
       "1       0.0       0.0  200.166667  32.833333  2.000000  1259  \n",
       "2       0.0       0.0  198.083333  33.272727  2.000000  1260  \n",
       "3       0.0       0.0  199.500000  33.090909  2.000000  1261  \n",
       "4       0.0       0.0  200.454545  32.181818  2.000000  1262  \n",
       "\n",
       "[5 rows x 25 columns]"
      ]
     },
     "execution_count": 5,
     "metadata": {},
     "output_type": "execute_result"
    }
   ],
   "source": [
    "df_train.head()"
   ]
  },
  {
   "cell_type": "markdown",
   "metadata": {},
   "source": [
    "## 3. Data splitting"
   ]
  },
  {
   "cell_type": "code",
   "execution_count": 85,
   "metadata": {},
   "outputs": [
    {
     "name": "stdout",
     "output_type": "stream",
     "text": [
      "16967\n",
      "50904\n"
     ]
    }
   ],
   "source": [
    "ratio = 0.25\n",
    "encoder = LabelEncoder()\n",
    "\n",
    "X = df_train.drop([\"Label\", \"TimeID\", \"Date\", \"Name\", \"Hour\", \"Minute\"], axis=1)\n",
    "X = np.array(X)\n",
    "y = encoder.fit_transform(df_train[\"Label\"])\n",
    "\n",
    "split_idx = int(len(X)*ratio)\n",
    "\n",
    "X_train, X_test = X[:split_idx], X[split_idx:]\n",
    "y_train, y_test = y[:split_idx], y[split_idx:]\n",
    "\n",
    "print(len(X_train))\n",
    "print(len(X_test))"
   ]
  },
  {
   "cell_type": "markdown",
   "metadata": {},
   "source": [
    "## 4. Training"
   ]
  },
  {
   "cell_type": "code",
   "execution_count": 86,
   "metadata": {},
   "outputs": [],
   "source": [
    "kf = KFold(n_splits=4, random_state=None, shuffle=False)"
   ]
  },
  {
   "cell_type": "code",
   "execution_count": 87,
   "metadata": {},
   "outputs": [],
   "source": [
    "def evaluate(model, n_fold=4, inputs=X_train, labels=y_train):\n",
    "    cross_validation_set = KFold(n_splits=n_fold)\n",
    "    scores = cross_val_score(model, inputs, labels, cv=cross_validation_set)\n",
    "    return scores"
   ]
  },
  {
   "cell_type": "code",
   "execution_count": 88,
   "metadata": {},
   "outputs": [],
   "source": [
    "def random_search(model, parameters, inputs, labels, cross_validation):\n",
    "    \n",
    "    search = RandomizedSearchCV(model, \n",
    "                                parameters, \n",
    "                                scoring='accuracy', \n",
    "                                refit='accuracy',\n",
    "                                random_state=18, n_iter=50, \n",
    "                                verbose=3, n_jobs=-1, \n",
    "                                cv=cross_validation)\n",
    "    start = time.time()\n",
    "    results = search.fit(inputs, labels)\n",
    "    stop = time.time()\n",
    "    return results, round(stop-start, 2)\n",
    "\n",
    "def grid_search(model, parameters, inputs, labels, cross_validation):\n",
    "    search = GridSearchCV(model, \n",
    "                          parameters, \n",
    "                          scoring='accuracy', \n",
    "                          refit='accuracy',\n",
    "                          verbose=3, n_jobs=-1, \n",
    "                          cv=cross_validation)\n",
    "\n",
    "    start = time.time()\n",
    "    results = search.fit(inputs, labels)\n",
    "    stop = time.time()\n",
    "    return results, round(stop-start, 2)"
   ]
  },
  {
   "cell_type": "markdown",
   "metadata": {},
   "source": [
    "### Random forest"
   ]
  },
  {
   "cell_type": "code",
   "execution_count": 89,
   "metadata": {},
   "outputs": [],
   "source": [
    "def rf_summary(results):\n",
    "\n",
    "    accuracy = results.cv_results_['mean_test_score']\n",
    "    params = results.cv_results_['params']\n",
    "\n",
    "    summary = {\n",
    "        \"Accuracy\": [accuracy[i] for i in range(len(params))],\n",
    "        \"Rank\": [results.cv_results_[\"rank_test_score\"][i] for i in range(len(params))],\n",
    "        \"n_estimators\": [param['n_estimators'] for param in params], \n",
    "        \"max_depth\": [param['max_depth'] for param in params],\n",
    "        \"min_samples_leaf\": [param['min_samples_leaf'] for param in params],\n",
    "        \"min_samples_split\": [param['min_samples_split'] for param in params],\n",
    "        \"bootstrap\": [param['bootstrap'] for param in params]\n",
    "    }\n",
    "\n",
    "    df_summary = pd.DataFrame(data=summary).sort_values(by=\"Rank\")\n",
    "    df_summary = df_summary.reset_index(drop=True)\n",
    "    return df_summary"
   ]
  },
  {
   "cell_type": "code",
   "execution_count": 90,
   "metadata": {},
   "outputs": [
    {
     "name": "stdout",
     "output_type": "stream",
     "text": [
      "Fitting 4 folds for each of 50 candidates, totalling 200 fits\n"
     ]
    },
    {
     "name": "stderr",
     "output_type": "stream",
     "text": [
      "[Parallel(n_jobs=-1)]: Using backend LokyBackend with 12 concurrent workers.\n",
      "[Parallel(n_jobs=-1)]: Done   8 tasks      | elapsed:    6.9s\n",
      "[Parallel(n_jobs=-1)]: Done 104 tasks      | elapsed:  1.4min\n",
      "[Parallel(n_jobs=-1)]: Done 200 out of 200 | elapsed:  2.5min finished\n"
     ]
    }
   ],
   "source": [
    "rf_random_params = {\n",
    "    \"n_estimators\": [int(x) for x in np.arange(100,1001,50)],\n",
    "    \"max_depth\": [int(x) for x in np.arange(2,31,2)],\n",
    "    \"min_samples_split\": [2,5,10],\n",
    "    \"min_samples_leaf\": [1,2,4],\n",
    "    \"bootstrap\": [True, False]\n",
    "}\n",
    "\n",
    "rf_random_model = RandomForestClassifier(random_state=18)\n",
    "\n",
    "rf_random_results, time_execution = random_search(rf_random_model,\n",
    "                                                  rf_random_params,\n",
    "                                                  X_train,\n",
    "                                                  y_train,\n",
    "                                                  kf) "
   ]
  },
  {
   "cell_type": "code",
   "execution_count": 91,
   "metadata": {},
   "outputs": [
    {
     "data": {
      "text/html": [
       "<div>\n",
       "<style scoped>\n",
       "    .dataframe tbody tr th:only-of-type {\n",
       "        vertical-align: middle;\n",
       "    }\n",
       "\n",
       "    .dataframe tbody tr th {\n",
       "        vertical-align: top;\n",
       "    }\n",
       "\n",
       "    .dataframe thead th {\n",
       "        text-align: right;\n",
       "    }\n",
       "</style>\n",
       "<table border=\"1\" class=\"dataframe\">\n",
       "  <thead>\n",
       "    <tr style=\"text-align: right;\">\n",
       "      <th></th>\n",
       "      <th>Accuracy</th>\n",
       "      <th>Rank</th>\n",
       "      <th>n_estimators</th>\n",
       "      <th>max_depth</th>\n",
       "      <th>min_samples_leaf</th>\n",
       "      <th>min_samples_split</th>\n",
       "      <th>bootstrap</th>\n",
       "    </tr>\n",
       "  </thead>\n",
       "  <tbody>\n",
       "    <tr>\n",
       "      <th>0</th>\n",
       "      <td>0.863973</td>\n",
       "      <td>1</td>\n",
       "      <td>350</td>\n",
       "      <td>6</td>\n",
       "      <td>2</td>\n",
       "      <td>2</td>\n",
       "      <td>False</td>\n",
       "    </tr>\n",
       "  </tbody>\n",
       "</table>\n",
       "</div>"
      ],
      "text/plain": [
       "   Accuracy  Rank  n_estimators  max_depth  min_samples_leaf  \\\n",
       "0  0.863973     1           350          6                 2   \n",
       "\n",
       "   min_samples_split  bootstrap  \n",
       "0                  2      False  "
      ]
     },
     "execution_count": 91,
     "metadata": {},
     "output_type": "execute_result"
    }
   ],
   "source": [
    "rf_random_summary = rf_summary(rf_random_results)\n",
    "rf_random_summary.iloc[:1,:]"
   ]
  },
  {
   "cell_type": "code",
   "execution_count": 92,
   "metadata": {},
   "outputs": [
    {
     "data": {
      "text/plain": [
       "['results/rf_randomsearch.pkl']"
      ]
     },
     "execution_count": 92,
     "metadata": {},
     "output_type": "execute_result"
    }
   ],
   "source": [
    "joblib.dump(rf_random_results, \"results/rf_randomsearch.pkl\") "
   ]
  },
  {
   "cell_type": "code",
   "execution_count": 117,
   "metadata": {},
   "outputs": [
    {
     "name": "stdout",
     "output_type": "stream",
     "text": [
      "Fitting 4 folds for each of 144 candidates, totalling 576 fits\n"
     ]
    },
    {
     "name": "stderr",
     "output_type": "stream",
     "text": [
      "[Parallel(n_jobs=-1)]: Using backend LokyBackend with 12 concurrent workers.\n",
      "[Parallel(n_jobs=-1)]: Done   8 tasks      | elapsed:    3.8s\n",
      "[Parallel(n_jobs=-1)]: Done 104 tasks      | elapsed:   33.1s\n",
      "[Parallel(n_jobs=-1)]: Done 264 tasks      | elapsed:  1.5min\n",
      "[Parallel(n_jobs=-1)]: Done 488 tasks      | elapsed:  2.6min\n",
      "[Parallel(n_jobs=-1)]: Done 576 out of 576 | elapsed:  3.1min finished\n"
     ]
    }
   ],
   "source": [
    "rf_grid_params = {\n",
    "    \"n_estimators\": [int(x) for x in np.arange(340,371,10)],\n",
    "    \"max_depth\": [int(x) for x in np.arange(4,7,1)],\n",
    "    \"min_samples_split\": [2,3,4],\n",
    "    \"min_samples_leaf\": [2,3],\n",
    "    \"bootstrap\": [False, True]\n",
    "}\n",
    "\n",
    "rf_grid_model = RandomForestClassifier(random_state=18)\n",
    "\n",
    "rf_grid_results, time_execution = grid_search(rf_grid_model,\n",
    "                                              rf_grid_params,\n",
    "                                              X_train,\n",
    "                                              y_train,\n",
    "                                              kf) "
   ]
  },
  {
   "cell_type": "code",
   "execution_count": 118,
   "metadata": {},
   "outputs": [
    {
     "data": {
      "text/html": [
       "<div>\n",
       "<style scoped>\n",
       "    .dataframe tbody tr th:only-of-type {\n",
       "        vertical-align: middle;\n",
       "    }\n",
       "\n",
       "    .dataframe tbody tr th {\n",
       "        vertical-align: top;\n",
       "    }\n",
       "\n",
       "    .dataframe thead th {\n",
       "        text-align: right;\n",
       "    }\n",
       "</style>\n",
       "<table border=\"1\" class=\"dataframe\">\n",
       "  <thead>\n",
       "    <tr style=\"text-align: right;\">\n",
       "      <th></th>\n",
       "      <th>Accuracy</th>\n",
       "      <th>Rank</th>\n",
       "      <th>n_estimators</th>\n",
       "      <th>max_depth</th>\n",
       "      <th>min_samples_leaf</th>\n",
       "      <th>min_samples_split</th>\n",
       "      <th>bootstrap</th>\n",
       "    </tr>\n",
       "  </thead>\n",
       "  <tbody>\n",
       "    <tr>\n",
       "      <th>0</th>\n",
       "      <td>0.864444</td>\n",
       "      <td>1</td>\n",
       "      <td>360</td>\n",
       "      <td>6</td>\n",
       "      <td>2</td>\n",
       "      <td>2</td>\n",
       "      <td>False</td>\n",
       "    </tr>\n",
       "  </tbody>\n",
       "</table>\n",
       "</div>"
      ],
      "text/plain": [
       "   Accuracy  Rank  n_estimators  max_depth  min_samples_leaf  \\\n",
       "0  0.864444     1           360          6                 2   \n",
       "\n",
       "   min_samples_split  bootstrap  \n",
       "0                  2      False  "
      ]
     },
     "execution_count": 118,
     "metadata": {},
     "output_type": "execute_result"
    }
   ],
   "source": [
    "rf_grid_summary = rf_summary(rf_grid_results)\n",
    "rf_grid_summary.iloc[:1,:]"
   ]
  },
  {
   "cell_type": "code",
   "execution_count": 119,
   "metadata": {},
   "outputs": [
    {
     "data": {
      "text/plain": [
       "['results/rf_gridsearch.pkl']"
      ]
     },
     "execution_count": 119,
     "metadata": {},
     "output_type": "execute_result"
    }
   ],
   "source": [
    "joblib.dump(rf_grid_results, \"results/rf_gridsearch.pkl\") "
   ]
  },
  {
   "cell_type": "markdown",
   "metadata": {},
   "source": [
    "### XGBoost"
   ]
  },
  {
   "cell_type": "code",
   "execution_count": 96,
   "metadata": {},
   "outputs": [],
   "source": [
    "def xgb_summary(results):\n",
    "    accuracy = results.cv_results_['mean_test_score']\n",
    "    params = results.cv_results_['params']\n",
    "\n",
    "    summary = {\n",
    "        \"Accuracy\": [accuracy[i] for i in range(len(params))],\n",
    "        \"Rank\": [results.cv_results_[\"rank_test_score\"][i] for i in range(len(params))],\n",
    "        \"# estimators\": [param['n_estimators'] for param in params], \n",
    "        \"max_depth\": [param['max_depth'] for param in params],\n",
    "        \"learning_rate\": [param['learning_rate'] for param in params],\n",
    "        \"colsample_bytree\": [param['colsample_bytree'] for param in params],\n",
    "        \"subsample\": [param['subsample'] for param in params],\n",
    "        \"gamma\": [param['gamma'] for param in params]\n",
    "    }\n",
    "\n",
    "    df_summary = pd.DataFrame(data=summary).sort_values(by=\"Rank\")\n",
    "    df_summary = df_summary.reset_index(drop=True)\n",
    "    return df_summary"
   ]
  },
  {
   "cell_type": "code",
   "execution_count": 97,
   "metadata": {},
   "outputs": [
    {
     "name": "stdout",
     "output_type": "stream",
     "text": [
      "Fitting 4 folds for each of 50 candidates, totalling 200 fits\n"
     ]
    },
    {
     "name": "stderr",
     "output_type": "stream",
     "text": [
      "[Parallel(n_jobs=-1)]: Using backend LokyBackend with 12 concurrent workers.\n",
      "[Parallel(n_jobs=-1)]: Done   8 tasks      | elapsed:  2.1min\n",
      "[Parallel(n_jobs=-1)]: Done 104 tasks      | elapsed: 12.2min\n",
      "[Parallel(n_jobs=-1)]: Done 200 out of 200 | elapsed: 20.5min finished\n"
     ]
    }
   ],
   "source": [
    "xgb_random_params = {\n",
    "    \"n_estimators\": [int(x) for x in np.arange(100,1001,50)],\n",
    "    \"learning_rate\": [0.01, 0.05, 0.1],\n",
    "    \"max_depth\": [3, 4, 5, 6],\n",
    "    \"subsample\": [0.8, 0.9, 1],\n",
    "    \"colsample_bytree\": [0.5, 0.6, 0.7, 0.8, 0.9, 1],\n",
    "    \"gamma\": [0, 1, 5]\n",
    "}\n",
    "\n",
    "xgb_random_model =  XGBClassifier(random_state=18)\n",
    "\n",
    "xgb_random_results, time_execution = random_search(xgb_random_model, \n",
    "                                                   xgb_random_params,\n",
    "                                                   X_train, y_train, kf)"
   ]
  },
  {
   "cell_type": "code",
   "execution_count": 98,
   "metadata": {},
   "outputs": [
    {
     "data": {
      "text/html": [
       "<div>\n",
       "<style scoped>\n",
       "    .dataframe tbody tr th:only-of-type {\n",
       "        vertical-align: middle;\n",
       "    }\n",
       "\n",
       "    .dataframe tbody tr th {\n",
       "        vertical-align: top;\n",
       "    }\n",
       "\n",
       "    .dataframe thead th {\n",
       "        text-align: right;\n",
       "    }\n",
       "</style>\n",
       "<table border=\"1\" class=\"dataframe\">\n",
       "  <thead>\n",
       "    <tr style=\"text-align: right;\">\n",
       "      <th></th>\n",
       "      <th>Accuracy</th>\n",
       "      <th>Rank</th>\n",
       "      <th># estimators</th>\n",
       "      <th>max_depth</th>\n",
       "      <th>learning_rate</th>\n",
       "      <th>colsample_bytree</th>\n",
       "      <th>subsample</th>\n",
       "      <th>gamma</th>\n",
       "    </tr>\n",
       "  </thead>\n",
       "  <tbody>\n",
       "    <tr>\n",
       "      <th>0</th>\n",
       "      <td>0.84352</td>\n",
       "      <td>1</td>\n",
       "      <td>200</td>\n",
       "      <td>4</td>\n",
       "      <td>0.01</td>\n",
       "      <td>0.6</td>\n",
       "      <td>0.9</td>\n",
       "      <td>0</td>\n",
       "    </tr>\n",
       "  </tbody>\n",
       "</table>\n",
       "</div>"
      ],
      "text/plain": [
       "   Accuracy  Rank  # estimators  max_depth  learning_rate  colsample_bytree  \\\n",
       "0   0.84352     1           200          4           0.01               0.6   \n",
       "\n",
       "   subsample  gamma  \n",
       "0        0.9      0  "
      ]
     },
     "execution_count": 98,
     "metadata": {},
     "output_type": "execute_result"
    }
   ],
   "source": [
    "xgb_random_summary = xgb_summary(xgb_random_results)\n",
    "xgb_random_summary.iloc[:1,:]"
   ]
  },
  {
   "cell_type": "code",
   "execution_count": 99,
   "metadata": {},
   "outputs": [
    {
     "data": {
      "text/plain": [
       "['results/xgb_randomsearch.pkl']"
      ]
     },
     "execution_count": 99,
     "metadata": {},
     "output_type": "execute_result"
    }
   ],
   "source": [
    "joblib.dump(xgb_random_results, \"results/xgb_randomsearch.pkl\") "
   ]
  },
  {
   "cell_type": "code",
   "execution_count": 123,
   "metadata": {},
   "outputs": [
    {
     "name": "stdout",
     "output_type": "stream",
     "text": [
      "Fitting 4 folds for each of 5 candidates, totalling 20 fits\n"
     ]
    },
    {
     "name": "stderr",
     "output_type": "stream",
     "text": [
      "[Parallel(n_jobs=-1)]: Using backend LokyBackend with 12 concurrent workers.\n",
      "[Parallel(n_jobs=-1)]: Done   4 out of  20 | elapsed:   23.0s remaining:  1.5min\n",
      "[Parallel(n_jobs=-1)]: Done  11 out of  20 | elapsed:   25.2s remaining:   20.6s\n",
      "[Parallel(n_jobs=-1)]: Done  18 out of  20 | elapsed:   45.0s remaining:    4.9s\n",
      "[Parallel(n_jobs=-1)]: Done  20 out of  20 | elapsed:   45.3s finished\n"
     ]
    }
   ],
   "source": [
    "xgb_grid_params = {\n",
    "    \"n_estimators\": [int(x) for x in np.arange(180,221,10)],\n",
    "    \"learning_rate\": [0.01],\n",
    "    \"max_depth\": [4],\n",
    "    \"subsample\": [0.9],\n",
    "    \"colsample_bytree\": [0.6],\n",
    "    \"gamma\": [0]\n",
    "}\n",
    "\n",
    "xgb_grid_model =  XGBClassifier(random_state=18)\n",
    "\n",
    "xgb_grid_results, time_execution = grid_search(xgb_grid_model, \n",
    "                                               xgb_grid_params,\n",
    "                                               X_train, y_train, kf)"
   ]
  },
  {
   "cell_type": "code",
   "execution_count": 124,
   "metadata": {},
   "outputs": [
    {
     "data": {
      "text/html": [
       "<div>\n",
       "<style scoped>\n",
       "    .dataframe tbody tr th:only-of-type {\n",
       "        vertical-align: middle;\n",
       "    }\n",
       "\n",
       "    .dataframe tbody tr th {\n",
       "        vertical-align: top;\n",
       "    }\n",
       "\n",
       "    .dataframe thead th {\n",
       "        text-align: right;\n",
       "    }\n",
       "</style>\n",
       "<table border=\"1\" class=\"dataframe\">\n",
       "  <thead>\n",
       "    <tr style=\"text-align: right;\">\n",
       "      <th></th>\n",
       "      <th>Accuracy</th>\n",
       "      <th>Rank</th>\n",
       "      <th># estimators</th>\n",
       "      <th>max_depth</th>\n",
       "      <th>learning_rate</th>\n",
       "      <th>colsample_bytree</th>\n",
       "      <th>subsample</th>\n",
       "      <th>gamma</th>\n",
       "    </tr>\n",
       "  </thead>\n",
       "  <tbody>\n",
       "    <tr>\n",
       "      <th>0</th>\n",
       "      <td>0.84352</td>\n",
       "      <td>1</td>\n",
       "      <td>200</td>\n",
       "      <td>4</td>\n",
       "      <td>0.01</td>\n",
       "      <td>0.6</td>\n",
       "      <td>0.9</td>\n",
       "      <td>0</td>\n",
       "    </tr>\n",
       "  </tbody>\n",
       "</table>\n",
       "</div>"
      ],
      "text/plain": [
       "   Accuracy  Rank  # estimators  max_depth  learning_rate  colsample_bytree  \\\n",
       "0   0.84352     1           200          4           0.01               0.6   \n",
       "\n",
       "   subsample  gamma  \n",
       "0        0.9      0  "
      ]
     },
     "execution_count": 124,
     "metadata": {},
     "output_type": "execute_result"
    }
   ],
   "source": [
    "xgb_grid_summary = xgb_summary(xgb_grid_results)\n",
    "xgb_grid_summary.iloc[:1,:]"
   ]
  },
  {
   "cell_type": "code",
   "execution_count": 125,
   "metadata": {},
   "outputs": [
    {
     "data": {
      "text/plain": [
       "['results/xgb_gridsearch.pkl']"
      ]
     },
     "execution_count": 125,
     "metadata": {},
     "output_type": "execute_result"
    }
   ],
   "source": [
    "joblib.dump(xgb_grid_results, \"results/xgb_gridsearch.pkl\") "
   ]
  },
  {
   "cell_type": "markdown",
   "metadata": {},
   "source": [
    "### Support Vector Machine"
   ]
  },
  {
   "cell_type": "code",
   "execution_count": 103,
   "metadata": {},
   "outputs": [],
   "source": [
    "def svm_summary(results):\n",
    "    accuracy = results.cv_results_['mean_test_score']\n",
    "    params = results.cv_results_['params']\n",
    "\n",
    "    summary = {\n",
    "        \"Accuracy\": [accuracy[i] for i in range(len(params))],\n",
    "        \"Rank\": [results.cv_results_[\"rank_test_score\"][i] for i in range(len(params))],\n",
    "        \"C\": [param['svc__C'] for param in params], \n",
    "        \"kernel\": [param['svc__kernel'] for param in params]\n",
    "    }\n",
    "\n",
    "    df_summary = pd.DataFrame(data=summary).sort_values(by=\"Rank\")\n",
    "    df_summary = df_summary.reset_index(drop=True)\n",
    "    return df_summary"
   ]
  },
  {
   "cell_type": "code",
   "execution_count": 104,
   "metadata": {},
   "outputs": [
    {
     "name": "stdout",
     "output_type": "stream",
     "text": [
      "Fitting 4 folds for each of 8 candidates, totalling 32 fits\n"
     ]
    },
    {
     "name": "stderr",
     "output_type": "stream",
     "text": [
      "[Parallel(n_jobs=-1)]: Using backend LokyBackend with 12 concurrent workers.\n",
      "[Parallel(n_jobs=-1)]: Done   8 tasks      | elapsed:    6.3s\n",
      "[Parallel(n_jobs=-1)]: Done  20 out of  32 | elapsed:   14.6s remaining:    8.7s\n",
      "[Parallel(n_jobs=-1)]: Done  32 out of  32 | elapsed:  1.0min finished\n"
     ]
    }
   ],
   "source": [
    "svc_params = {\n",
    "    \"svc__C\": [0.01, 0.1, 1, 10],\n",
    "    \"svc__kernel\": [\"linear\", \"rbf\"]\n",
    "}\n",
    "\n",
    "svc = Pipeline(steps=[('standardize', StandardScaler()), ('svc', SVC(cache_size=8000))])\n",
    "svc_grid_search = GridSearchCV(svc, svc_params, verbose=3, n_jobs=-1, cv=kf)\n",
    "\n",
    "svc_grid_results = svc_grid_search.fit(X_train, y_train)"
   ]
  },
  {
   "cell_type": "code",
   "execution_count": 105,
   "metadata": {},
   "outputs": [
    {
     "data": {
      "text/html": [
       "<div>\n",
       "<style scoped>\n",
       "    .dataframe tbody tr th:only-of-type {\n",
       "        vertical-align: middle;\n",
       "    }\n",
       "\n",
       "    .dataframe tbody tr th {\n",
       "        vertical-align: top;\n",
       "    }\n",
       "\n",
       "    .dataframe thead th {\n",
       "        text-align: right;\n",
       "    }\n",
       "</style>\n",
       "<table border=\"1\" class=\"dataframe\">\n",
       "  <thead>\n",
       "    <tr style=\"text-align: right;\">\n",
       "      <th></th>\n",
       "      <th>Accuracy</th>\n",
       "      <th>Rank</th>\n",
       "      <th>C</th>\n",
       "      <th>kernel</th>\n",
       "    </tr>\n",
       "  </thead>\n",
       "  <tbody>\n",
       "    <tr>\n",
       "      <th>0</th>\n",
       "      <td>0.794134</td>\n",
       "      <td>1</td>\n",
       "      <td>1.0</td>\n",
       "      <td>rbf</td>\n",
       "    </tr>\n",
       "  </tbody>\n",
       "</table>\n",
       "</div>"
      ],
      "text/plain": [
       "   Accuracy  Rank    C kernel\n",
       "0  0.794134     1  1.0    rbf"
      ]
     },
     "execution_count": 105,
     "metadata": {},
     "output_type": "execute_result"
    }
   ],
   "source": [
    "svc_grid_summary = svm_summary(svc_grid_results)\n",
    "svc_grid_summary.iloc[:1,:]"
   ]
  },
  {
   "cell_type": "code",
   "execution_count": 106,
   "metadata": {},
   "outputs": [
    {
     "data": {
      "text/html": [
       "<div>\n",
       "<style scoped>\n",
       "    .dataframe tbody tr th:only-of-type {\n",
       "        vertical-align: middle;\n",
       "    }\n",
       "\n",
       "    .dataframe tbody tr th {\n",
       "        vertical-align: top;\n",
       "    }\n",
       "\n",
       "    .dataframe thead th {\n",
       "        text-align: right;\n",
       "    }\n",
       "</style>\n",
       "<table border=\"1\" class=\"dataframe\">\n",
       "  <thead>\n",
       "    <tr style=\"text-align: right;\">\n",
       "      <th></th>\n",
       "      <th>Accuracy</th>\n",
       "      <th>Rank</th>\n",
       "      <th>C</th>\n",
       "      <th>kernel</th>\n",
       "    </tr>\n",
       "  </thead>\n",
       "  <tbody>\n",
       "    <tr>\n",
       "      <th>0</th>\n",
       "      <td>0.794134</td>\n",
       "      <td>1</td>\n",
       "      <td>1.00</td>\n",
       "      <td>rbf</td>\n",
       "    </tr>\n",
       "    <tr>\n",
       "      <th>1</th>\n",
       "      <td>0.794133</td>\n",
       "      <td>2</td>\n",
       "      <td>10.00</td>\n",
       "      <td>rbf</td>\n",
       "    </tr>\n",
       "    <tr>\n",
       "      <th>2</th>\n",
       "      <td>0.774213</td>\n",
       "      <td>3</td>\n",
       "      <td>0.10</td>\n",
       "      <td>rbf</td>\n",
       "    </tr>\n",
       "    <tr>\n",
       "      <th>3</th>\n",
       "      <td>0.751172</td>\n",
       "      <td>4</td>\n",
       "      <td>0.10</td>\n",
       "      <td>linear</td>\n",
       "    </tr>\n",
       "    <tr>\n",
       "      <th>4</th>\n",
       "      <td>0.744275</td>\n",
       "      <td>5</td>\n",
       "      <td>1.00</td>\n",
       "      <td>linear</td>\n",
       "    </tr>\n",
       "    <tr>\n",
       "      <th>5</th>\n",
       "      <td>0.741152</td>\n",
       "      <td>6</td>\n",
       "      <td>0.01</td>\n",
       "      <td>linear</td>\n",
       "    </tr>\n",
       "    <tr>\n",
       "      <th>6</th>\n",
       "      <td>0.740797</td>\n",
       "      <td>7</td>\n",
       "      <td>10.00</td>\n",
       "      <td>linear</td>\n",
       "    </tr>\n",
       "    <tr>\n",
       "      <th>7</th>\n",
       "      <td>0.727478</td>\n",
       "      <td>8</td>\n",
       "      <td>0.01</td>\n",
       "      <td>rbf</td>\n",
       "    </tr>\n",
       "  </tbody>\n",
       "</table>\n",
       "</div>"
      ],
      "text/plain": [
       "   Accuracy  Rank      C  kernel\n",
       "0  0.794134     1   1.00     rbf\n",
       "1  0.794133     2  10.00     rbf\n",
       "2  0.774213     3   0.10     rbf\n",
       "3  0.751172     4   0.10  linear\n",
       "4  0.744275     5   1.00  linear\n",
       "5  0.741152     6   0.01  linear\n",
       "6  0.740797     7  10.00  linear\n",
       "7  0.727478     8   0.01     rbf"
      ]
     },
     "execution_count": 106,
     "metadata": {},
     "output_type": "execute_result"
    }
   ],
   "source": [
    "svc_grid_summary"
   ]
  },
  {
   "cell_type": "code",
   "execution_count": 107,
   "metadata": {},
   "outputs": [
    {
     "data": {
      "text/plain": [
       "['results/svc_gridsearch.pkl']"
      ]
     },
     "execution_count": 107,
     "metadata": {},
     "output_type": "execute_result"
    }
   ],
   "source": [
    "joblib.dump(svc_grid_results, \"results/svc_gridsearch.pkl\") "
   ]
  },
  {
   "cell_type": "markdown",
   "metadata": {},
   "source": [
    "### Multilayer Perceptron"
   ]
  },
  {
   "cell_type": "code",
   "execution_count": 112,
   "metadata": {},
   "outputs": [],
   "source": [
    "def mlp_summary(results):\n",
    "    \n",
    "    accuracy = results.cv_results_['mean_test_accuracy']\n",
    "    params = results.cv_results_['params']\n",
    "\n",
    "    summary = {\n",
    "        \"Accuracy\": [accuracy[i] for i in range(len(params))],\n",
    "        \"Rank\": [results.cv_results_[\"rank_test_accuracy\"][i] for i in range(len(params))],\n",
    "        \"hidden_layer_sizes\": [param['mlp__hidden_layer_sizes'] for param in params], \n",
    "    }\n",
    "    \n",
    "    df_summary = pd.DataFrame(data=summary).sort_values(by=\"Rank\")\n",
    "    df_summary = df_summary.reset_index(drop=True)\n",
    "    return df_summary"
   ]
  },
  {
   "cell_type": "code",
   "execution_count": 113,
   "metadata": {},
   "outputs": [
    {
     "name": "stdout",
     "output_type": "stream",
     "text": [
      "Fitting 4 folds for each of 12 candidates, totalling 48 fits\n"
     ]
    },
    {
     "name": "stderr",
     "output_type": "stream",
     "text": [
      "[Parallel(n_jobs=-1)]: Using backend LokyBackend with 12 concurrent workers.\n",
      "[Parallel(n_jobs=-1)]: Done   8 tasks      | elapsed:  1.7min\n",
      "[Parallel(n_jobs=-1)]: Done  42 out of  48 | elapsed: 14.4min remaining:  2.1min\n",
      "[Parallel(n_jobs=-1)]: Done  48 out of  48 | elapsed: 17.1min finished\n"
     ]
    }
   ],
   "source": [
    "mlp_grid_params = {\n",
    "    \"mlp__hidden_layer_sizes\": [(64), (128), (256), (512),\n",
    "                                (512, 256), (512, 128), (512, 64),\n",
    "                                (256, 128), (256, 64), (128, 64),\n",
    "                                (512, 256, 128), (256, 128, 64)]\n",
    "    }\n",
    "\n",
    "mlp = MLPClassifier(max_iter=500, random_state=18)\n",
    "mlp_pipeline = Pipeline(steps=[('normalize', MinMaxScaler()), ('mlp', mlp)])\n",
    "\n",
    "mlp_grid_search = GridSearchCV(mlp_pipeline, \n",
    "                               mlp_grid_params, \n",
    "                               scoring=['accuracy'], \n",
    "                               refit = 'accuracy', \n",
    "                               verbose=3, n_jobs=-1, cv=kf)\n",
    "\n",
    "mlp_grid_results = mlp_grid_search.fit(X_train, y_train)"
   ]
  },
  {
   "cell_type": "code",
   "execution_count": 114,
   "metadata": {},
   "outputs": [
    {
     "data": {
      "text/html": [
       "<div>\n",
       "<style scoped>\n",
       "    .dataframe tbody tr th:only-of-type {\n",
       "        vertical-align: middle;\n",
       "    }\n",
       "\n",
       "    .dataframe tbody tr th {\n",
       "        vertical-align: top;\n",
       "    }\n",
       "\n",
       "    .dataframe thead th {\n",
       "        text-align: right;\n",
       "    }\n",
       "</style>\n",
       "<table border=\"1\" class=\"dataframe\">\n",
       "  <thead>\n",
       "    <tr style=\"text-align: right;\">\n",
       "      <th></th>\n",
       "      <th>Accuracy</th>\n",
       "      <th>Rank</th>\n",
       "      <th>hidden_layer_sizes</th>\n",
       "    </tr>\n",
       "  </thead>\n",
       "  <tbody>\n",
       "    <tr>\n",
       "      <th>0</th>\n",
       "      <td>0.826781</td>\n",
       "      <td>1</td>\n",
       "      <td>256</td>\n",
       "    </tr>\n",
       "  </tbody>\n",
       "</table>\n",
       "</div>"
      ],
      "text/plain": [
       "   Accuracy  Rank hidden_layer_sizes\n",
       "0  0.826781     1                256"
      ]
     },
     "execution_count": 114,
     "metadata": {},
     "output_type": "execute_result"
    }
   ],
   "source": [
    "mlp_grid_summary = mlp_summary(mlp_grid_results)\n",
    "mlp_grid_summary.iloc[:1,:]"
   ]
  },
  {
   "cell_type": "code",
   "execution_count": 116,
   "metadata": {},
   "outputs": [
    {
     "data": {
      "text/plain": [
       "['results/mlp_gridsearch.pkl']"
      ]
     },
     "execution_count": 116,
     "metadata": {},
     "output_type": "execute_result"
    }
   ],
   "source": [
    "joblib.dump(mlp_grid_results, \"results/mlp_gridsearch.pkl\") "
   ]
  },
  {
   "cell_type": "code",
   "execution_count": null,
   "metadata": {},
   "outputs": [],
   "source": []
  },
  {
   "cell_type": "markdown",
   "metadata": {},
   "source": [
    "## 5. Evaluation "
   ]
  },
  {
   "cell_type": "markdown",
   "metadata": {},
   "source": [
    "### Random forest"
   ]
  },
  {
   "cell_type": "code",
   "execution_count": 126,
   "metadata": {},
   "outputs": [
    {
     "data": {
      "text/plain": [
       "0.8629380795222379"
      ]
     },
     "execution_count": 126,
     "metadata": {},
     "output_type": "execute_result"
    }
   ],
   "source": [
    "rf_grid_results.score(X_test, y_test)"
   ]
  },
  {
   "cell_type": "markdown",
   "metadata": {},
   "source": [
    "### XGBoost"
   ]
  },
  {
   "cell_type": "code",
   "execution_count": 127,
   "metadata": {},
   "outputs": [
    {
     "data": {
      "text/plain": [
       "0.8548640578343548"
      ]
     },
     "execution_count": 127,
     "metadata": {},
     "output_type": "execute_result"
    }
   ],
   "source": [
    "xgb_grid_results.score(X_test, y_test)"
   ]
  },
  {
   "cell_type": "markdown",
   "metadata": {},
   "source": [
    "### Support Vector Machine"
   ]
  },
  {
   "cell_type": "code",
   "execution_count": 128,
   "metadata": {},
   "outputs": [
    {
     "data": {
      "text/plain": [
       "0.7841034103410341"
      ]
     },
     "execution_count": 128,
     "metadata": {},
     "output_type": "execute_result"
    }
   ],
   "source": [
    "svc_grid_results.score(X_test, y_test)"
   ]
  },
  {
   "cell_type": "markdown",
   "metadata": {},
   "source": [
    "### Multilayer Perceptron"
   ]
  },
  {
   "cell_type": "code",
   "execution_count": 130,
   "metadata": {},
   "outputs": [
    {
     "data": {
      "text/plain": [
       "0.81003457488606"
      ]
     },
     "execution_count": 130,
     "metadata": {},
     "output_type": "execute_result"
    }
   ],
   "source": [
    "mlp_grid_results.score(X_test, y_test)"
   ]
  },
  {
   "cell_type": "code",
   "execution_count": null,
   "metadata": {},
   "outputs": [],
   "source": []
  }
 ],
 "metadata": {
  "kernelspec": {
   "display_name": "Python 3 (ipykernel)",
   "language": "python",
   "name": "python3"
  },
  "language_info": {
   "codemirror_mode": {
    "name": "ipython",
    "version": 3
   },
   "file_extension": ".py",
   "mimetype": "text/x-python",
   "name": "python",
   "nbconvert_exporter": "python",
   "pygments_lexer": "ipython3",
   "version": "3.7.6"
  }
 },
 "nbformat": 4,
 "nbformat_minor": 4
}
