{
 "cells": [
  {
   "cell_type": "markdown",
   "metadata": {
    "id": "Mo4mPflkpwde",
    "pycharm": {
     "name": "#%% md\n"
    }
   },
   "source": [
    "# Exploration and Preprocessing of Texts"
   ]
  },
  {
   "cell_type": "markdown",
   "metadata": {
    "id": "6t8naJfhpwdh",
    "pycharm": {
     "name": "#%% md\n"
    }
   },
   "source": [
    "### Libraries"
   ]
  },
  {
   "cell_type": "code",
   "execution_count": null,
   "metadata": {
    "id": "-IqcBu56pwdj",
    "pycharm": {
     "name": "#%%\n"
    }
   },
   "outputs": [],
   "source": [
    "from collections import Counter\n",
    "import html\n",
    "import matplotlib.pyplot as plt\n",
    "from nltk.collocations import BigramCollocationFinder\n",
    "from nltk.metrics import BigramAssocMeasures\n",
    "import numpy as np\n",
    "import os\n",
    "from os.path import join\n",
    "import pandas as pd\n",
    "import pickle\n",
    "import re\n",
    "from scipy import sparse\n",
    "from scipy.io import savemat, loadmat\n",
    "from sklearn.feature_extraction.text import CountVectorizer\n",
    "import string\n",
    "import time\n",
    "import unidecode\n",
    "from wordcloud import WordCloud"
   ]
  },
  {
   "cell_type": "markdown",
   "metadata": {
    "id": "BzD84F8Dpwdk"
   },
   "source": [
    "### Directories"
   ]
  },
  {
   "cell_type": "code",
   "execution_count": null,
   "metadata": {
    "id": "0r48Qo9Dpwdk",
    "pycharm": {
     "name": "#%%\n"
    }
   },
   "outputs": [],
   "source": [
    "os.chdir('/Users/M/Google_Drive/Thesis/Topic-Modeling')"
   ]
  },
  {
   "cell_type": "code",
   "execution_count": null,
   "metadata": {
    "id": "J2atDQZKpwdl",
    "pycharm": {
     "name": "#%%\n"
    }
   },
   "outputs": [],
   "source": [
    "data_dir = 'Data/Technology-Data/processed/preprocessed/'\n",
    "results_dir = 'Results/'"
   ]
  },
  {
   "cell_type": "markdown",
   "metadata": {
    "id": "nqhY5f7Hpwdm",
    "pycharm": {
     "name": "#%% md\n"
    }
   },
   "source": [
    "### Options"
   ]
  },
  {
   "cell_type": "code",
   "execution_count": null,
   "metadata": {
    "id": "Yw4lBhaOpwdn",
    "pycharm": {
     "name": "#%%\n"
    }
   },
   "outputs": [],
   "source": [
    "pd.set_option('display.width', 200)\n",
    "pd.set_option('display.max_columns', 100)\n",
    "plt.close()\n",
    "plt.interactive(True)"
   ]
  },
  {
   "cell_type": "code",
   "execution_count": null,
   "metadata": {
    "id": "1u1k0xbkpwdo"
   },
   "outputs": [],
   "source": [
    "remove_stopwords = True\n",
    "truncate_texts = False"
   ]
  },
  {
   "cell_type": "markdown",
   "metadata": {
    "id": "jouQkN2tpwdo",
    "pycharm": {
     "name": "#%% md\n"
    }
   },
   "source": [
    "### Read Data"
   ]
  },
  {
   "cell_type": "code",
   "execution_count": null,
   "metadata": {
    "id": "ogIRz5WUpwdo",
    "pycharm": {
     "name": "#%%\n"
    }
   },
   "outputs": [],
   "source": [
    "news = pd.read_csv(data_dir + 'preprocessed.csv', sep=\";\", index_col=0)\n",
    "news['year'] = news['year'].astype('int64')\n",
    "news['text_orig'] = news['text'].copy()"
   ]
  },
  {
   "cell_type": "code",
   "execution_count": null,
   "metadata": {
    "id": "WTK3hwjypwdr",
    "outputId": "64ac3470-8608-44e1-d8bc-91b89ba7ca98"
   },
   "outputs": [],
   "source": [
    "news.tail(2)"
   ]
  },
  {
   "cell_type": "markdown",
   "metadata": {
    "id": "PS3_Diiapwds",
    "pycharm": {
     "name": "#%% md\n"
    }
   },
   "source": [
    "### Read stop words\n",
    "stops.txt is publicly available, https://github.com/adjidieng/DETM/blob/master/scripts/stops.txt\n",
    "\n",
    "Because the texts are not transformed to lowercase and because some punctuation will be kept, the publicly available list of stop words is extended to account for some abbreviations and all the possible cased or uncased versions of stop words"
   ]
  },
  {
   "cell_type": "code",
   "execution_count": null,
   "metadata": {
    "id": "qIKN3Xf3pwdt",
    "pycharm": {
     "name": "#%%\n"
    }
   },
   "outputs": [],
   "source": [
    "with open('Data/Infos/stops.txt', 'r') as f:\n",
    "    stops = f.read().split('\\n')"
   ]
  },
  {
   "cell_type": "code",
   "execution_count": null,
   "metadata": {
    "id": "f99ITusDpwdt"
   },
   "outputs": [],
   "source": [
    "stops.extend(['mr', 'mrs', 'guardian', 'e.g.', 'i.e.', 'ad_hoc'])"
   ]
  },
  {
   "cell_type": "code",
   "execution_count": null,
   "metadata": {
    "id": "DKsfhWTwpwdu",
    "outputId": "a68a8c4f-49a0-4738-9732-6cfc90a26176"
   },
   "outputs": [],
   "source": [
    "len(stops)"
   ]
  },
  {
   "cell_type": "code",
   "execution_count": null,
   "metadata": {
    "id": "7-tt1NGIpwdv"
   },
   "outputs": [],
   "source": [
    "stops_upper = []\n",
    "for s in stops:\n",
    "    st_first = s[0].upper() + s[1:]\n",
    "    stops_upper.append(st_first)\n",
    "    st_all = s.upper()\n",
    "    stops_upper.append(st_all)"
   ]
  },
  {
   "cell_type": "code",
   "execution_count": null,
   "metadata": {
    "id": "6zRoX5Fupwdv"
   },
   "outputs": [],
   "source": [
    "stops = stops_upper + stops\n",
    "stops.append('*')"
   ]
  },
  {
   "cell_type": "code",
   "execution_count": null,
   "metadata": {
    "id": "OkfLzDZWpwdv",
    "outputId": "b0098cd8-5526-4a70-8750-dae32607c524"
   },
   "outputs": [],
   "source": [
    "len(stops)"
   ]
  },
  {
   "cell_type": "markdown",
   "metadata": {
    "id": "YJHnkHk_pwdw"
   },
   "source": [
    "### Unicode"
   ]
  },
  {
   "cell_type": "code",
   "execution_count": null,
   "metadata": {
    "id": "CN9xCjPdpwdx",
    "outputId": "32597d9a-a94e-4012-c3cf-36522bc05574"
   },
   "outputs": [],
   "source": [
    "print('Example: ', unidecode.unidecode(\"Crédit Suisse. François. $ £ ₤ ￡ € SFr\")) #articles[10]"
   ]
  },
  {
   "cell_type": "code",
   "execution_count": null,
   "metadata": {
    "id": "LInUyraupwd5"
   },
   "outputs": [],
   "source": [
    "monetary_pattern = '|'.join([\"£\",\"￡\",\"€\",\"$\",\"₤\",\"SFr\"])\n",
    "news['text'] = news['text'].str.replace(monetary_pattern, ' * ')"
   ]
  },
  {
   "cell_type": "code",
   "execution_count": null,
   "metadata": {
    "id": "fBs3HFgKpwd5"
   },
   "outputs": [],
   "source": [
    "def unidecode_text(text):\n",
    "    text = [w for w in text.split()]   \n",
    "    text = [unidecode.unidecode(w) for w in text]\n",
    "    return \" \".join(text)    "
   ]
  },
  {
   "cell_type": "code",
   "execution_count": null,
   "metadata": {
    "id": "kD5sAKDHpwd5",
    "outputId": "577fde9c-7f62-4b63-9d22-194b5feea3de"
   },
   "outputs": [],
   "source": [
    "unidecode_text(\"Crédit Suisse. François. $8 £ ₤ ￡ € SFr\")"
   ]
  },
  {
   "cell_type": "code",
   "execution_count": null,
   "metadata": {
    "id": "RTdTeAkRpwd6"
   },
   "outputs": [],
   "source": [
    "news['text'] = news['text'].apply(unidecode_text)"
   ]
  },
  {
   "cell_type": "markdown",
   "metadata": {
    "id": "HUcQ5RQypwd7",
    "pycharm": {
     "name": "#%% md\n"
    }
   },
   "source": [
    "### Contractions"
   ]
  },
  {
   "cell_type": "code",
   "execution_count": null,
   "metadata": {
    "id": "j7FgAleTpwd7"
   },
   "outputs": [],
   "source": [
    "apostrophes = \"`\" + \"’\" + \"‘\"\n",
    "news['text'] = news['text'].str.replace('|'.join(apostrophes), \"'\")"
   ]
  },
  {
   "cell_type": "code",
   "execution_count": null,
   "metadata": {
    "id": "RSb2wj9Wpwd7"
   },
   "outputs": [],
   "source": [
    "news['text'] = news['text'].str.replace(r\"won\\'t\", \"will not\", case=False)\n",
    "news['text'] = news['text'].str.replace(r\"can\\'t\", \"can not\", case=False)\n",
    "news['text'] = news['text'].str.replace(r\"n\\'t\", \" not\", case=False)\n",
    "news['text'] = news['text'].str.replace(r\"\\'d\", \" would\", case=False)\n",
    "news['text'] = news['text'].str.replace(r\"\\'ll\", \" will\", case=False)\n",
    "news['text'] = news['text'].str.replace(r\"\\'ve\", \" have\", case=False)\n",
    "news['text'] = news['text'].str.replace(r\"\\'re\", \" are\", case=False)\n",
    "news['text'] = news['text'].str.replace(r\"\\'m\", \" am\", case=False)\n",
    "news['text'] = news['text'].str.replace(r\"\\'s\", \"\", case=False)\n",
    "news['text'] = news['text'].str.replace(r\"s\\'\", \"s\", case=False)"
   ]
  },
  {
   "cell_type": "markdown",
   "metadata": {
    "id": "NeBdMIgXpwd7",
    "pycharm": {
     "name": "#%% md\n"
    }
   },
   "source": [
    "### Punctuation"
   ]
  },
  {
   "cell_type": "code",
   "execution_count": null,
   "metadata": {
    "id": "9awi0Dbbpwd8",
    "outputId": "67240972-9817-4219-ec60-e35884a27212",
    "pycharm": {
     "name": "#%%\n"
    }
   },
   "outputs": [],
   "source": [
    "to_whitespace = '[{}]'.format(string.punctuation.replace('-','').replace('+','').replace('&','').replace('.','') + '“' + '”')\n",
    "print(to_whitespace)"
   ]
  },
  {
   "cell_type": "code",
   "execution_count": null,
   "metadata": {
    "id": "0xmMR_g-pwd9"
   },
   "outputs": [],
   "source": [
    "news['text'] = news['text'].str.replace(to_whitespace, ' * ')"
   ]
  },
  {
   "cell_type": "markdown",
   "metadata": {
    "id": "CnleM0pkpwd9"
   },
   "source": [
    "For now, only remove full stops at the end and beginning of of words and replace multips full stops by one (e.g. A.I. in fastText)"
   ]
  },
  {
   "cell_type": "code",
   "execution_count": null,
   "metadata": {
    "id": "hkn9FHsApwd-"
   },
   "outputs": [],
   "source": [
    "news['text'] = news['text'].str.replace(r'\\.+', '.', regex=True)"
   ]
  },
  {
   "cell_type": "code",
   "execution_count": null,
   "metadata": {
    "id": "8z9Tc7ejpwd-"
   },
   "outputs": [],
   "source": [
    "def remove_stops(text):\n",
    "    text = [w for w in text.split()]   \n",
    "    text = [re.sub(r'^\\.', '* ', w) for w in text]\n",
    "    text = [re.sub('\\.$', ' *', w) for w in text] \n",
    "    return \" \".join(text)"
   ]
  },
  {
   "cell_type": "code",
   "execution_count": null,
   "metadata": {
    "id": "X4EkQpI_pwd_",
    "outputId": "015f7463-240c-4ac4-ba74-c5109da58a5b"
   },
   "outputs": [],
   "source": [
    "remove_stops('.hey the.re. how are you?')"
   ]
  },
  {
   "cell_type": "code",
   "execution_count": null,
   "metadata": {
    "id": "YkoL-6-ZpweA"
   },
   "outputs": [],
   "source": [
    "news['text'] = news['text'].apply(remove_stops)"
   ]
  },
  {
   "cell_type": "markdown",
   "metadata": {
    "id": "3z8d60F3pweA"
   },
   "source": [
    "### Numbers\n",
    "- e.g., 10,000bn, 1.5m, £2"
   ]
  },
  {
   "cell_type": "code",
   "execution_count": null,
   "metadata": {
    "id": "0KQ7yM3tpweA",
    "outputId": "dd6027aa-c127-4163-bc0c-fb31d2c99fd9"
   },
   "outputs": [],
   "source": [
    "re.match(\"[^a-zA-Z]\",\"1.m\")"
   ]
  },
  {
   "cell_type": "code",
   "execution_count": null,
   "metadata": {
    "id": "7N8jHJnnpweB",
    "outputId": "c82c3161-41b5-473b-8fd7-330e93101507"
   },
   "outputs": [],
   "source": [
    "any(i.isalpha() for i in '13')"
   ]
  },
  {
   "cell_type": "code",
   "execution_count": null,
   "metadata": {
    "id": "D3v2It_YpweC"
   },
   "outputs": [],
   "source": [
    "def is_numeric(input_string):\n",
    "    return re.match('^(£|￡|€|$)*(\\d*)(\\.|\\,)*(\\d+)(p)*(m|million|bn|billion|trillion|mph|km|mps|mbps|GB|GHz|TB|kg|g|ft|in)*$', input_string)\n",
    "\n",
    "def remove_nonalpha(text):\n",
    "    text = [w if not is_numeric(w) else '*' for w in text.split()]\n",
    "    text = [w if any(i.isalpha() for i in w) else '*' for w in text]\n",
    "    return \" \".join(text)"
   ]
  },
  {
   "cell_type": "code",
   "execution_count": null,
   "metadata": {
    "id": "BFlOY3XipweC",
    "outputId": "3dae2c06-f597-4988-c40d-5aa9ac4a3967"
   },
   "outputs": [],
   "source": [
    "remove_nonalpha('Hey 2.3bn people and 33m dollars 1trillion 3GB and 11.44kg')"
   ]
  },
  {
   "cell_type": "code",
   "execution_count": null,
   "metadata": {
    "id": "9eSDxeDxpweY"
   },
   "outputs": [],
   "source": [
    "news['text'] = news['text'].apply(remove_nonalpha)"
   ]
  },
  {
   "cell_type": "markdown",
   "metadata": {
    "id": "IEhHbHgrpweZ"
   },
   "source": [
    "### Explore & and . within tokens, e.g. A.I."
   ]
  },
  {
   "cell_type": "code",
   "execution_count": null,
   "metadata": {
    "id": "NGc1bvbbpweZ",
    "outputId": "e371089c-a1db-409f-863a-64b0717fae5e"
   },
   "outputs": [],
   "source": [
    "and_words = [w for w in news['text'].str.cat(sep=' ').split() if '&' in w and len(w)>1]\n",
    "Counter(and_words).most_common(5)"
   ]
  },
  {
   "cell_type": "code",
   "execution_count": null,
   "metadata": {
    "id": "zIgEWSoNpwea",
    "outputId": "f52cfac6-a6d8-4ef8-c335-6120b0396102"
   },
   "outputs": [],
   "source": [
    "period_words = [w for w in news['text'].str.cat(sep=' ').split() if '.' in w and len(w)>1]\n",
    "Counter(period_words).most_common(5)"
   ]
  },
  {
   "cell_type": "markdown",
   "metadata": {
    "id": "HntcAvizpwed"
   },
   "source": [
    "### Explore Mixed Strings (digit + alpha)\n",
    "check out words that are a mixture of digits and alphanumeric characters, e.g. ftse500, mi5, g8, 3d, 4g, ps2, xbox360,..."
   ]
  },
  {
   "cell_type": "code",
   "execution_count": null,
   "metadata": {
    "id": "UToWA-Gepwee",
    "outputId": "fb29e70a-6a87-4c98-cc55-5362663578e9"
   },
   "outputs": [],
   "source": [
    "def is_mixed(input_string):\n",
    "    return any(char.isdigit() for char in input_string) and (any(char.isalpha() for char in input_string))\n",
    "mixed_words = [w for w in news['text'].str.cat(sep=' ').split() if is_mixed(w)]\n",
    "Counter(mixed_words).most_common(5)"
   ]
  },
  {
   "cell_type": "markdown",
   "metadata": {
    "id": "9an9NDv1pwef"
   },
   "source": [
    "### Only keep selected punctuation, a-Z and numbers within words"
   ]
  },
  {
   "cell_type": "code",
   "execution_count": null,
   "metadata": {
    "id": "uCalfA6epwef",
    "outputId": "0240f4ab-f5f2-40c0-e1f1-e31d71cbb34a"
   },
   "outputs": [],
   "source": [
    "def contains_punct(input_string):\n",
    "    return any(char in string.punctuation for char in input_string)\n",
    "punct_words = [w for w in news['text'].str.cat(sep=' ').split() if contains_punct(w) and len(w)>1]\n",
    "Counter(punct_words).most_common(5)"
   ]
  },
  {
   "cell_type": "code",
   "execution_count": null,
   "metadata": {
    "id": "fhe-6ww5pweg"
   },
   "outputs": [],
   "source": [
    "news['text'] = news['text'].str.replace('[^ \\.\\-\\+&a-zA-Z0-9]',' * ', regex=True)\n",
    "news['text'] = news['text'].apply(remove_stops)"
   ]
  },
  {
   "cell_type": "markdown",
   "metadata": {
    "id": "JNGpilKKpweh"
   },
   "source": [
    "### Explore Words containing -"
   ]
  },
  {
   "cell_type": "markdown",
   "metadata": {
    "id": "uTkNUZyTpweh"
   },
   "source": [
    "The following words actually contain a lot of information, e.g. e-commerce, Wi-Fi, self-driving. Some might be found again by bigram analysis if hyphens were replaced by ' '. Not all of them are that common, however they will later be disregarded by using min_df."
   ]
  },
  {
   "cell_type": "code",
   "execution_count": null,
   "metadata": {
    "id": "0STW-ML3pweh"
   },
   "outputs": [],
   "source": [
    "def remove_hyphens(text):\n",
    "    text = [re.sub('\\-$', ' *', w) for w in text.split()]    \n",
    "    text = [re.sub(r'^\\-', '* ', w) for w in text]\n",
    "    return \" \".join(text)"
   ]
  },
  {
   "cell_type": "code",
   "execution_count": null,
   "metadata": {
    "id": "-T2OpmSdpwei"
   },
   "outputs": [],
   "source": [
    "news['text'] = news['text'].apply(remove_hyphens)"
   ]
  },
  {
   "cell_type": "code",
   "execution_count": null,
   "metadata": {
    "id": "wwi_Lydmpwei",
    "outputId": "648de81b-6963-4d95-dda4-004049df229c"
   },
   "outputs": [],
   "source": [
    "hyphen_words = [w for w in news['text'].str.cat(sep=' ').split() if \"-\" in w]\n",
    "Counter(hyphen_words).most_common(5)"
   ]
  },
  {
   "cell_type": "markdown",
   "metadata": {
    "id": "jU8rDpY8pwej"
   },
   "source": [
    "### Explore words containing +"
   ]
  },
  {
   "cell_type": "code",
   "execution_count": null,
   "metadata": {
    "id": "y0ogykvSpwej",
    "outputId": "3a473529-7808-460f-ca9a-6c62d03bed70"
   },
   "outputs": [],
   "source": [
    "plus_words = [w for w in news['text'].str.cat(sep=' ').split() if \"+\" in w]\n",
    "Counter(plus_words).most_common(5)"
   ]
  },
  {
   "cell_type": "markdown",
   "metadata": {
    "id": "smwr4LFLpwek",
    "pycharm": {
     "is_executing": true,
     "name": "#%% md\n"
    }
   },
   "source": [
    "### Bigrams and Trigrams:\n",
    "\n",
    "To have more control over the constructed bigrams and trigrams, bigrams are first constructed and marked as such. In a next iteration, trigrams are constructed based on previously constructed bigrams. To avoid the construction of collocations of words that did not originally occur together, preceding pre-processing steps replaced removed elements by an arbitrarily chosen symbol, which could then be excluded from collocation construction."
   ]
  },
  {
   "cell_type": "markdown",
   "metadata": {
    "id": "VOcGocrCpwek"
   },
   "source": [
    "#### Bigrams"
   ]
  },
  {
   "cell_type": "markdown",
   "metadata": {
    "id": "FPgK-nfypwek"
   },
   "source": [
    "Apply a word filter based on the list of stopwords that has already been created:"
   ]
  },
  {
   "cell_type": "code",
   "execution_count": null,
   "metadata": {
    "id": "gWBgFDQApwek",
    "pycharm": {
     "name": "#%% md\n"
    }
   },
   "outputs": [],
   "source": [
    "bigram_finder = BigramCollocationFinder.from_documents(list(news['text'].str.split()))\n",
    "bigram_finder.apply_freq_filter(50)\n",
    "bigram_finder.apply_word_filter(lambda w: w in stops)"
   ]
  },
  {
   "cell_type": "code",
   "execution_count": null,
   "metadata": {
    "id": "FehkAFlOpwel",
    "pycharm": {
     "name": "#%% md\n"
    }
   },
   "outputs": [],
   "source": [
    "bi_freq_scores = bigram_finder.score_ngrams(BigramAssocMeasures.raw_freq)\n",
    "bi_likelihood_scores = bigram_finder.score_ngrams(BigramAssocMeasures.likelihood_ratio)\n",
    "bi_chisq_scores = bigram_finder.score_ngrams(BigramAssocMeasures.chi_sq)\n",
    "bi_pmi_scores = bigram_finder.score_ngrams(BigramAssocMeasures.pmi)\n",
    "bi_studentt_scores = bigram_finder.score_ngrams(BigramAssocMeasures.student_t)"
   ]
  },
  {
   "cell_type": "code",
   "execution_count": null,
   "metadata": {
    "id": "m3CyXS1ipwel",
    "pycharm": {
     "name": "#%% md\n"
    }
   },
   "outputs": [],
   "source": [
    "bigrams_freq = [' '.join(entry[0]) for entry in bi_freq_scores]\n",
    "bigrams_like = [' '.join(entry[0]) for entry in bi_likelihood_scores]\n",
    "bigrams_chisq = [' '.join(entry[0]) for entry in bi_chisq_scores]\n",
    "bigrams_pmi = [' '.join(entry[0]) for entry in bi_pmi_scores]\n",
    "bigrams_studentt = [' '.join(entry[0]) for entry in bi_studentt_scores]"
   ]
  },
  {
   "cell_type": "code",
   "execution_count": null,
   "metadata": {
    "id": "X2GLTDAXpwem"
   },
   "outputs": [],
   "source": [
    "bigrams_overview = pd.DataFrame(list(zip(bigrams_freq, bigrams_like, bigrams_chisq, bigrams_pmi, bigrams_studentt)), \n",
    "                                columns =['Frequency', 'Likelihood', 'Chi-Square', 'PMI', 'Student-t']) "
   ]
  },
  {
   "cell_type": "code",
   "execution_count": null,
   "metadata": {
    "id": "KGgYALAUpwem",
    "outputId": "f37764f1-31ae-4c00-cbff-32557c90923d"
   },
   "outputs": [],
   "source": [
    "bigrams_overview.head()"
   ]
  },
  {
   "cell_type": "code",
   "execution_count": null,
   "metadata": {
    "id": "ave9kXkTpwem"
   },
   "outputs": [],
   "source": [
    "bigrams = [b for b in bigrams_pmi[:2001] if b != 'km Eco'][:2000]"
   ]
  },
  {
   "cell_type": "code",
   "execution_count": null,
   "metadata": {
    "id": "Vr-3mO4zpwem",
    "outputId": "4ed499d8-608e-4af0-ebb1-d8126cf308fd"
   },
   "outputs": [],
   "source": [
    "[b for b in bigrams if 'United' in b]"
   ]
  },
  {
   "cell_type": "code",
   "execution_count": null,
   "metadata": {
    "id": "ShQLji1upwem",
    "outputId": "0fa82a02-c9ee-4ac4-9ab2-70b235e4b68f"
   },
   "outputs": [],
   "source": [
    "[b for b in bigrams if 'Zuckerberg' in b]"
   ]
  },
  {
   "cell_type": "code",
   "execution_count": null,
   "metadata": {
    "id": "1FT5oa5xpwen",
    "outputId": "50af3b1e-ca05-42ae-bc10-312d7111dd92"
   },
   "outputs": [],
   "source": [
    "[b for b in bigrams if 'iPod' in b]"
   ]
  },
  {
   "cell_type": "code",
   "execution_count": null,
   "metadata": {
    "id": "05CjbtoRpweo",
    "outputId": "14f88413-7cf6-4c94-f247-01f00630407c"
   },
   "outputs": [],
   "source": [
    "[b for b in bigrams if 'Eco' in b]"
   ]
  },
  {
   "cell_type": "code",
   "execution_count": null,
   "metadata": {
    "id": "N4hffvUHpweo",
    "pycharm": {
     "name": "#%% md\n"
    }
   },
   "outputs": [],
   "source": [
    "bigrams_replacements  = ['_' + w.replace(' ','_') + '_' for w in bigrams]\n",
    "bigrams_replacer = dict(zip(bigrams, bigrams_replacements))\n",
    "bigrams_replacer = {\" \" + k + \" \": \" \" + v + \" \" for k, v in bigrams_replacer.items()}"
   ]
  },
  {
   "cell_type": "code",
   "execution_count": null,
   "metadata": {
    "id": "zDZVXMRApweo",
    "outputId": "306e326c-99da-45b0-8cab-f341eafda34f",
    "pycharm": {
     "name": "#%% md\n"
    }
   },
   "outputs": [],
   "source": [
    "print('Example: \"social media\" ->', bigrams_replacer[' social media '])"
   ]
  },
  {
   "cell_type": "code",
   "execution_count": null,
   "metadata": {
    "id": "jABbgmffpwep"
   },
   "outputs": [],
   "source": [
    "def replace_bigrams(text):\n",
    "    for i, j in bigrams_replacer.items(): # note: order matters\n",
    "        text = text.replace(i, j)\n",
    "    return text"
   ]
  },
  {
   "cell_type": "code",
   "execution_count": null,
   "metadata": {
    "id": "zDq5OGZdpweq"
   },
   "outputs": [],
   "source": [
    "news['text'] = ' ' + news['text'].astype('str') + ' '\n",
    "news['text'] = news['text'].apply(replace_bigrams)"
   ]
  },
  {
   "cell_type": "markdown",
   "metadata": {
    "id": "26XCFEt3pweq"
   },
   "source": [
    "\n",
    "#### Trigrams"
   ]
  },
  {
   "cell_type": "code",
   "execution_count": null,
   "metadata": {
    "id": "iQd2rkGgpweq",
    "pycharm": {
     "name": "#%% md\n"
    }
   },
   "outputs": [],
   "source": [
    "trigram_finder = BigramCollocationFinder.from_documents(list(news['text'].str.split()))\n",
    "trigram_finder.apply_freq_filter(50)\n",
    "trigram_finder.apply_word_filter(lambda w: w in stops)"
   ]
  },
  {
   "cell_type": "code",
   "execution_count": null,
   "metadata": {
    "id": "-gVEAzyXpweq",
    "pycharm": {
     "name": "#%% md\n"
    }
   },
   "outputs": [],
   "source": [
    "tri_freq_scores = trigram_finder.score_ngrams(BigramAssocMeasures.raw_freq)\n",
    "tri_likelihood_scores = trigram_finder.score_ngrams(BigramAssocMeasures.likelihood_ratio)\n",
    "tri_chisq_scores = trigram_finder.score_ngrams(BigramAssocMeasures.chi_sq)\n",
    "tri_pmi_scores = trigram_finder.score_ngrams(BigramAssocMeasures.pmi)\n",
    "tri_studentt_scores = trigram_finder.score_ngrams(BigramAssocMeasures.student_t)"
   ]
  },
  {
   "cell_type": "code",
   "execution_count": null,
   "metadata": {
    "id": "3TzqzCmJpweq",
    "pycharm": {
     "name": "#%% md\n"
    }
   },
   "outputs": [],
   "source": [
    "trigrams_freq = [' '.join(entry[0]) for entry in tri_freq_scores if ' '.join(entry[0]).count('_') == 3]\n",
    "trigrams_like = [' '.join(entry[0]) for entry in tri_likelihood_scores if ' '.join(entry[0]).count('_') == 3]\n",
    "trigrams_chisq = [' '.join(entry[0]) for entry in tri_chisq_scores if ' '.join(entry[0]).count('_') == 3]\n",
    "trigrams_pmi = [' '.join(entry[0]) for entry in tri_pmi_scores if ' '.join(entry[0]).count('_') == 3]\n",
    "trigrams_studentt = [' '.join(entry[0]) for entry in tri_studentt_scores if ' '.join(entry[0]).count('_') == 3]"
   ]
  },
  {
   "cell_type": "code",
   "execution_count": null,
   "metadata": {
    "id": "S7cL1PXupwer"
   },
   "outputs": [],
   "source": [
    "trigrams_overview = pd.DataFrame(list(zip(trigrams_freq, trigrams_like, trigrams_chisq, trigrams_pmi, trigrams_studentt)), \n",
    "                                columns =['Frequency', 'Likelihood', 'Chi-Square', 'PMI', 'Student-t']) "
   ]
  },
  {
   "cell_type": "code",
   "execution_count": null,
   "metadata": {
    "id": "JUk3QY3xpwer",
    "outputId": "c5ecef03-f384-438f-bfcd-6146d6a4b665"
   },
   "outputs": [],
   "source": [
    "trigrams_overview.head(5)"
   ]
  },
  {
   "cell_type": "code",
   "execution_count": null,
   "metadata": {
    "id": "KGfM_n1Qpwer"
   },
   "outputs": [],
   "source": [
    "trigrams = [\" \" + t + \" \" for t in trigrams_pmi[:101] if 'km _Eco_rating_' not in t][:100]"
   ]
  },
  {
   "cell_type": "code",
   "execution_count": null,
   "metadata": {
    "id": "vgsMA1I2pwer",
    "pycharm": {
     "name": "#%% md\n"
    }
   },
   "outputs": [],
   "source": [
    "trigrams_replacements  = [' ' + w.replace(' ','') + ' ' for w in trigrams]\n",
    "trigrams_replacer = dict(zip(trigrams, trigrams_replacements))"
   ]
  },
  {
   "cell_type": "code",
   "execution_count": null,
   "metadata": {
    "id": "skbbbEgipwes"
   },
   "outputs": [],
   "source": [
    "def replace_trigrams(text):\n",
    "    for i, j in trigrams_replacer.items(): # order matters (replacement order based on PMI)\n",
    "        text = text.replace(i, j)\n",
    "    return text"
   ]
  },
  {
   "cell_type": "code",
   "execution_count": null,
   "metadata": {
    "id": "0SKlIwoZpwes"
   },
   "outputs": [],
   "source": [
    "news['text'] = news['text'].apply(replace_trigrams)"
   ]
  },
  {
   "cell_type": "code",
   "execution_count": null,
   "metadata": {
    "id": "73cVql95pwes"
   },
   "outputs": [],
   "source": [
    "news['text'] = news['text'].str.replace('_ ',' ')\n",
    "news['text'] = news['text'].str.replace(' _',' ')"
   ]
  },
  {
   "cell_type": "markdown",
   "metadata": {
    "id": "iPOhhPsTpwet",
    "pycharm": {
     "name": "#%% md\n"
    }
   },
   "source": [
    "### Stop words"
   ]
  },
  {
   "cell_type": "code",
   "execution_count": null,
   "metadata": {
    "id": "JL781ZCXpwet",
    "pycharm": {
     "name": "#%%\n"
    }
   },
   "outputs": [],
   "source": [
    "def remove_stopwords(text):\n",
    "    text = [w for w in text.split() if w not in stops]\n",
    "    return \" \".join(text)\n",
    "\n",
    "if remove_stopwords:\n",
    "    news['text'] = news['text'].apply(remove_stopwords)"
   ]
  },
  {
   "cell_type": "markdown",
   "metadata": {
    "id": "vDM9KYRipwet"
   },
   "source": [
    "### Explore Lengths of Texts"
   ]
  },
  {
   "cell_type": "code",
   "execution_count": null,
   "metadata": {
    "id": "YMjOkL7Upweu"
   },
   "outputs": [],
   "source": [
    "news['textLength'] = news['text'].str.split().str.len()"
   ]
  },
  {
   "cell_type": "code",
   "execution_count": null,
   "metadata": {
    "id": "OdjeZLl4pweu",
    "outputId": "61d38705-6987-4688-c0c1-a9d7d39f8ee2"
   },
   "outputs": [],
   "source": [
    "news['textLength'].hist(bins=100);"
   ]
  },
  {
   "cell_type": "code",
   "execution_count": null,
   "metadata": {
    "id": "5wZmy6Fvpweu",
    "outputId": "7b26da43-b0e9-4210-88db-46e3f73ecd89"
   },
   "outputs": [],
   "source": [
    "news['textLength'].describe()"
   ]
  },
  {
   "cell_type": "code",
   "execution_count": null,
   "metadata": {
    "id": "YX7Xwupspwev",
    "outputId": "c61f5c9b-604e-4c98-812e-584dcf5395ac"
   },
   "outputs": [],
   "source": [
    "news['textLength'].mode()"
   ]
  },
  {
   "cell_type": "code",
   "execution_count": null,
   "metadata": {
    "id": "pzvyLuANpwev",
    "outputId": "085bd550-7aae-43f4-8aa6-56a34ed21638"
   },
   "outputs": [],
   "source": [
    "news.loc[news['textLength']==news['textLength'].min(),['textLength','text']]"
   ]
  },
  {
   "cell_type": "markdown",
   "metadata": {
    "id": "xz-B75ijpwew"
   },
   "source": [
    "### Remove very short documents"
   ]
  },
  {
   "cell_type": "code",
   "execution_count": null,
   "metadata": {
    "id": "551ltAcQpwew",
    "outputId": "e022d702-345a-4e18-d809-99ae6c2f71ec"
   },
   "outputs": [],
   "source": [
    "news.loc[news['textLength']<=5,'text']"
   ]
  },
  {
   "cell_type": "code",
   "execution_count": null,
   "metadata": {
    "id": "42rFZ7GGpwew"
   },
   "outputs": [],
   "source": [
    "news = news.loc[news['textLength']>=10]"
   ]
  },
  {
   "cell_type": "code",
   "execution_count": null,
   "metadata": {
    "id": "bkFPhOxbpwew",
    "outputId": "eb7fad63-5968-49af-bcdd-f04cbacf0b91"
   },
   "outputs": [],
   "source": [
    "news.shape"
   ]
  },
  {
   "cell_type": "markdown",
   "metadata": {
    "id": "xFEt2hHzpwex"
   },
   "source": [
    "### Truncate Texts (if True)"
   ]
  },
  {
   "cell_type": "code",
   "execution_count": null,
   "metadata": {
    "id": "-mq2Ld-Mpwey",
    "outputId": "eb83ad05-dffd-495b-9652-701a999a1c3d"
   },
   "outputs": [],
   "source": [
    "news.head()"
   ]
  },
  {
   "cell_type": "code",
   "execution_count": null,
   "metadata": {
    "id": "IoW6lyjBpwez"
   },
   "outputs": [],
   "source": [
    "def truncate_text(text, length):\n",
    "    tokens = text.split()\n",
    "    tokens = tokens[:length]\n",
    "    tokens = ' '.join(tokens)\n",
    "    return tokens"
   ]
  },
  {
   "cell_type": "code",
   "execution_count": null,
   "metadata": {
    "id": "gbpz97OQpwe0"
   },
   "outputs": [],
   "source": [
    "if truncate_texts:\n",
    "    news['text'] = news['text'].apply(truncate_text, length=500)"
   ]
  },
  {
   "cell_type": "markdown",
   "metadata": {
    "id": "p_lBwlbcpwe1"
   },
   "source": [
    "### Explore Timestamps"
   ]
  },
  {
   "cell_type": "code",
   "execution_count": null,
   "metadata": {
    "id": "2RoDKpwhpwe1",
    "outputId": "0713cf18-4d33-4b76-abf7-24491077abf2"
   },
   "outputs": [],
   "source": [
    "news['year'].value_counts()"
   ]
  },
  {
   "cell_type": "code",
   "execution_count": null,
   "metadata": {
    "id": "uQo994oqpwe2"
   },
   "outputs": [],
   "source": [
    "news = news.sort_values(by = 'date')"
   ]
  },
  {
   "cell_type": "markdown",
   "metadata": {
    "id": "Jimjc7K6pwe2",
    "pycharm": {
     "name": "#%% md\n"
    }
   },
   "source": [
    "### Save as raw texts.txt and as news.csv"
   ]
  },
  {
   "cell_type": "code",
   "execution_count": null,
   "metadata": {
    "id": "QVPX3mzspwe2"
   },
   "outputs": [],
   "source": [
    "csv_file = os.path.join(data_dir,'news.csv')\n",
    "txt_file = os.path.join(data_dir,'texts.txt')"
   ]
  },
  {
   "cell_type": "code",
   "execution_count": null,
   "metadata": {
    "id": "xEuYLILHpwe2"
   },
   "outputs": [],
   "source": [
    "news[['id','date','year','text']].to_csv(csv_file, sep=\";\")\n",
    "\n",
    "with open(txt_file, 'w') as f:\n",
    "    for a in news['text']:\n",
    "        f.write(a + '\\n')"
   ]
  }
 ],
 "metadata": {
  "colab": {
   "collapsed_sections": [
    "6t8naJfhpwdh",
    "BzD84F8Dpwdk",
    "nqhY5f7Hpwdm",
    "jouQkN2tpwdo",
    "PS3_Diiapwds",
    "YJHnkHk_pwdw",
    "HUcQ5RQypwd7",
    "NeBdMIgXpwd7",
    "3z8d60F3pweA",
    "IEhHbHgrpweZ",
    "HntcAvizpwed",
    "9an9NDv1pwef",
    "JNGpilKKpweh",
    "jU8rDpY8pwej",
    "smwr4LFLpwek",
    "VOcGocrCpwek",
    "26XCFEt3pweq",
    "iPOhhPsTpwet",
    "vDM9KYRipwet",
    "xz-B75ijpwew",
    "xFEt2hHzpwex",
    "p_lBwlbcpwe1",
    "Jimjc7K6pwe2"
   ],
   "name": "03_Text-Prep.ipynb",
   "provenance": []
  },
  "kernelspec": {
   "display_name": "Python 3",
   "language": "python",
   "name": "python3"
  },
  "language_info": {
   "codemirror_mode": {
    "name": "ipython",
    "version": 3
   },
   "file_extension": ".py",
   "mimetype": "text/x-python",
   "name": "python",
   "nbconvert_exporter": "python",
   "pygments_lexer": "ipython3",
   "version": "3.8.3"
  }
 },
 "nbformat": 4,
 "nbformat_minor": 4
}
